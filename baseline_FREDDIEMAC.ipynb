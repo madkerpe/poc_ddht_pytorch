{
 "cells": [
  {
   "cell_type": "code",
   "execution_count": 1,
   "metadata": {},
   "outputs": [],
   "source": [
    "# import sys\n",
    "# from google.colab import drive\n",
    "\n",
    "# drive.mount('/content/gdrive', force_remount=True)\n",
    "# SRC_PATH = '/content/gdrive/MyDrive/MP FEB/Colab'\n",
    "# sys.path.append(SRC_PATH)\n",
    "\n",
    "# !pip install wandb -qqq\n",
    "# import wandb\n",
    "# wandb.login()\n",
    "\n",
    "# wandb.init(\n",
    "#     # Set the project where this run will be logged\n",
    "#     project=\"baseline_poc\", \n",
    "#     # We pass a run name (otherwise it’ll be randomly assigned, like sunshine-lollypop-10)\n",
    "#     #name=\"experiment 1\"\n",
    "#     # Track hyperparameters and run metadata\n",
    "#     #config={\n",
    "#       #\"learning_rate\": 0.02,\n",
    "#       #\"architecture\": \"CNN\",\n",
    "#       #\"dataset\": \"CIFAR-100\",\n",
    "#       #\"epochs\": 10,}\n",
    "#     )"
   ]
  },
  {
   "cell_type": "code",
   "execution_count": 2,
   "metadata": {},
   "outputs": [],
   "source": [
    "%load_ext autoreload\n",
    "%autoreload 2\n",
    "\n",
    "import dask.dataframe as dd\n",
    "import os\n",
    "import numpy as np\n",
    "import pandas as pd\n",
    "import torch\n",
    "\n",
    "import matplotlib.pyplot as plt\n",
    "%matplotlib inline\n",
    "\n",
    "DEVICE = 'cuda'"
   ]
  },
  {
   "cell_type": "markdown",
   "metadata": {},
   "source": [
    "# 1. Import Dataset"
   ]
  },
  {
   "cell_type": "code",
   "execution_count": 3,
   "metadata": {},
   "outputs": [],
   "source": [
    "data_folder = str(os.getcwd()) + \"\\data\"\n",
    "\n",
    "blumenstock_types = {'LOAN_SEQUENCE_NUMBER': str, 'INT_RATE': float, 'ORIG_UPB': float, 'FICO_SCORE': float,\n",
    "                    'DTI_R': float, 'LTV_R': float, 'FIRST_PAYMENT_DATE': str, 'BAL_REPAID': float, 'T_ACT_12M': float, 'T_DEL_30D': float, \n",
    "                    'T_DEL_60D': float, 'LABEL': float, 'REMAINING_MONTHS_TO_LEGAL_MATURITY': float, \"TIME_TO_EVENT\": float, 'TOTAL_OBSERVED_LENGTH': float}\n",
    "\n",
    "\n",
    "df_blumenstock = dd.read_parquet(data_folder + \"./blumenstock_labeled_sample_orig_*.parquet.gzip\")\n",
    "df_blumenstock = df_blumenstock.astype(blumenstock_types)"
   ]
  },
  {
   "cell_type": "code",
   "execution_count": 5,
   "metadata": {},
   "outputs": [
    {
     "name": "stdout",
     "output_type": "stream",
     "text": [
      "torch.Size([256, 1, 10])\n",
      "torch.Size([256, 1])\n",
      "torch.Size([256, 1])\n",
      "torch.Size([256, 1])\n"
     ]
    }
   ],
   "source": [
    "from torch.utils.data import DataLoader\n",
    "from FREDDIEMAC_baseline_data import FREDDIEMAC_basline_dataset, FREDDIEMAC_dataloader\n",
    "\n",
    "BATCH_SIZE = 2**8\n",
    "\n",
    "frac_cases=0.5\n",
    "test_set = False\n",
    "augment = False\n",
    "data_augment_factor = 3\n",
    "random_state = 42\n",
    "\n",
    "allowed_covariates = ['INT_RATE', 'ORIG_UPB', 'FICO_SCORE', 'DTI_R','LTV_R', 'BAL_REPAID', \n",
    "                     'T_ACT_12M', 'T_DEL_30D', 'T_DEL_60D', 'REMAINING_MONTHS_TO_LEGAL_MATURITY']\n",
    "\n",
    "TIME_TO_EVENT_covariate = 'TIME_TO_EVENT'\n",
    "LABEL_covariate = 'LABEL'\n",
    "\n",
    "\n",
    "FREDDIEMAC_raw_dataset = FREDDIEMAC_basline_dataset(df_blumenstock, \n",
    "                                                    allowed_covariates,\n",
    "                                                    TIME_TO_EVENT_covariate,\n",
    "                                                    LABEL_covariate,\n",
    "                                                    frac_cases,\n",
    "                                                    random_state,\n",
    "                                                    test_set,\n",
    "                                                    augment,\n",
    "                                                    data_augment_factor)\n",
    "\n",
    "\n",
    "\n",
    "data_loader = FREDDIEMAC_dataloader(dataset=FREDDIEMAC_raw_dataset,\n",
    "                                    batch_size=BATCH_SIZE)\n",
    "\n",
    "batch_data, batch_data_length, batch_event, batch_tte = next(iter(data_loader))\n",
    "\n",
    "print(batch_data.shape)\n",
    "print(batch_data_length.shape)\n",
    "print(batch_event.shape)\n",
    "print(batch_tte.shape)"
   ]
  },
  {
   "cell_type": "markdown",
   "metadata": {},
   "source": [
    "### Data Exploration"
   ]
  },
  {
   "cell_type": "code",
   "execution_count": 11,
   "metadata": {},
   "outputs": [
    {
     "name": "stdout",
     "output_type": "stream",
     "text": [
      "batch event= 0 --- batch_data_length= 38 --- batch_tte= 38\n",
      "batch event= 0 --- batch_data_length= 100 --- batch_tte= 100\n",
      "batch event= 0 --- batch_data_length= 29 --- batch_tte= 29\n",
      "batch event= 0 --- batch_data_length= 31 --- batch_tte= 31\n",
      "batch event= 0 --- batch_data_length= 16 --- batch_tte= 16\n",
      "batch event= 0 --- batch_data_length= 16 --- batch_tte= 16\n",
      "batch event= 0 --- batch_data_length= 19 --- batch_tte= 19\n",
      "batch event= 3 --- batch_data_length= 143 --- batch_tte= 143\n",
      "batch event= 0 --- batch_data_length= 80 --- batch_tte= 80\n",
      "batch event= 0 --- batch_data_length= 20 --- batch_tte= 20\n",
      "batch event= 0 --- batch_data_length= 18 --- batch_tte= 18\n",
      "batch event= 0 --- batch_data_length= 98 --- batch_tte= 98\n",
      "batch event= 0 --- batch_data_length= 119 --- batch_tte= 119\n",
      "batch event= 0 --- batch_data_length= 97 --- batch_tte= 97\n",
      "batch event= 0 --- batch_data_length= 24 --- batch_tte= 24\n",
      "batch event= 0 --- batch_data_length= 33 --- batch_tte= 33\n"
     ]
    }
   ],
   "source": [
    "batch_data, batch_data_length, batch_event, batch_tte = next(iter(data_loader))\n",
    "\n",
    "for i in range(min(BATCH_SIZE, 16)):\n",
    "    print(\"batch event= %d --- batch_data_length= %d --- batch_tte= %d\" % (batch_event[i], batch_data_length[i], batch_tte[i]))"
   ]
  },
  {
   "cell_type": "markdown",
   "metadata": {},
   "source": [
    "# 2. Hyperparameters"
   ]
  },
  {
   "cell_type": "code",
   "execution_count": null,
   "metadata": {},
   "outputs": [],
   "source": [
    "test_poc_raw_dataset = PocDataset(num_cases=1)\n",
    "test_data_loader = DataLoader(dataset=test_poc_raw_dataset,batch_size=1,pin_memory=True)\n",
    "test_batch_data, test_batch_data_length, test_batch_event, test_tte, test_meta = next(iter(test_data_loader))"
   ]
  },
  {
   "cell_type": "markdown",
   "metadata": {},
   "source": [
    "# 3. Defining The Model"
   ]
  },
  {
   "cell_type": "code",
   "execution_count": null,
   "metadata": {},
   "outputs": [],
   "source": []
  }
 ],
 "metadata": {
  "interpreter": {
   "hash": "18e97b579e8c0e40da8e2bba439fcd59aed88dbd21d3c026977017f366946867"
  },
  "kernelspec": {
   "display_name": "Python 3.8.3 ('base')",
   "language": "python",
   "name": "python3"
  },
  "language_info": {
   "codemirror_mode": {
    "name": "ipython",
    "version": 3
   },
   "file_extension": ".py",
   "mimetype": "text/x-python",
   "name": "python",
   "nbconvert_exporter": "python",
   "pygments_lexer": "ipython3",
   "version": "3.8.3"
  },
  "orig_nbformat": 4
 },
 "nbformat": 4,
 "nbformat_minor": 2
}
