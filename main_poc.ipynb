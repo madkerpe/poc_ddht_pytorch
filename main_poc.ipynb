{
 "cells": [
  {
   "cell_type": "code",
   "execution_count": null,
   "metadata": {},
   "outputs": [],
   "source": [
    "import torch\n",
    "import numpy as np\n",
    "import pandas as pd\n",
    "\n",
    "import matplotlib.pyplot as plt\n",
    "%matplotlib inline"
   ]
  },
  {
   "cell_type": "markdown",
   "metadata": {},
   "source": [
    "# 1. Import Dataset"
   ]
  },
  {
   "cell_type": "code",
   "execution_count": null,
   "metadata": {},
   "outputs": [],
   "source": [
    "# from poc_data import PocDataset\n",
    "\n",
    "# poc_raw_dataset = PocDataset(num_cases=2**10)\n",
    "# data_loader = torch.utils.data.DataLoader(poc_raw_dataset,batch_size=128)\n",
    "# batch, event, time_to_event, _latent_variable = next(iter(data_loader))\n",
    "\n",
    "# print(batch.shape)\n",
    "# print(event.shape)\n",
    "# print(time_to_event.shape)\n",
    "# print(_latent_variable.shape)"
   ]
  },
  {
   "cell_type": "markdown",
   "metadata": {},
   "source": [
    "### Data Exploration"
   ]
  },
  {
   "cell_type": "markdown",
   "metadata": {},
   "source": []
  },
  {
   "cell_type": "code",
   "execution_count": null,
   "metadata": {},
   "outputs": [],
   "source": [
    "#Take a look at the longitudional data\n",
    "\n",
    "# plt.plot(np.array(batch[0][:int(time_to_event[0]),1]), batch[0][:int(time_to_event[0]),2])\n",
    "# plt.plot(np.array(batch[1][:int(time_to_event[1]),1]), batch[1][:int(time_to_event[1]),2])\n",
    "# plt.plot(np.array(batch[2][:int(time_to_event[2]),1]), batch[2][:int(time_to_event[2]),2])\n",
    "# plt.plot(np.array(batch[3][:int(time_to_event[3]),1]), batch[3][:int(time_to_event[3]),2])\n",
    "# plt.plot(np.array(batch[4][:int(time_to_event[4]),1]), batch[4][:int(time_to_event[4]),2])\n",
    "\n",
    "# print(event[:5])\n",
    "# print(time_to_event[:5])\n",
    "# print(_latent_variable[:5])"
   ]
  },
  {
   "cell_type": "markdown",
   "metadata": {},
   "source": [
    "# 2. Hyperparameters"
   ]
  },
  {
   "cell_type": "code",
   "execution_count": null,
   "metadata": {},
   "outputs": [],
   "source": [
    "DEVICE = 'cuda'"
   ]
  },
  {
   "cell_type": "markdown",
   "metadata": {},
   "source": [
    "# 3. Defining The Model"
   ]
  },
  {
   "cell_type": "markdown",
   "metadata": {},
   "source": [
    "# 4. Training the model"
   ]
  },
  {
   "cell_type": "code",
   "execution_count": 5,
   "metadata": {},
   "outputs": [
    {
     "name": "stdout",
     "output_type": "stream",
     "text": [
      "tensor([[ 0.0000, 19.4477,  0.4239],\n",
      "        [ 0.0000, 20.2744,  0.7448],\n",
      "        [ 0.0000, 21.1012,  0.5850],\n",
      "        [ 0.0000, 21.9279,  0.0476],\n",
      "        [ 0.0000, 22.7546, -0.5205],\n",
      "        [ 0.0000, 23.5814, -0.7527],\n",
      "        [ 0.0000, 24.4081, -0.4990],\n",
      "        [ 0.0000, 25.2348,  0.0767],\n",
      "        [ 0.0000, 26.0616,  0.6029],\n",
      "        [ 0.0000, 26.8883,  0.7400]], device='cuda:0')\n",
      "event=1, time_to_event=15, latent_variable=0.752799\n"
     ]
    },
    {
     "data": {
      "image/png": "[encoded data removed]",
      "text/plain": [
       "<Figure size 432x288 with 1 Axes>"
      ]
     },
     "metadata": {
      "needs_background": "light"
     },
     "output_type": "display_data"
    }
   ],
   "source": [
    "from poc_data import PocDataset\n",
    "\n",
    "test_poc_raw_dataset = PocDataset(num_cases=1)\n",
    "test_data_loader = torch.utils.data.DataLoader(test_poc_raw_dataset,batch_size=1)\n",
    "test_batch, test_event, test_time_to_event, test_latent_variable = next(iter(test_data_loader))\n",
    "test_batch = test_batch.to(DEVICE)\n",
    "\n",
    "plt.plot(np.array(test_batch.cpu()[0][:int(test_time_to_event[0]),1]), test_batch.cpu()[0][:int(test_time_to_event[0]),2])\n",
    "print(test_batch[0,:10])\n",
    "print(\"event=%d, time_to_event=%d, latent_variable=%f\" % (test_event.item(), test_time_to_event.item(), test_latent_variable.item()))"
   ]
  },
  {
   "cell_type": "code",
   "execution_count": 6,
   "metadata": {},
   "outputs": [],
   "source": [
    "from torch.nn import MSELoss\n",
    "from tqdm import trange, tqdm\n",
    "\n",
    "from torch.optim import Adam\n",
    "from torch.utils.tensorboard import SummaryWriter\n",
    "\n",
    "from dynamicDeepHit import EncoderRNN, AttnDecoderRNN, RegressionNetwork, CauseSpecificSubnetwork\n",
    "from losses import loss_1\n",
    "\n",
    "#poc_raw_dataset = PocDataset(num_cases=2**5)\n",
    "data_loader = torch.utils.data.DataLoader(test_poc_raw_dataset,batch_size=1)\n",
    "\n",
    "NUM_EPOCHS = 350\n",
    "\n",
    "LEARNING_RATE_ENCODER = 0.001\n",
    "LEARNING_RATE_DECODER = 0.001\n",
    "LEARNING_RATE_REGRESS = 0.001\n",
    "LEARNING_RATE_CAUSESS = 0.0005\n",
    "\n",
    "LOSS_1_AMPLIFIER = 1\n",
    "LOSS_3_AMPLIFIER = 1\n",
    "LOSS_4_AMPLIFIER = 0\n",
    "\n",
    "input_size = 3\n",
    "output_size = input_size\n",
    "MAX_LENGTH = 20\n",
    "NUM_CAUSES = 2\n",
    "hidden_size_encoder = 128\n",
    "hidden_size_regress = 128\n",
    "fc_size_encoder = 256\n",
    "\n",
    "# initialize model\n",
    "encoder = EncoderRNN(input_size, hidden_size_encoder, fc_size_encoder).to(DEVICE)\n",
    "decoder = AttnDecoderRNN(hidden_size_encoder, output_size, MAX_LENGTH).to(DEVICE)\n",
    "#regress = RegressionNetwork(hidden_size_encoder, hidden_size_regress).to(DEVICE)\n",
    "causess = CauseSpecificSubnetwork(hidden_size_encoder, input_size, MAX_LENGTH, NUM_CAUSES).to(DEVICE)\n",
    "\n",
    "# intialize optimizer\n",
    "optimizer_encoder = Adam(encoder.parameters(), lr=LEARNING_RATE_ENCODER)\n",
    "optimizer_decoder = Adam(decoder.parameters(), lr=LEARNING_RATE_DECODER)\n",
    "#optimizer_regress = Adam(regress.parameters(), lr=LEARNING_RATE_REGRESS)\n",
    "optimizer_causess = Adam(causess.parameters(), lr=LEARNING_RATE_CAUSESS)\n",
    " \n",
    "# initialize loss\n",
    "mse_loss = MSELoss()\n",
    "writer = SummaryWriter()"
   ]
  },
  {
   "cell_type": "code",
   "execution_count": 7,
   "metadata": {},
   "outputs": [
    {
     "name": "stdout",
     "output_type": "stream",
     "text": [
      "tensor([[ 0.0888,  0.0204, -0.0288],\n",
      "        [ 0.0814,  0.0299, -0.0114],\n",
      "        [ 0.0796,  0.0329, -0.0066],\n",
      "        [ 0.0775,  0.0354, -0.0043],\n",
      "        [ 0.0751,  0.0373, -0.0026],\n",
      "        [ 0.0733,  0.0388, -0.0018],\n",
      "        [ 0.0727,  0.0406, -0.0009],\n",
      "        [ 0.0732,  0.0431,  0.0004],\n",
      "        [ 0.0740,  0.0456,  0.0019],\n",
      "        [ 0.0738,  0.0473,  0.0038]], device='cuda:0')\n",
      "event=1, time_to_event=15, latent_variable=0.752799\n"
     ]
    },
    {
     "data": {
      "image/png": "[encoded data removed]",
      "text/plain": [
       "<Figure size 432x288 with 1 Axes>"
      ]
     },
     "metadata": {
      "needs_background": "light"
     },
     "output_type": "display_data"
    }
   ],
   "source": [
    "test_encoder_hidden_vector = torch.zeros(MAX_LENGTH, encoder.hidden_size, device=DEVICE)\n",
    "test_encoder_output_vector = torch.zeros(MAX_LENGTH, encoder.input_size, device=DEVICE)\n",
    "test_encoder_hidden = encoder.initHidden(device=DEVICE)\n",
    "\n",
    "for ei in range(test_batch.size(1)):\n",
    "        test_encoder_input = test_batch[0][ei].view(1,1,-1)\n",
    "        test_encoder_output, test_encoder_hidden = encoder(test_encoder_input, test_encoder_hidden)\n",
    "        test_encoder_output_vector[ei] = test_encoder_output\n",
    "\n",
    "test_last_measurement = test_batch[0][ei]\n",
    "test_context_vector = decoder(test_last_measurement, test_encoder_hidden_vector)\n",
    "#test_estimated_latent_variable = regress(test_context_vector)\n",
    "test_first_hitting_time = causess(test_context_vector, test_last_measurement)\n",
    "\n",
    "test_encoder_output_vector = test_encoder_output_vector.unsqueeze(0).detach()\n",
    "plt.plot(np.array(test_encoder_output_vector.cpu()[0][0:10,1]), test_encoder_output_vector.cpu()[0][0:10,2])\n",
    "print(test_encoder_output_vector[0,:10])\n",
    "print(\"event=%d, time_to_event=%d, latent_variable=%f\" % (test_event.item(), test_time_to_event.item(), test_latent_variable.item()))\n",
    "#print(\"real lv was %f, we estimated %f\" % (test_latent_variable.item(), test_estimated_latent_variable.item()))"
   ]
  },
  {
   "cell_type": "code",
   "execution_count": 8,
   "metadata": {},
   "outputs": [
    {
     "data": {
      "text/plain": [
       "<BarContainer object of 40 artists>"
      ]
     },
     "execution_count": 8,
     "metadata": {},
     "output_type": "execute_result"
    },
    {
     "data": {
      "image/png": "[encoded data removed]",
      "text/plain": [
       "<Figure size 432x288 with 1 Axes>"
      ]
     },
     "metadata": {
      "needs_background": "light"
     },
     "output_type": "display_data"
    }
   ],
   "source": [
    "\n",
    "plt.bar([i for i in range(test_first_hitting_time.size(1))], test_first_hitting_time.squeeze().cpu().detach().numpy())\n",
    "plt.ylim([0,1])"
   ]
  },
  {
   "cell_type": "code",
   "execution_count": 9,
   "metadata": {},
   "outputs": [
    {
     "name": "stderr",
     "output_type": "stream",
     "text": [
      "100%|██████████| 250/250 [00:11<00:00, 22.23it/s]"
     ]
    },
    {
     "name": "stdout",
     "output_type": "stream",
     "text": [
      "av_epoch_train_loss= 43.32832336425781\n"
     ]
    },
    {
     "name": "stderr",
     "output_type": "stream",
     "text": [
      "\n"
     ]
    }
   ],
   "source": [
    "# start training\n",
    "for epoch in trange(NUM_EPOCHS):\n",
    "\n",
    "  epoch_loss = 0\n",
    "\n",
    "  optimizer_encoder.zero_grad()\n",
    "  optimizer_decoder.zero_grad()\n",
    "  #optimizer_regress.zero_grad()\n",
    "  optimizer_causess.zero_grad()\n",
    "\n",
    "  for i, data in enumerate(data_loader):\n",
    "\n",
    "    batch, event, time_to_event, _latent_variable = data\n",
    "\n",
    "    batch = batch.to(DEVICE)\n",
    "    event = event.to(DEVICE)\n",
    "    time_to_event = time_to_event.to(DEVICE)\n",
    "    _latent_variable = _latent_variable.to(DEVICE)\n",
    "\n",
    "    encoder_hidden_vector = torch.zeros(MAX_LENGTH, encoder.hidden_size, device=DEVICE)\n",
    "    encoder_output_vector = torch.zeros(MAX_LENGTH, encoder.input_size, device=DEVICE)\n",
    "    encoder_hidden = encoder.initHidden(device=DEVICE)\n",
    "\n",
    "    for ei in range(batch.size(1)):\n",
    "        encoder_input = batch[0][ei].view(1,1,-1)\n",
    "        encoder_output, encoder_hidden = encoder(encoder_input, encoder_hidden)\n",
    "        encoder_hidden_vector[ei] = encoder_hidden[0,0]\n",
    "        encoder_output_vector[ei] = encoder_output\n",
    "\n",
    "    last_measurement = batch[0][ei]\n",
    "    context_vector = decoder(last_measurement, encoder_hidden_vector)\n",
    "    #estimated_latent_variable = regress(context_vector)\n",
    "    first_hitting_time = causess(context_vector, last_measurement)\n",
    "\n",
    "    loss1 = loss_1(first_hitting_time, event, time_to_event, MAX_LENGTH)\n",
    "    loss3 = mse_loss(encoder_output_vector[:-1], batch.detach().squeeze(0)[1:])\n",
    "    loss4 = 0\n",
    "    #loss4 = mse_loss(estimated_latent_variable, _latent_variable)\n",
    "\n",
    "    epoch_loss += LOSS_1_AMPLIFIER*loss1 + LOSS_3_AMPLIFIER*loss3 + LOSS_4_AMPLIFIER*loss4\n",
    "\n",
    "  writer.add_scalar('loss1', loss1.item(), epoch*len(data_loader) + i)\n",
    "  writer.add_scalar('loss3', loss3.item(), epoch*len(data_loader) + i)\n",
    "  writer.add_scalar('loss4', loss4, epoch*len(data_loader) + i)\n",
    "  writer.add_scalar('loss_epoch', epoch_loss.item(), epoch)\n",
    "\n",
    "  epoch_loss.backward()\n",
    "\n",
    "  optimizer_encoder.step()\n",
    "  #optimizer_decoder.step()\n",
    "  #optimizer_causess.step()\n",
    "  \n",
    "print(\"av_epoch_train_loss=\", epoch_loss.item()/len(data_loader))"
   ]
  },
  {
   "cell_type": "code",
   "execution_count": 17,
   "metadata": {},
   "outputs": [
    {
     "name": "stdout",
     "output_type": "stream",
     "text": [
      "tensor([[ 0.0000, 19.4477,  0.4239],\n",
      "        [ 0.0000, 20.2744,  0.7448],\n",
      "        [ 0.0000, 21.1012,  0.5850],\n",
      "        [ 0.0000, 21.9279,  0.0476],\n",
      "        [ 0.0000, 22.7546, -0.5205],\n",
      "        [ 0.0000, 23.5814, -0.7527],\n",
      "        [ 0.0000, 24.4081, -0.4990],\n",
      "        [ 0.0000, 25.2348,  0.0767],\n",
      "        [ 0.0000, 26.0616,  0.6029],\n",
      "        [ 0.0000, 26.8883,  0.7400]], device='cuda:0')\n",
      "event=1, time_to_event=15, latent_variable=0.752799\n"
     ]
    },
    {
     "data": {
      "image/png": "[encoded data removed]",
      "text/plain": [
       "<Figure size 432x288 with 1 Axes>"
      ]
     },
     "metadata": {
      "needs_background": "light"
     },
     "output_type": "display_data"
    }
   ],
   "source": [
    "test_batch, test_event, test_time_to_event, test_latent_variable = next(iter(test_data_loader))\n",
    "test_batch = test_batch.to(DEVICE)\n",
    "\n",
    "plt.plot(np.array(test_batch.cpu()[0][:int(test_time_to_event[0]),1]), test_batch.cpu()[0][:int(test_time_to_event[0]),2])\n",
    "print(test_batch[0,:10])\n",
    "print(\"event=%d, time_to_event=%d, latent_variable=%f\" % (test_event.item(), test_time_to_event.item(), test_latent_variable.item()))"
   ]
  },
  {
   "cell_type": "code",
   "execution_count": 18,
   "metadata": {},
   "outputs": [
    {
     "name": "stdout",
     "output_type": "stream",
     "text": [
      "tensor([[ 4.9846e-02,  2.1436e+01,  1.3421e-01],\n",
      "        [ 1.0109e-01,  2.0387e+01, -4.4219e-02],\n",
      "        [ 6.4876e-02,  2.3739e+01, -2.9179e-02],\n",
      "        [ 4.5843e-02,  2.6562e+01, -4.2504e-03],\n",
      "        [ 4.6298e-02,  2.7326e+01, -5.7884e-03],\n",
      "        [ 5.3613e-02,  2.7111e+01, -2.0992e-02],\n",
      "        [ 5.5611e-02,  2.7091e+01, -2.9438e-02],\n",
      "        [ 4.8936e-02,  2.7778e+01, -2.1033e-02],\n",
      "        [ 4.2221e-02,  2.8595e+01, -9.6494e-03],\n",
      "        [ 4.1386e-02,  2.9031e+01, -6.0755e-03]], device='cuda:0')\n",
      "event=1, time_to_event=15, latent_variable=0.752799\n"
     ]
    },
    {
     "data": {
      "image/png": "[encoded data removed]",
      "text/plain": [
       "<Figure size 432x288 with 1 Axes>"
      ]
     },
     "metadata": {
      "needs_background": "light"
     },
     "output_type": "display_data"
    }
   ],
   "source": [
    "test_encoder_hidden_vector = torch.zeros(MAX_LENGTH, encoder.hidden_size, device=DEVICE)\n",
    "test_encoder_output_vector = torch.zeros(MAX_LENGTH, encoder.input_size, device=DEVICE)\n",
    "test_encoder_hidden = encoder.initHidden(device=DEVICE)\n",
    "\n",
    "for ei in range(test_batch.size(1)):\n",
    "        test_encoder_input = test_batch[0][ei].view(1,1,-1)\n",
    "        test_encoder_output, test_encoder_hidden = encoder(test_encoder_input, test_encoder_hidden)\n",
    "        test_encoder_output_vector[ei] = test_encoder_output\n",
    "\n",
    "test_last_measurement = test_batch[0][ei]\n",
    "test_context_vector = decoder(test_last_measurement, test_encoder_hidden_vector)\n",
    "#test_estimated_latent_variable = regress(test_context_vector)\n",
    "test_first_hitting_time = causess(test_context_vector, test_last_measurement)\n",
    "\n",
    "test_encoder_output_vector = test_encoder_output_vector.unsqueeze(0).detach()\n",
    "plt.plot(np.array(test_encoder_output_vector.cpu()[0][0:23,1]), test_encoder_output_vector.cpu()[0][0:23,2])\n",
    "print(test_encoder_output_vector[0,:10])\n",
    "#print(\"real lv was %f, we estimated %f\" % (test_latent_variable.item(), test_estimated_latent_variable.item()))\n",
    "print(\"event=%d, time_to_event=%d, latent_variable=%f\" % (test_event.item(), test_time_to_event.item(), test_latent_variable.item()))"
   ]
  },
  {
   "cell_type": "code",
   "execution_count": 12,
   "metadata": {},
   "outputs": [
    {
     "data": {
      "text/plain": [
       "<BarContainer object of 40 artists>"
      ]
     },
     "execution_count": 12,
     "metadata": {},
     "output_type": "execute_result"
    },
    {
     "data": {
      "image/png": "[encoded data removed]",
      "text/plain": [
       "<Figure size 432x288 with 1 Axes>"
      ]
     },
     "metadata": {
      "needs_background": "light"
     },
     "output_type": "display_data"
    }
   ],
   "source": [
    "plt.bar([i for i in range(test_first_hitting_time.size(1))], test_first_hitting_time.squeeze().cpu().detach().numpy())"
   ]
  },
  {
   "cell_type": "code",
   "execution_count": 13,
   "metadata": {},
   "outputs": [
    {
     "data": {
      "text/plain": [
       "(0.0, 1.0)"
      ]
     },
     "execution_count": 13,
     "metadata": {},
     "output_type": "execute_result"
    },
    {
     "data": {
      "image/png": "[encoded data removed]",
      "text/plain": [
       "<Figure size 432x288 with 1 Axes>"
      ]
     },
     "metadata": {
      "needs_background": "light"
     },
     "output_type": "display_data"
    }
   ],
   "source": [
    "plt.bar([i for i in range(MAX_LENGTH)], torch.cumsum(test_first_hitting_time.squeeze()[:MAX_LENGTH], dim=0).cpu().detach().numpy())\n",
    "plt.ylim([0,1])"
   ]
  },
  {
   "cell_type": "code",
   "execution_count": 14,
   "metadata": {},
   "outputs": [
    {
     "data": {
      "text/plain": [
       "(0.0, 1.0)"
      ]
     },
     "execution_count": 14,
     "metadata": {},
     "output_type": "execute_result"
    },
    {
     "data": {
      "image/png": "[encoded data removed]",
      "text/plain": [
       "<Figure size 432x288 with 1 Axes>"
      ]
     },
     "metadata": {
      "needs_background": "light"
     },
     "output_type": "display_data"
    }
   ],
   "source": [
    "plt.bar([i for i in range(MAX_LENGTH)], torch.cumsum(test_first_hitting_time.squeeze()[MAX_LENGTH:], dim=0).cpu().detach().numpy())\n",
    "plt.ylim([0,1])"
   ]
  },
  {
   "cell_type": "markdown",
   "metadata": {},
   "source": [
    "# 4. Validating The Model"
   ]
  },
  {
   "cell_type": "code",
   "execution_count": 15,
   "metadata": {},
   "outputs": [
    {
     "data": {
      "text/plain": [
       "CauseSpecificSubnetwork(\n",
       "  (layer1): Linear(in_features=131, out_features=256, bias=True)\n",
       "  (layer2): Linear(in_features=256, out_features=128, bias=True)\n",
       "  (layer3): Linear(in_features=128, out_features=64, bias=True)\n",
       "  (layer4): Linear(in_features=64, out_features=40, bias=True)\n",
       ")"
      ]
     },
     "execution_count": 15,
     "metadata": {},
     "output_type": "execute_result"
    }
   ],
   "source": [
    "from poc_data import PocDataset\n",
    "\n",
    "val_poc_raw_dataset = PocDataset(num_cases=2**5)\n",
    "val_data_loader = torch.utils.data.DataLoader(val_poc_raw_dataset,batch_size=1)\n",
    "val_batch, val_event, val_time_to_event, val_latent_variable = next(iter(val_data_loader))\n",
    "val_batch = val_batch.to(DEVICE)\n",
    "\n",
    "encoder.eval()\n",
    "decoder.eval()\n",
    "#regress.eval()\n",
    "causess.eval()"
   ]
  },
  {
   "cell_type": "code",
   "execution_count": 16,
   "metadata": {},
   "outputs": [
    {
     "name": "stdout",
     "output_type": "stream",
     "text": [
      "loss1= 3.6521964073181152\n",
      "loss2= 0.0\n",
      "loss3= 72.98698425292969\n"
     ]
    }
   ],
   "source": [
    "loss1 = 0\n",
    "loss2 = 0\n",
    "loss3 = 0\n",
    "epoch_loss = 0\n",
    "\n",
    "for i, data in enumerate(val_data_loader):\n",
    "\n",
    "    batch, event, time_to_event, _latent_variable = data\n",
    "\n",
    "    batch = batch.to(DEVICE)\n",
    "    event = event.to(DEVICE)\n",
    "    time_to_event = time_to_event.to(DEVICE)\n",
    "    _latent_variable = _latent_variable.to(DEVICE)\n",
    "\n",
    "    encoder_hidden_vector = torch.zeros(MAX_LENGTH, encoder.hidden_size, device=DEVICE)\n",
    "    encoder_output_vector = torch.zeros(MAX_LENGTH, encoder.input_size, device=DEVICE)\n",
    "    encoder_hidden = encoder.initHidden(device=DEVICE)\n",
    "\n",
    "    for ei in range(batch.size(1)):\n",
    "        encoder_input = batch[0][ei].view(1,1,-1)\n",
    "        encoder_output, encoder_hidden = encoder(encoder_input, encoder_hidden)\n",
    "        encoder_hidden_vector[ei] = encoder_hidden[0,0]\n",
    "        encoder_output_vector[ei] = encoder_output\n",
    "\n",
    "    last_measurement = batch[0][ei]\n",
    "    context_vector = decoder(last_measurement, encoder_hidden_vector)\n",
    "    #estimated_latent_variable = regress(context_vector)\n",
    "    first_hitting_time = causess(context_vector, last_measurement)\n",
    "\n",
    "    loss1 += loss_1(first_hitting_time, event, time_to_event, MAX_LENGTH)\n",
    "    loss3 += mse_loss(encoder_output_vector[:-1], batch.detach().squeeze(0)[1:])\n",
    "    #loss4 += mse_loss(estimated_latent_variable, _latent_variable)\n",
    "\n",
    "print(\"loss1=\", loss1.item()/len(val_data_loader))\n",
    "print(\"loss2=\", loss2/len(val_data_loader))\n",
    "print(\"loss3=\", loss3.item()/len(val_data_loader))"
   ]
  },
  {
   "cell_type": "markdown",
   "metadata": {},
   "source": [
    "loss1 record = 3.6\n",
    "loss3 record = 13.9"
   ]
  },
  {
   "cell_type": "markdown",
   "metadata": {},
   "source": []
  }
 ],
 "metadata": {
  "interpreter": {
   "hash": "74ec5ca08bfb44a36ce5e8b7da111ffe3399745a8eaaaa6b64ec7ab8258a6e42"
  },
  "kernelspec": {
   "display_name": "Python 3.7.9 64-bit ('py37': conda)",
   "name": "python3"
  },
  "language_info": {
   "codemirror_mode": {
    "name": "ipython",
    "version": 3
   },
   "file_extension": ".py",
   "mimetype": "text/x-python",
   "name": "python",
   "nbconvert_exporter": "python",
   "pygments_lexer": "ipython3",
   "version": "3.8.3"
  },
  "orig_nbformat": 4
 },
 "nbformat": 4,
 "nbformat_minor": 2
}
