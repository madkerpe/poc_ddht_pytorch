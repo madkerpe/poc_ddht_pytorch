{
 "cells": [
  {
   "cell_type": "code",
   "execution_count": 1,
   "metadata": {},
   "outputs": [],
   "source": [
    "import torch\n",
    "import numpy as np\n",
    "import pandas as pd\n",
    "\n",
    "import matplotlib.pyplot as plt\n",
    "%matplotlib inline"
   ]
  },
  {
   "cell_type": "markdown",
   "metadata": {},
   "source": [
    "# 1. Import Dataset"
   ]
  },
  {
   "cell_type": "code",
   "execution_count": 2,
   "metadata": {},
   "outputs": [],
   "source": [
    "# from poc_data import PocDataset\n",
    "\n",
    "# poc_raw_dataset = PocDataset(num_cases=2**10)\n",
    "# data_loader = torch.utils.data.DataLoader(poc_raw_dataset,batch_size=128)\n",
    "# batch, event, time_to_event, _latent_variable = next(iter(data_loader))\n",
    "\n",
    "# print(batch.shape)\n",
    "# print(event.shape)\n",
    "# print(time_to_event.shape)\n",
    "# print(_latent_variable.shape)"
   ]
  },
  {
   "cell_type": "markdown",
   "metadata": {},
   "source": [
    "### Data Exploration"
   ]
  },
  {
   "cell_type": "markdown",
   "metadata": {},
   "source": []
  },
  {
   "cell_type": "code",
   "execution_count": 3,
   "metadata": {},
   "outputs": [],
   "source": [
    "#Take a look at the longitudional data\n",
    "\n",
    "# plt.plot(np.array(batch[0][:int(time_to_event[0]),1]), batch[0][:int(time_to_event[0]),2])\n",
    "# plt.plot(np.array(batch[1][:int(time_to_event[1]),1]), batch[1][:int(time_to_event[1]),2])\n",
    "# plt.plot(np.array(batch[2][:int(time_to_event[2]),1]), batch[2][:int(time_to_event[2]),2])\n",
    "# plt.plot(np.array(batch[3][:int(time_to_event[3]),1]), batch[3][:int(time_to_event[3]),2])\n",
    "# plt.plot(np.array(batch[4][:int(time_to_event[4]),1]), batch[4][:int(time_to_event[4]),2])\n",
    "\n",
    "# print(event[:5])\n",
    "# print(time_to_event[:5])\n",
    "# print(_latent_variable[:5])"
   ]
  },
  {
   "cell_type": "markdown",
   "metadata": {},
   "source": [
    "# 2. Hyperparameters"
   ]
  },
  {
   "cell_type": "code",
   "execution_count": 4,
   "metadata": {},
   "outputs": [],
   "source": [
    "DEVICE = 'cuda'"
   ]
  },
  {
   "cell_type": "markdown",
   "metadata": {},
   "source": [
    "# 3. Defining The Model"
   ]
  },
  {
   "cell_type": "markdown",
   "metadata": {},
   "source": [
    "# 4. Training the model"
   ]
  },
  {
   "cell_type": "code",
   "execution_count": 5,
   "metadata": {},
   "outputs": [
    {
     "name": "stdout",
     "output_type": "stream",
     "text": [
      "tensor([[ 0.0000, 18.4168, -0.3087],\n",
      "        [ 0.0000, 19.2435,  0.2825],\n",
      "        [ 0.0000, 20.0703,  0.6914],\n",
      "        [ 0.0000, 20.8970,  0.6540],\n",
      "        [ 0.0000, 21.7237,  0.1945],\n",
      "        [ 0.0000, 22.5505, -0.3906],\n",
      "        [ 0.0000, 23.3772, -0.7236],\n",
      "        [ 0.0000, 24.2039, -0.5895],\n",
      "        [ 0.0000, 25.0307, -0.0750],\n",
      "        [ 0.0000, 25.8574,  0.4879]], device='cuda:0')\n",
      "event=1, time_to_event=14, latent_variable=0.736079\n"
     ]
    },
    {
     "data": {
      "image/png": "[encoded data removed]",
      "text/plain": [
       "<Figure size 432x288 with 1 Axes>"
      ]
     },
     "metadata": {
      "needs_background": "light"
     },
     "output_type": "display_data"
    }
   ],
   "source": [
    "from poc_data import PocDataset\n",
    "\n",
    "test_poc_raw_dataset = PocDataset(num_cases=1)\n",
    "test_data_loader = torch.utils.data.DataLoader(test_poc_raw_dataset,batch_size=1)\n",
    "test_batch, test_event, test_time_to_event, test_latent_variable = next(iter(test_data_loader))\n",
    "test_batch = test_batch.to(DEVICE)\n",
    "test_event = test_event.to(DEVICE)\n",
    "test_time_to_event = test_time_to_event.to(DEVICE)\n",
    "\n",
    "plt.plot(np.array(test_batch.cpu()[0][:int(test_time_to_event[0]),1]), test_batch.cpu()[0][:int(test_time_to_event[0]),2])\n",
    "print(test_batch[0,:10])\n",
    "print(\"event=%d, time_to_event=%d, latent_variable=%f\" % (test_event.item(), test_time_to_event.item(), test_latent_variable.item()))"
   ]
  },
  {
   "cell_type": "code",
   "execution_count": 6,
   "metadata": {},
   "outputs": [],
   "source": [
    "from torch.nn import MSELoss\n",
    "from tqdm import trange, tqdm\n",
    "\n",
    "from torch.optim import Adam\n",
    "from torch.utils.tensorboard import SummaryWriter\n",
    "\n",
    "from dynamicDeepHit import EncoderRNN, AttnDecoderRNN, CauseSpecificSubnetwork, DynamicDeepHit\n",
    "from losses import loss_1_batch, loss_2_batch, loss_3_batch\n",
    "\n",
    "poc_raw_dataset = PocDataset(num_cases=2**5)\n",
    "data_loader = torch.utils.data.DataLoader(poc_raw_dataset,batch_size=2**4)\n",
    "\n",
    "NUM_EPOCHS = 100\n",
    "\n",
    "LEARNING_RATE_ENCODER = 0.0001\n",
    "LEARNING_RATE_DECODER = 0.0001\n",
    "LEARNING_RATE_CAUSESS = 0.00005\n",
    "\n",
    "LOSS_1_AMPLIFIER = 1\n",
    "LOSS_2_AMPLIFIER = 1\n",
    "LOSS_3_AMPLIFIER = 1\n",
    "\n",
    "input_size = 3\n",
    "output_size = input_size\n",
    "MAX_LENGTH = 20\n",
    "NUM_CAUSES = 2\n",
    "hidden_size_encoder = 512\n",
    "hidden_size_attenti = 512\n",
    "fc_size_encoder = 512\n",
    "SIGMA = 1\n",
    "\n",
    "# initialize model\n",
    "encoder = EncoderRNN(input_size, hidden_size_encoder, fc_size_encoder).to(DEVICE)\n",
    "decoder = AttnDecoderRNN(hidden_size_encoder, hidden_size_attenti, output_size, MAX_LENGTH).to(DEVICE)\n",
    "causess = CauseSpecificSubnetwork(hidden_size_encoder, input_size, MAX_LENGTH, NUM_CAUSES).to(DEVICE)\n",
    "DDHT = DynamicDeepHit(encoder, decoder, causess, MAX_LENGTH, DEVICE)\n",
    "\n",
    "# intialize optimizer\n",
    "optimizer_encoder = Adam(encoder.parameters(), lr=LEARNING_RATE_ENCODER)\n",
    "optimizer_decoder = Adam(decoder.parameters(), lr=LEARNING_RATE_DECODER)\n",
    "optimizer_causess = Adam(causess.parameters(), lr=LEARNING_RATE_CAUSESS)\n",
    " \n",
    "# initialize loss\n",
    "mse_loss = MSELoss()\n",
    "writer = SummaryWriter()"
   ]
  },
  {
   "cell_type": "code",
   "execution_count": null,
   "metadata": {},
   "outputs": [],
   "source": [
    "# start training\n",
    "for epoch in trange(NUM_EPOCHS):\n",
    "\n",
    "  epoch_loss = 0\n",
    "\n",
    "  for batch_number, data in enumerate(data_loader):\n",
    "\n",
    "    batch_loss = 0\n",
    "\n",
    "    optimizer_encoder.zero_grad()\n",
    "    optimizer_decoder.zero_grad()\n",
    "    optimizer_causess.zero_grad()\n",
    "\n",
    "    input_batch, event_batch, time_to_event_batch, _ = data\n",
    "    input_batch = input_batch.to(DEVICE)\n",
    "    event_batch = event_batch.to(DEVICE)\n",
    "    time_to_event_batch = time_to_event_batch.to(DEVICE)\n",
    "\n",
    "    output_batch, first_hitting_time_batch = DDHT(input_batch, time_to_event_batch)\n",
    "\n",
    "    loss1 = loss_1_batch(first_hitting_time_batch, event_batch, time_to_event_batch, MAX_LENGTH)\n",
    "    loss2 = loss_2_batch(first_hitting_time_batch, event_batch, time_to_event_batch, NUM_CAUSES, MAX_LENGTH, SIGMA)\n",
    "    loss3 = loss_3_batch(output_batch, input_batch.detach())\n",
    "\n",
    "    batch_loss = loss1 + loss2 + loss3\n",
    "\n",
    "    batch_loss.backward()\n",
    "\n",
    "    epoch_loss += batch_loss.detach()\n",
    "\n",
    "    writer.add_scalar('train_loss1', loss1.item(), epoch*len(data_loader) + batch_number)\n",
    "    writer.add_scalar('train_loss2', loss2.item(), epoch*len(data_loader) + batch_number)\n",
    "    writer.add_scalar('train_loss3', loss3.item(), epoch*len(data_loader) + batch_number)\n",
    "\n",
    "    optimizer_encoder.step()\n",
    "    optimizer_decoder.step()\n",
    "    optimizer_causess.step()\n",
    "\n",
    "  # validating round\n",
    "  DDHT.eval()\n",
    "\n",
    "  VAL_NUM_CASES = 2**5\n",
    "  val_loss_1 = 0\n",
    "  val_loss_3 = 0\n",
    "\n",
    "  with torch.no_grad():\n",
    "    val_poc_raw_dataset = PocDataset(num_cases=VAL_NUM_CASES)\n",
    "    val_data_loader = torch.utils.data.DataLoader(val_poc_raw_dataset,batch_size=VAL_NUM_CASES)\n",
    "    val_input_batch, val_event_batch, val_time_to_event_batch, _ = next(iter(val_data_loader))\n",
    "    val_input_batch = val_input_batch.to(DEVICE)\n",
    "    val_event_batch = val_event_batch.to(DEVICE)\n",
    "    val_time_to_event_batch = val_time_to_event_batch.to(DEVICE)\n",
    "\n",
    "    val_output_batch, val_first_hitting_time_batch = DDHT(val_input_batch, val_time_to_event_batch)\n",
    "\n",
    "    val_loss1 = loss_1_batch(val_first_hitting_time_batch, val_event_batch, val_time_to_event_batch, MAX_LENGTH)/VAL_NUM_CASES\n",
    "    val_loss2 = loss_2_batch(val_first_hitting_time_batch, val_event_batch, val_time_to_event_batch, NUM_CAUSES, MAX_LENGTH, 1)/VAL_NUM_CASES\n",
    "    val_loss3 = loss_3_batch(val_output_batch, val_input_batch.detach())/VAL_NUM_CASES\n",
    "\n",
    "    writer.add_scalar('val_loss1', val_loss1.item(), epoch)\n",
    "    writer.add_scalar('val_loss2', val_loss2.item(), epoch)\n",
    "    writer.add_scalar('val_loss3', val_loss3.item(), epoch)\n",
    "    writer.add_scalar('val_epoch_loss', val_loss1.item() + val_loss2.item() + val_loss3.item(), epoch)\n",
    "\n",
    "  DDHT.train()\n",
    "  # end validating round\n",
    "\n",
    "  writer.add_scalar('train_epoch_loss', epoch_loss.item(), epoch)\n",
    "  \n"
   ]
  },
  {
   "cell_type": "code",
   "execution_count": null,
   "metadata": {},
   "outputs": [],
   "source": [
    "DDHT.eval()\n",
    "test_encoder_output_vector, test_first_hitting_time = DDHT(test_batch, test_time_to_event)\n",
    "\n",
    "plt.plot(np.array(test_encoder_output_vector.detach().cpu()[0][:10,1]), test_encoder_output_vector.detach().cpu()[0][:10,2])\n",
    "print(test_encoder_output_vector[0,:10])\n",
    "print(\"event=%d, time_to_event=%d, latent_variable=%f\" % (test_event.item(), test_time_to_event.item(), test_latent_variable.item()))"
   ]
  },
  {
   "cell_type": "code",
   "execution_count": null,
   "metadata": {},
   "outputs": [],
   "source": [
    "plt.bar([i for i in range(test_first_hitting_time.size(1))], test_first_hitting_time.squeeze().cpu().detach().numpy())\n",
    "plt.ylim([0,1])"
   ]
  },
  {
   "cell_type": "markdown",
   "metadata": {},
   "source": [
    "# 4. Testing The Model"
   ]
  },
  {
   "cell_type": "code",
   "execution_count": null,
   "metadata": {},
   "outputs": [],
   "source": [
    "from poc_data import PocDataset\n",
    "\n",
    "VAL_NUM_CASES = 2**6\n",
    "\n",
    "val_poc_raw_dataset = PocDataset(num_cases=VAL_NUM_CASES)\n",
    "val_data_loader = torch.utils.data.DataLoader(val_poc_raw_dataset,batch_size=2**6)\n",
    "val_input_batch, val_event_batch, val_time_to_event_batch, _ = next(iter(val_data_loader))\n",
    "val_input_batch = val_input_batch.to(DEVICE)\n",
    "val_event_batch = val_event_batch.to(DEVICE)\n",
    "val_time_to_event_batch = val_time_to_event_batch.to(DEVICE)\n"
   ]
  },
  {
   "cell_type": "code",
   "execution_count": null,
   "metadata": {},
   "outputs": [],
   "source": [
    "DDHT.eval()\n",
    "\n",
    "val_output_batch, val_first_hitting_time_batch = DDHT(val_input_batch, val_time_to_event_batch)\n",
    "val_loss1 = loss_1_batch(val_first_hitting_time_batch, val_event_batch, val_time_to_event_batch, MAX_LENGTH)/VAL_NUM_CASES\n",
    "val_loss2 = loss_2_batch(val_first_hitting_time_batch, val_event_batch, val_time_to_event_batch, NUM_CAUSES, MAX_LENGTH, 1)/VAL_NUM_CASES\n",
    "val_loss3 = loss_3_batch(val_output_batch, val_input_batch.detach())/VAL_NUM_CASES\n",
    "\n",
    "\n",
    "print(\"val_loss1=\", val_loss1.item())\n",
    "print(\"val_loss2=\", val_loss2.item())\n",
    "print(\"val_loss3=\", val_loss3.item())\n"
   ]
  },
  {
   "cell_type": "markdown",
   "metadata": {},
   "source": []
  }
 ],
 "metadata": {
  "interpreter": {
   "hash": "74ec5ca08bfb44a36ce5e8b7da111ffe3399745a8eaaaa6b64ec7ab8258a6e42"
  },
  "kernelspec": {
   "display_name": "Python 3.7.9 64-bit ('py37': conda)",
   "name": "python3"
  },
  "language_info": {
   "codemirror_mode": {
    "name": "ipython",
    "version": 3
   },
   "file_extension": ".py",
   "mimetype": "text/x-python",
   "name": "python",
   "nbconvert_exporter": "python",
   "pygments_lexer": "ipython3",
   "version": "3.8.3"
  },
  "orig_nbformat": 4
 },
 "nbformat": 4,
 "nbformat_minor": 2
}
