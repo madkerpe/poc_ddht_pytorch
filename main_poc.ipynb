{
 "cells": [
  {
   "cell_type": "code",
   "execution_count": 1,
   "metadata": {},
   "outputs": [],
   "source": [
    "import torch\n",
    "import numpy as np\n",
    "import pandas as pd\n",
    "\n",
    "import matplotlib.pyplot as plt\n",
    "%matplotlib inline"
   ]
  },
  {
   "cell_type": "markdown",
   "metadata": {},
   "source": [
    "# 1. Import Dataset"
   ]
  },
  {
   "cell_type": "code",
   "execution_count": 2,
   "metadata": {},
   "outputs": [
    {
     "name": "stdout",
     "output_type": "stream",
     "text": [
      "torch.Size([128, 30, 3])\n",
      "torch.Size([128, 1])\n",
      "torch.Size([128, 1])\n",
      "torch.Size([128, 1])\n"
     ]
    }
   ],
   "source": [
    "from poc_data import PocDataset\n",
    "\n",
    "poc_raw_dataset = PocDataset(num_cases=2**10)\n",
    "data_loader = torch.utils.data.DataLoader(poc_raw_dataset,batch_size=128)\n",
    "batch, event, time_to_event, _latent_variable = next(iter(data_loader))\n",
    "\n",
    "print(batch.shape)\n",
    "print(event.shape)\n",
    "print(time_to_event.shape)\n",
    "print(_latent_variable.shape)"
   ]
  },
  {
   "cell_type": "markdown",
   "metadata": {},
   "source": [
    "### Data Exploration"
   ]
  },
  {
   "cell_type": "code",
   "execution_count": 3,
   "metadata": {},
   "outputs": [
    {
     "name": "stdout",
     "output_type": "stream",
     "text": [
      "tensor([[1.],\n",
      "        [0.],\n",
      "        [0.],\n",
      "        [0.],\n",
      "        [1.]])\n",
      "tensor([[27.],\n",
      "        [13.],\n",
      "        [15.],\n",
      "        [ 5.],\n",
      "        [23.]])\n",
      "tensor([[0.9195],\n",
      "        [0.4395],\n",
      "        [0.4979],\n",
      "        [0.1459],\n",
      "        [0.7697]])\n"
     ]
    },
    {
     "data": {
      "image/png": "[encoded data removed]",
      "text/plain": [
       "<Figure size 432x288 with 1 Axes>"
      ]
     },
     "metadata": {
      "needs_background": "light"
     },
     "output_type": "display_data"
    }
   ],
   "source": [
    "#Take a look at the longitudional data\n",
    "\n",
    "plt.plot(np.array(batch[0][:int(time_to_event[0]),1]), batch[0][:int(time_to_event[0]),2])\n",
    "plt.plot(np.array(batch[1][:int(time_to_event[1]),1]), batch[1][:int(time_to_event[1]),2])\n",
    "plt.plot(np.array(batch[2][:int(time_to_event[2]),1]), batch[2][:int(time_to_event[2]),2])\n",
    "plt.plot(np.array(batch[3][:int(time_to_event[3]),1]), batch[3][:int(time_to_event[3]),2])\n",
    "plt.plot(np.array(batch[4][:int(time_to_event[4]),1]), batch[4][:int(time_to_event[4]),2])\n",
    "\n",
    "print(event[:5])\n",
    "print(time_to_event[:5])\n",
    "print(_latent_variable[:5])"
   ]
  },
  {
   "cell_type": "markdown",
   "metadata": {},
   "source": [
    "# 2. Hyperparameters"
   ]
  },
  {
   "cell_type": "code",
   "execution_count": 4,
   "metadata": {},
   "outputs": [],
   "source": [
    "input_size = 3\n",
    "output_size = input_size\n",
    "hidden_size = 32\n",
    "MAX_LENGTH = 30"
   ]
  },
  {
   "cell_type": "markdown",
   "metadata": {},
   "source": [
    "# 3. Defining The Model"
   ]
  },
  {
   "cell_type": "code",
   "execution_count": 5,
   "metadata": {},
   "outputs": [],
   "source": [
    "from dynamicDeepHit import EncoderRNN, AttnDecoderRNN\n",
    "\n",
    "encoder = EncoderRNN(input_size, hidden_size)\n",
    "decoder = AttnDecoderRNN(hidden_size, output_size, max_length=MAX_LENGTH)"
   ]
  },
  {
   "cell_type": "code",
   "execution_count": 6,
   "metadata": {},
   "outputs": [
    {
     "name": "stdout",
     "output_type": "stream",
     "text": [
      "torch.Size([1, 30, 3])\n"
     ]
    }
   ],
   "source": [
    "from poc_data import PocDataset\n",
    "\n",
    "poc_raw_dataset = PocDataset(num_cases=2**10)\n",
    "data_loader = torch.utils.data.DataLoader(poc_raw_dataset,batch_size=1)\n",
    "batch, event, time_to_event, _latent_variable = next(iter(data_loader))\n",
    "\n",
    "\n",
    "print(batch.size())"
   ]
  },
  {
   "cell_type": "code",
   "execution_count": 7,
   "metadata": {},
   "outputs": [
    {
     "ename": "SyntaxError",
     "evalue": "invalid syntax (<ipython-input-7-061eaba1a754>, line 17)",
     "output_type": "error",
     "traceback": [
      "\u001b[1;36m  File \u001b[1;32m\"<ipython-input-7-061eaba1a754>\"\u001b[1;36m, line \u001b[1;32m17\u001b[0m\n\u001b[1;33m    print(context_vector.size())µ\u001b[0m\n\u001b[1;37m                                ^\u001b[0m\n\u001b[1;31mSyntaxError\u001b[0m\u001b[1;31m:\u001b[0m invalid syntax\n"
     ]
    }
   ],
   "source": [
    "encoder_hidden_vector = torch.zeros(MAX_LENGTH, encoder.hidden_size)\n",
    "input_length = batch.size(1)\n",
    "\n",
    "encoder_hidden = encoder.initHidden()\n",
    "\n",
    "for ei in range(input_length):\n",
    "    encoder_input = batch[0][ei].view(1,1,-1)\n",
    "    encoder_output, encoder_hidden = encoder(encoder_input, encoder_hidden)\n",
    "    encoder_hidden_vector[ei] = encoder_hidden[0,0]\n",
    "\n",
    "\n",
    "last_measurement_index = int(time_to_event.item())\n",
    "last_measurement = batch[0][ei]\n",
    "\n",
    "context_vector, attn_weights = decoder(last_measurement, encoder_hidden_vector)\n",
    "\n",
    "print(context_vector.size())\n",
    "print(attn_weights.size())\n",
    "\n"
   ]
  },
  {
   "cell_type": "code",
   "execution_count": null,
   "metadata": {},
   "outputs": [],
   "source": []
  },
  {
   "cell_type": "markdown",
   "metadata": {},
   "source": [
    "# 4. Training the model"
   ]
  },
  {
   "cell_type": "code",
   "execution_count": null,
   "metadata": {},
   "outputs": [
    {
     "ename": "NameError",
     "evalue": "name 'model' is not defined",
     "output_type": "error",
     "traceback": [
      "\u001b[1;31m---------------------------------------------------------------------------\u001b[0m",
      "\u001b[1;31mNameError\u001b[0m                                 Traceback (most recent call last)",
      "\u001b[1;32m<ipython-input-8-da4b2d4c1601>\u001b[0m in \u001b[0;36m<module>\u001b[1;34m\u001b[0m\n\u001b[0;32m     11\u001b[0m \u001b[1;33m\u001b[0m\u001b[0m\n\u001b[0;32m     12\u001b[0m \u001b[1;31m# initialize model\u001b[0m\u001b[1;33m\u001b[0m\u001b[1;33m\u001b[0m\u001b[1;33m\u001b[0m\u001b[0m\n\u001b[1;32m---> 13\u001b[1;33m \u001b[0mmodel\u001b[0m\u001b[1;33m.\u001b[0m\u001b[0mto\u001b[0m\u001b[1;33m(\u001b[0m\u001b[1;34m'cuda'\u001b[0m\u001b[1;33m)\u001b[0m\u001b[1;33m\u001b[0m\u001b[1;33m\u001b[0m\u001b[0m\n\u001b[0m\u001b[0;32m     14\u001b[0m \u001b[1;33m\u001b[0m\u001b[0m\n\u001b[0;32m     15\u001b[0m \u001b[1;31m# intialize optimizer\u001b[0m\u001b[1;33m\u001b[0m\u001b[1;33m\u001b[0m\u001b[1;33m\u001b[0m\u001b[0m\n",
      "\u001b[1;31mNameError\u001b[0m: name 'model' is not defined"
     ]
    }
   ],
   "source": [
    "\n",
    "from torch.nn import MSELoss\n",
    "from tqdm import trange\n",
    "\n",
    "from torch.optim import Adam\n",
    "from torch.utils.tensorboard import SummaryWriter\n",
    "\n",
    "NUM_EPOCHS = 100\n",
    "LEARNING_RATE = 0.001\n",
    "\n",
    "writer = SummaryWriter()\n",
    "\n",
    "# initialize model\n",
    "model.to('cuda')\n",
    " \n",
    "# intialize optimizer\n",
    "optimizer = Adam(model.parameters(), lr=LEARNING_RATE)\n",
    " \n",
    "# initialize loss\n",
    "mse_loss = MSELoss()\n",
    "\n",
    "# start training\n",
    "for epoch in trange(NUM_EPOCHS):\n",
    "\n",
    "  epoch_loss = 0\n",
    "\n",
    "  for i, data in enumerate(data_loader):\n",
    "\n",
    "    data = batch, _, _, _\n",
    "\n",
    "    # bringing batches to GPU\n",
    "    batch = batch.to('cuda')\n",
    "\n",
    "    # zero parameter gradient\n",
    "    optimizer.zero_grad()\n",
    "\n",
    "    # forward, backward, optimize\n",
    "    outputs, _ = model(batch)\n",
    "\n",
    "    # Since we use multi-loss training we have a classification target at each time step,\n",
    "    #   T different loss values for each entry in the batch\n",
    "    #     btw: https://www.youtube.com/watch?v=7q7E91pHoW4 (crossloss)\n",
    "    loss3 = mse_loss(outputs[:-1], batch.detach()[1:])\n",
    "\n",
    "    epoch_loss += loss3\n",
    "\n",
    "    loss3.backward()\n",
    "    optimizer.step()\n",
    "  \n",
    "  writer.add_scalar('Loss/Train', epoch_loss.item(), epoch)\n",
    "  print(\"av_epoch_train_loss=\", epoch_loss.item()/len(data_loader))"
   ]
  }
 ],
 "metadata": {
  "interpreter": {
   "hash": "74ec5ca08bfb44a36ce5e8b7da111ffe3399745a8eaaaa6b64ec7ab8258a6e42"
  },
  "kernelspec": {
   "display_name": "Python 3.7.9 64-bit ('py37': conda)",
   "name": "python3"
  },
  "language_info": {
   "codemirror_mode": {
    "name": "ipython",
    "version": 3
   },
   "file_extension": ".py",
   "mimetype": "text/x-python",
   "name": "python",
   "nbconvert_exporter": "python",
   "pygments_lexer": "ipython3",
   "version": "3.8.3"
  },
  "orig_nbformat": 4
 },
 "nbformat": 4,
 "nbformat_minor": 2
}
