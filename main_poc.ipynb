{
 "cells": [
  {
   "cell_type": "code",
   "execution_count": 1,
   "metadata": {},
   "outputs": [],
   "source": [
    "import torch\n",
    "import numpy as np\n",
    "import pandas as pd\n",
    "\n",
    "import matplotlib.pyplot as plt\n",
    "%matplotlib inline"
   ]
  },
  {
   "cell_type": "markdown",
   "metadata": {},
   "source": [
    "# 1. Import Dataset"
   ]
  },
  {
   "cell_type": "code",
   "execution_count": 2,
   "metadata": {},
   "outputs": [],
   "source": [
    "# from poc_data import PocDataset\n",
    "\n",
    "# poc_raw_dataset = PocDataset(num_cases=2**10)\n",
    "# data_loader = torch.utils.data.DataLoader(poc_raw_dataset,batch_size=128)\n",
    "# batch, event, time_to_event, _latent_variable = next(iter(data_loader))\n",
    "\n",
    "# print(batch.shape)\n",
    "# print(event.shape)\n",
    "# print(time_to_event.shape)\n",
    "# print(_latent_variable.shape)"
   ]
  },
  {
   "cell_type": "markdown",
   "metadata": {},
   "source": [
    "### Data Exploration"
   ]
  },
  {
   "cell_type": "markdown",
   "metadata": {},
   "source": []
  },
  {
   "cell_type": "code",
   "execution_count": 3,
   "metadata": {},
   "outputs": [],
   "source": [
    "#Take a look at the longitudional data\n",
    "\n",
    "# plt.plot(np.array(batch[0][:int(time_to_event[0]),1]), batch[0][:int(time_to_event[0]),2])\n",
    "# plt.plot(np.array(batch[1][:int(time_to_event[1]),1]), batch[1][:int(time_to_event[1]),2])\n",
    "# plt.plot(np.array(batch[2][:int(time_to_event[2]),1]), batch[2][:int(time_to_event[2]),2])\n",
    "# plt.plot(np.array(batch[3][:int(time_to_event[3]),1]), batch[3][:int(time_to_event[3]),2])\n",
    "# plt.plot(np.array(batch[4][:int(time_to_event[4]),1]), batch[4][:int(time_to_event[4]),2])\n",
    "\n",
    "# print(event[:5])\n",
    "# print(time_to_event[:5])\n",
    "# print(_latent_variable[:5])"
   ]
  },
  {
   "cell_type": "markdown",
   "metadata": {},
   "source": [
    "# 2. Hyperparameters"
   ]
  },
  {
   "cell_type": "code",
   "execution_count": 4,
   "metadata": {},
   "outputs": [],
   "source": [
    "DEVICE = 'cuda'"
   ]
  },
  {
   "cell_type": "markdown",
   "metadata": {},
   "source": [
    "# 3. Defining The Model"
   ]
  },
  {
   "cell_type": "markdown",
   "metadata": {},
   "source": [
    "# 4. Training the model"
   ]
  },
  {
   "cell_type": "code",
   "execution_count": 5,
   "metadata": {},
   "outputs": [
    {
     "name": "stdout",
     "output_type": "stream",
     "text": [
      "tensor([[ 0.0000, 17.7444, -0.6590],\n",
      "        [ 0.0000, 18.5712, -0.2027],\n",
      "        [ 0.0000, 19.3979,  0.3845],\n",
      "        [ 0.0000, 20.2247,  0.7235],\n",
      "        [ 0.0000, 21.0514,  0.5955],\n",
      "        [ 0.0000, 21.8781,  0.0832],\n",
      "        [ 0.0000, 22.7049, -0.4829],\n",
      "        [ 0.0000, 23.5316, -0.7372],\n",
      "        [ 0.0000, 24.3583, -0.5158],\n",
      "        [ 0.0000, 25.1851,  0.0386]], device='cuda:0')\n",
      "event=1, time_to_event=15, latent_variable=0.737585\n"
     ]
    },
    {
     "data": {
      "image/png": "[encoded data removed]",
      "text/plain": [
       "<Figure size 432x288 with 1 Axes>"
      ]
     },
     "metadata": {
      "needs_background": "light"
     },
     "output_type": "display_data"
    }
   ],
   "source": [
    "from poc_data import PocDataset\n",
    "\n",
    "test_poc_raw_dataset = PocDataset(num_cases=1)\n",
    "test_data_loader = torch.utils.data.DataLoader(test_poc_raw_dataset,batch_size=1)\n",
    "test_batch, test_event, test_time_to_event, test_latent_variable = next(iter(test_data_loader))\n",
    "test_batch = test_batch.to(DEVICE)\n",
    "\n",
    "plt.plot(np.array(test_batch.cpu()[0][:int(test_time_to_event[0]),1]), test_batch.cpu()[0][:int(test_time_to_event[0]),2])\n",
    "print(test_batch[0,:10])\n",
    "print(\"event=%d, time_to_event=%d, latent_variable=%f\" % (test_event.item(), test_time_to_event.item(), test_latent_variable.item()))"
   ]
  },
  {
   "cell_type": "code",
   "execution_count": 6,
   "metadata": {},
   "outputs": [],
   "source": [
    "from torch.nn import MSELoss\n",
    "from tqdm import trange, tqdm\n",
    "\n",
    "from torch.optim import Adam\n",
    "from torch.utils.tensorboard import SummaryWriter\n",
    "\n",
    "from dynamicDeepHit import EncoderRNN, AttnDecoderRNN, CauseSpecificSubnetwork, DynamicDeepHit\n",
    "from losses import loss_1\n",
    "\n",
    "poc_raw_dataset = PocDataset(num_cases=4)\n",
    "data_loader = torch.utils.data.DataLoader(poc_raw_dataset,batch_size=1)\n",
    "\n",
    "NUM_EPOCHS = 1\n",
    "\n",
    "LEARNING_RATE_ENCODER = 0.001\n",
    "LEARNING_RATE_DECODER = 0.001\n",
    "LEARNING_RATE_CAUSESS = 0.0005\n",
    "\n",
    "LOSS_1_AMPLIFIER = 1\n",
    "LOSS_3_AMPLIFIER = 1\n",
    "LOSS_4_AMPLIFIER = 0\n",
    "\n",
    "input_size = 3\n",
    "output_size = input_size\n",
    "MAX_LENGTH = 20\n",
    "NUM_CAUSES = 2\n",
    "hidden_size_encoder = 128\n",
    "hidden_size_regress = 128\n",
    "hidden_size_attenti = 128\n",
    "fc_size_encoder = 256\n",
    "\n",
    "# initialize model\n",
    "encoder = EncoderRNN(input_size, hidden_size_encoder, fc_size_encoder).to(DEVICE)\n",
    "decoder = AttnDecoderRNN(hidden_size_encoder, hidden_size_attenti, output_size, MAX_LENGTH).to(DEVICE)\n",
    "causess = CauseSpecificSubnetwork(hidden_size_encoder, input_size, MAX_LENGTH, NUM_CAUSES).to(DEVICE)\n",
    "\n",
    "# intialize optimizer\n",
    "optimizer_encoder = Adam(encoder.parameters(), lr=LEARNING_RATE_ENCODER)\n",
    "optimizer_decoder = Adam(decoder.parameters(), lr=LEARNING_RATE_DECODER)\n",
    "optimizer_causess = Adam(causess.parameters(), lr=LEARNING_RATE_CAUSESS)\n",
    " \n",
    "# initialize loss\n",
    "mse_loss = MSELoss()\n",
    "writer = SummaryWriter()"
   ]
  },
  {
   "cell_type": "code",
   "execution_count": 7,
   "metadata": {},
   "outputs": [
    {
     "name": "stderr",
     "output_type": "stream",
     "text": [
      "  0%|          | 0/1 [00:00<?, ?it/s]"
     ]
    },
    {
     "name": "stdout",
     "output_type": "stream",
     "text": [
      "torch.Size([1, 20, 3])\n"
     ]
    },
    {
     "name": "stderr",
     "output_type": "stream",
     "text": [
      "100%|██████████| 1/1 [00:00<00:00,  2.36it/s]"
     ]
    },
    {
     "name": "stdout",
     "output_type": "stream",
     "text": [
      "torch.Size([1, 20, 3])\n",
      "torch.Size([1, 20, 3])\n",
      "torch.Size([1, 20, 3])\n",
      "av_epoch_train_loss= 75.73158264160156\n"
     ]
    },
    {
     "name": "stderr",
     "output_type": "stream",
     "text": [
      "\n"
     ]
    }
   ],
   "source": [
    "# start training\n",
    "for epoch in trange(NUM_EPOCHS):\n",
    "\n",
    "  epoch_loss = 0\n",
    "\n",
    "  optimizer_encoder.zero_grad()\n",
    "  optimizer_decoder.zero_grad()\n",
    "  optimizer_causess.zero_grad()\n",
    "\n",
    "  for i, data in enumerate(data_loader):\n",
    "\n",
    "    batch, event, time_to_event, _latent_variable = data\n",
    "\n",
    "    batch = batch.to(DEVICE)\n",
    "    event = event.to(DEVICE)\n",
    "    time_to_event = time_to_event.to(DEVICE)\n",
    "    _latent_variable = _latent_variable.to(DEVICE)\n",
    "\n",
    "    encoder_hidden_vector = torch.zeros(MAX_LENGTH, encoder.hidden_size, device=DEVICE)\n",
    "    encoder_output_vector = torch.zeros(MAX_LENGTH, encoder.input_size, device=DEVICE)\n",
    "    encoder_hidden = encoder.initHidden(device=DEVICE)\n",
    "\n",
    "    last_measurement_index = int(time_to_event.item())\n",
    "    last_measurement = batch[0][last_measurement_index]\n",
    "\n",
    "    for ei in range(last_measurement_index):\n",
    "        encoder_input = batch[0][ei].view(1,1,-1)\n",
    "        encoder_output, encoder_hidden = encoder(encoder_input, encoder_hidden)\n",
    "        encoder_hidden_vector[ei] = encoder_hidden[0,0]\n",
    "        encoder_output_vector[ei] = encoder_output\n",
    "\n",
    "    context_vector = decoder(last_measurement, encoder_hidden_vector)\n",
    "    first_hitting_time = causess(context_vector, last_measurement)\n",
    "\n",
    "    loss1 = loss_1(first_hitting_time, event, time_to_event, MAX_LENGTH)\n",
    "    loss3 = mse_loss(encoder_output_vector[:-1], batch.detach().squeeze(0)[1:])\n",
    "\n",
    "    epoch_loss += LOSS_1_AMPLIFIER*loss1 + LOSS_3_AMPLIFIER*loss3\n",
    "\n",
    "  writer.add_scalar('loss1', loss1.item(), epoch*len(data_loader) + i)\n",
    "  writer.add_scalar('loss3', loss3.item(), epoch*len(data_loader) + i)\n",
    "  writer.add_scalar('loss_epoch', epoch_loss.item(), epoch)\n",
    "\n",
    "  epoch_loss.backward()\n",
    "\n",
    "  optimizer_encoder.step()\n",
    "  optimizer_decoder.step()\n",
    "  optimizer_causess.step()\n",
    "  \n",
    "print(\"av_epoch_train_loss=\", epoch_loss.item()/len(data_loader))"
   ]
  },
  {
   "cell_type": "code",
   "execution_count": 8,
   "metadata": {},
   "outputs": [
    {
     "name": "stdout",
     "output_type": "stream",
     "text": [
      "tensor([[ 0.0169,  0.0271,  0.0178],\n",
      "        [ 0.0167,  0.0644,  0.0017],\n",
      "        [ 0.0152,  0.0844, -0.0053],\n",
      "        [ 0.0132,  0.0989, -0.0107],\n",
      "        [ 0.0123,  0.1090, -0.0153],\n",
      "        [ 0.0122,  0.1182, -0.0203],\n",
      "        [ 0.0129,  0.1263, -0.0249],\n",
      "        [ 0.0133,  0.1322, -0.0285],\n",
      "        [ 0.0134,  0.1360, -0.0304],\n",
      "        [ 0.0132,  0.1382, -0.0306]], device='cuda:0')\n",
      "event=1, time_to_event=15, latent_variable=0.737585\n"
     ]
    },
    {
     "data": {
      "image/png": "[encoded data removed]",
      "text/plain": [
       "<Figure size 432x288 with 1 Axes>"
      ]
     },
     "metadata": {
      "needs_background": "light"
     },
     "output_type": "display_data"
    }
   ],
   "source": [
    "test_encoder_hidden_vector = torch.zeros(MAX_LENGTH, encoder.hidden_size, device=DEVICE)\n",
    "test_encoder_output_vector = torch.zeros(MAX_LENGTH, encoder.input_size, device=DEVICE)\n",
    "test_encoder_hidden = encoder.initHidden(device=DEVICE)\n",
    "\n",
    "for ei in range(test_batch.size(1)):\n",
    "        test_encoder_input = test_batch[0][ei].view(1,1,-1)\n",
    "        test_encoder_output, test_encoder_hidden = encoder(test_encoder_input, test_encoder_hidden)\n",
    "        test_encoder_output_vector[ei] = test_encoder_output\n",
    "\n",
    "test_last_measurement = test_batch[0][ei]\n",
    "test_context_vector = decoder(test_last_measurement, test_encoder_hidden_vector)\n",
    "test_first_hitting_time = causess(test_context_vector, test_last_measurement)\n",
    "\n",
    "test_encoder_output_vector = test_encoder_output_vector.unsqueeze(0).detach()\n",
    "plt.plot(np.array(test_encoder_output_vector.cpu()[0][0:23,1]), test_encoder_output_vector.cpu()[0][0:23,2])\n",
    "print(test_encoder_output_vector[0,:10])\n",
    "print(\"event=%d, time_to_event=%d, latent_variable=%f\" % (test_event.item(), test_time_to_event.item(), test_latent_variable.item()))"
   ]
  },
  {
   "cell_type": "code",
   "execution_count": 9,
   "metadata": {},
   "outputs": [
    {
     "data": {
      "text/plain": [
       "(0.0, 1.0)"
      ]
     },
     "execution_count": 9,
     "metadata": {},
     "output_type": "execute_result"
    },
    {
     "data": {
      "image/png": "[encoded data removed]",
      "text/plain": [
       "<Figure size 432x288 with 1 Axes>"
      ]
     },
     "metadata": {
      "needs_background": "light"
     },
     "output_type": "display_data"
    }
   ],
   "source": [
    "plt.bar([i for i in range(test_first_hitting_time.size(1))], test_first_hitting_time.squeeze().cpu().detach().numpy())\n",
    "plt.ylim([0,1])"
   ]
  },
  {
   "cell_type": "code",
   "execution_count": 10,
   "metadata": {},
   "outputs": [
    {
     "data": {
      "text/plain": [
       "(0.0, 1.0)"
      ]
     },
     "execution_count": 10,
     "metadata": {},
     "output_type": "execute_result"
    },
    {
     "data": {
      "image/png": "[encoded data removed]",
      "text/plain": [
       "<Figure size 432x288 with 1 Axes>"
      ]
     },
     "metadata": {
      "needs_background": "light"
     },
     "output_type": "display_data"
    }
   ],
   "source": [
    "plt.bar([i for i in range(MAX_LENGTH)], torch.cumsum(test_first_hitting_time.squeeze()[:MAX_LENGTH], dim=0).cpu().detach().numpy())\n",
    "plt.ylim([0,1])"
   ]
  },
  {
   "cell_type": "code",
   "execution_count": 11,
   "metadata": {},
   "outputs": [
    {
     "data": {
      "text/plain": [
       "(0.0, 1.0)"
      ]
     },
     "execution_count": 11,
     "metadata": {},
     "output_type": "execute_result"
    },
    {
     "data": {
      "image/png": "[encoded data removed]",
      "text/plain": [
       "<Figure size 432x288 with 1 Axes>"
      ]
     },
     "metadata": {
      "needs_background": "light"
     },
     "output_type": "display_data"
    }
   ],
   "source": [
    "plt.bar([i for i in range(MAX_LENGTH)], torch.cumsum(test_first_hitting_time.squeeze()[MAX_LENGTH:], dim=0).cpu().detach().numpy())\n",
    "plt.ylim([0,1])"
   ]
  },
  {
   "cell_type": "markdown",
   "metadata": {},
   "source": [
    "# 4. Validating The Model"
   ]
  },
  {
   "cell_type": "code",
   "execution_count": 12,
   "metadata": {},
   "outputs": [
    {
     "data": {
      "text/plain": [
       "CauseSpecificSubnetwork(\n",
       "  (layer1): Linear(in_features=131, out_features=256, bias=True)\n",
       "  (layer2): Linear(in_features=256, out_features=128, bias=True)\n",
       "  (layer3): Linear(in_features=128, out_features=64, bias=True)\n",
       "  (layer4): Linear(in_features=64, out_features=40, bias=True)\n",
       ")"
      ]
     },
     "execution_count": 12,
     "metadata": {},
     "output_type": "execute_result"
    }
   ],
   "source": [
    "from poc_data import PocDataset\n",
    "\n",
    "val_poc_raw_dataset = PocDataset(num_cases=2**5)\n",
    "val_data_loader = torch.utils.data.DataLoader(val_poc_raw_dataset,batch_size=1)\n",
    "val_batch, val_event, val_time_to_event, val_latent_variable = next(iter(val_data_loader))\n",
    "val_batch = val_batch.to(DEVICE)\n",
    "\n",
    "encoder.eval()\n",
    "decoder.eval()\n",
    "causess.eval()"
   ]
  },
  {
   "cell_type": "code",
   "execution_count": 13,
   "metadata": {},
   "outputs": [
    {
     "name": "stdout",
     "output_type": "stream",
     "text": [
      "loss1= 3.7068235874176025\n",
      "loss2= 0.0\n",
      "loss3= 151.5478973388672\n"
     ]
    }
   ],
   "source": [
    "loss1 = 0\n",
    "loss2 = 0\n",
    "loss3 = 0\n",
    "epoch_loss = 0\n",
    "\n",
    "for i, data in enumerate(val_data_loader):\n",
    "\n",
    "    batch, event, time_to_event, _latent_variable = data\n",
    "\n",
    "    batch = batch.to(DEVICE)\n",
    "    event = event.to(DEVICE)\n",
    "    time_to_event = time_to_event.to(DEVICE)\n",
    "    _latent_variable = _latent_variable.to(DEVICE)\n",
    "\n",
    "    encoder_hidden_vector = torch.zeros(MAX_LENGTH, encoder.hidden_size, device=DEVICE)\n",
    "    encoder_output_vector = torch.zeros(MAX_LENGTH, encoder.input_size, device=DEVICE)\n",
    "    encoder_hidden = encoder.initHidden(device=DEVICE)\n",
    "\n",
    "    for ei in range(batch.size(1)):\n",
    "        encoder_input = batch[0][ei].view(1,1,-1)\n",
    "        encoder_output, encoder_hidden = encoder(encoder_input, encoder_hidden)\n",
    "        encoder_hidden_vector[ei] = encoder_hidden[0,0]\n",
    "        encoder_output_vector[ei] = encoder_output\n",
    "\n",
    "    last_measurement = batch[0][ei]\n",
    "    context_vector = decoder(last_measurement, encoder_hidden_vector)\n",
    "    first_hitting_time = causess(context_vector, last_measurement)\n",
    "\n",
    "    loss1 += loss_1(first_hitting_time, event, time_to_event, MAX_LENGTH)\n",
    "    loss3 += mse_loss(encoder_output_vector[:-1], batch.detach().squeeze(0)[1:])\n",
    "\n",
    "print(\"loss1=\", loss1.item()/len(val_data_loader))\n",
    "print(\"loss2=\", loss2/len(val_data_loader))\n",
    "print(\"loss3=\", loss3.item()/len(val_data_loader))"
   ]
  },
  {
   "cell_type": "markdown",
   "metadata": {},
   "source": [
    "loss1 record = 3.6\n",
    "loss3 record = 13.9"
   ]
  },
  {
   "cell_type": "markdown",
   "metadata": {},
   "source": []
  }
 ],
 "metadata": {
  "interpreter": {
   "hash": "74ec5ca08bfb44a36ce5e8b7da111ffe3399745a8eaaaa6b64ec7ab8258a6e42"
  },
  "kernelspec": {
   "display_name": "Python 3.7.9 64-bit ('py37': conda)",
   "name": "python3"
  },
  "language_info": {
   "codemirror_mode": {
    "name": "ipython",
    "version": 3
   },
   "file_extension": ".py",
   "mimetype": "text/x-python",
   "name": "python",
   "nbconvert_exporter": "python",
   "pygments_lexer": "ipython3",
   "version": "3.8.3"
  },
  "orig_nbformat": 4
 },
 "nbformat": 4,
 "nbformat_minor": 2
}
