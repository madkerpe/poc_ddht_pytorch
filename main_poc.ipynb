{
 "cells": [
  {
   "cell_type": "code",
   "execution_count": 1,
   "metadata": {},
   "outputs": [],
   "source": [
    "import torch\n",
    "import numpy as np\n",
    "import pandas as pd\n",
    "\n",
    "import matplotlib.pyplot as plt\n",
    "%matplotlib inline"
   ]
  },
  {
   "cell_type": "markdown",
   "metadata": {},
   "source": [
    "# 1. Import Dataset"
   ]
  },
  {
   "cell_type": "code",
   "execution_count": 2,
   "metadata": {},
   "outputs": [],
   "source": [
    "# from poc_data import PocDataset\n",
    "\n",
    "# poc_raw_dataset = PocDataset(num_cases=2**10)\n",
    "# data_loader = torch.utils.data.DataLoader(poc_raw_dataset,batch_size=128)\n",
    "# batch, event, time_to_event, _latent_variable = next(iter(data_loader))\n",
    "\n",
    "# print(batch.shape)\n",
    "# print(event.shape)\n",
    "# print(time_to_event.shape)\n",
    "# print(_latent_variable.shape)"
   ]
  },
  {
   "cell_type": "markdown",
   "metadata": {},
   "source": [
    "### Data Exploration"
   ]
  },
  {
   "cell_type": "markdown",
   "metadata": {},
   "source": []
  },
  {
   "cell_type": "code",
   "execution_count": 3,
   "metadata": {},
   "outputs": [],
   "source": [
    "#Take a look at the longitudional data\n",
    "\n",
    "# plt.plot(np.array(batch[0][:int(time_to_event[0]),1]), batch[0][:int(time_to_event[0]),2])\n",
    "# plt.plot(np.array(batch[1][:int(time_to_event[1]),1]), batch[1][:int(time_to_event[1]),2])\n",
    "# plt.plot(np.array(batch[2][:int(time_to_event[2]),1]), batch[2][:int(time_to_event[2]),2])\n",
    "# plt.plot(np.array(batch[3][:int(time_to_event[3]),1]), batch[3][:int(time_to_event[3]),2])\n",
    "# plt.plot(np.array(batch[4][:int(time_to_event[4]),1]), batch[4][:int(time_to_event[4]),2])\n",
    "\n",
    "# print(event[:5])\n",
    "# print(time_to_event[:5])\n",
    "# print(_latent_variable[:5])"
   ]
  },
  {
   "cell_type": "markdown",
   "metadata": {},
   "source": [
    "# 2. Hyperparameters"
   ]
  },
  {
   "cell_type": "code",
   "execution_count": null,
   "metadata": {},
   "outputs": [],
   "source": []
  },
  {
   "cell_type": "markdown",
   "metadata": {},
   "source": [
    "# 3. Defining The Model"
   ]
  },
  {
   "cell_type": "code",
   "execution_count": null,
   "metadata": {},
   "outputs": [],
   "source": []
  },
  {
   "cell_type": "markdown",
   "metadata": {},
   "source": [
    "# 4. Training the model"
   ]
  },
  {
   "cell_type": "code",
   "execution_count": 4,
   "metadata": {},
   "outputs": [
    {
     "name": "stdout",
     "output_type": "stream",
     "text": [
      "tensor([[ 0.0000e+00,  1.4101e+01,  8.9990e-01],\n",
      "        [ 0.0000e+00,  1.4642e+01,  7.8809e-01],\n",
      "        [ 0.0000e+00,  1.5184e+01,  4.5066e-01],\n",
      "        [ 0.0000e+00,  1.5725e+01, -1.5789e-02],\n",
      "        [ 0.0000e+00,  1.6267e+01, -4.7772e-01],\n",
      "        [ 0.0000e+00,  1.6809e+01, -8.0288e-01],\n",
      "        [ 0.0000e+00,  1.7350e+01, -8.9819e-01],\n",
      "        [ 0.0000e+00,  1.7892e+01, -7.3636e-01],\n",
      "        [ 0.0000e+00,  1.8434e+01, -3.6372e-01],\n",
      "        [ 0.0000e+00,  1.8975e+01,  1.1304e-01]])\n"
     ]
    },
    {
     "data": {
      "image/png": "[encoded data removed]",
      "text/plain": [
       "<Figure size 432x288 with 1 Axes>"
      ]
     },
     "metadata": {
      "needs_background": "light"
     },
     "output_type": "display_data"
    }
   ],
   "source": [
    "from poc_data import PocDataset\n",
    "\n",
    "test_poc_raw_dataset = PocDataset(num_cases=1)\n",
    "test_data_loader = torch.utils.data.DataLoader(test_poc_raw_dataset,batch_size=1)\n",
    "test_batch, test_event, test_time_to_event, _latent_variable = next(iter(test_data_loader))\n",
    "\n",
    "plt.plot(np.array(test_batch[0][:int(test_time_to_event[0]),1]), test_batch[0][:int(test_time_to_event[0]),2])\n",
    "print(test_batch[0,:10])"
   ]
  },
  {
   "cell_type": "code",
   "execution_count": 5,
   "metadata": {},
   "outputs": [],
   "source": [
    "from torch.nn import MSELoss\n",
    "from tqdm import trange, tqdm\n",
    "\n",
    "from torch.optim import Adam\n",
    "from torch.utils.tensorboard import SummaryWriter\n",
    "from dynamicDeepHit import EncoderRNN, AttnDecoderRNN\n",
    "\n",
    "#poc_raw_dataset = PocDataset(num_cases=2**5)\n",
    "data_loader = torch.utils.data.DataLoader(test_poc_raw_dataset,batch_size=1)\n",
    "\n",
    "NUM_EPOCHS = 5000\n",
    "LEARNING_RATE = 0.0001\n",
    "input_size = 3\n",
    "output_size = input_size\n",
    "hidden_size = 256\n",
    "MAX_LENGTH = 30\n",
    "\n",
    "# initialize model\n",
    "encoder = EncoderRNN(input_size, hidden_size)\n",
    "decoder = AttnDecoderRNN(hidden_size, output_size, MAX_LENGTH)\n",
    "\n",
    "# intialize optimizer\n",
    "optimizer_encoder = Adam(encoder.parameters(), lr=LEARNING_RATE)\n",
    "optimizer_decoder = Adam(decoder.parameters(), lr=LEARNING_RATE)\n",
    " \n",
    "# initialize loss\n",
    "mse_loss = MSELoss()\n",
    "writer = SummaryWriter()"
   ]
  },
  {
   "cell_type": "code",
   "execution_count": 6,
   "metadata": {},
   "outputs": [
    {
     "name": "stdout",
     "output_type": "stream",
     "text": [
      "tensor([[ 0.0384, -0.0768,  0.0402],\n",
      "        [ 0.0421, -0.0671,  0.0573],\n",
      "        [ 0.0408, -0.0625,  0.0696],\n",
      "        [ 0.0406, -0.0614,  0.0780],\n",
      "        [ 0.0413, -0.0605,  0.0836],\n",
      "        [ 0.0420, -0.0600,  0.0879],\n",
      "        [ 0.0425, -0.0594,  0.0913],\n",
      "        [ 0.0426, -0.0589,  0.0938],\n",
      "        [ 0.0424, -0.0584,  0.0958],\n",
      "        [ 0.0420, -0.0576,  0.0972]], grad_fn=<SliceBackward>)\n"
     ]
    },
    {
     "data": {
      "image/png": "[encoded data removed]",
      "text/plain": [
       "<Figure size 432x288 with 1 Axes>"
      ]
     },
     "metadata": {
      "needs_background": "light"
     },
     "output_type": "display_data"
    }
   ],
   "source": [
    "test_encoder_hidden_vector = torch.zeros(MAX_LENGTH, encoder.hidden_size)\n",
    "test_encoder_output_vector = torch.zeros(MAX_LENGTH, encoder.input_size)\n",
    "test_encoder_hidden = encoder.initHidden()\n",
    "\n",
    "for ei in range(test_batch.size(1)):\n",
    "        test_encoder_input = test_batch[0][ei].view(1,1,-1)\n",
    "        test_encoder_output, test_encoder_hidden = encoder(test_encoder_input, test_encoder_hidden)\n",
    "        test_encoder_output_vector[ei] = test_encoder_output\n",
    "\n",
    "plt.plot(np.array(test_encoder_output_vector.detach()[:int(test_time_to_event[0]),1]), test_encoder_output_vector.detach()[:int(test_time_to_event[0]),2])\n",
    "print(test_encoder_output_vector[:10])"
   ]
  },
  {
   "cell_type": "code",
   "execution_count": 7,
   "metadata": {},
   "outputs": [
    {
     "name": "stderr",
     "output_type": "stream",
     "text": [
      "100%|██████████| 5000/5000 [03:17<00:00, 25.29it/s]"
     ]
    },
    {
     "name": "stdout",
     "output_type": "stream",
     "text": [
      "av_epoch_train_loss= 0.0005247925291769207\n"
     ]
    },
    {
     "name": "stderr",
     "output_type": "stream",
     "text": [
      "\n"
     ]
    }
   ],
   "source": [
    "# start training\n",
    "for epoch in trange(NUM_EPOCHS):\n",
    "\n",
    "  epoch_loss = 0\n",
    "\n",
    "  for i, data in enumerate(data_loader):\n",
    "\n",
    "    batch, event, time_to_event, _latent_variable = data\n",
    "\n",
    "    optimizer_encoder.zero_grad()\n",
    "    optimizer_decoder.zero_grad()\n",
    "\n",
    "    encoder_hidden_vector = torch.zeros(MAX_LENGTH, encoder.hidden_size)\n",
    "    encoder_output_vector = torch.zeros(MAX_LENGTH, encoder.input_size)\n",
    "    encoder_hidden = encoder.initHidden()\n",
    "\n",
    "    for ei in range(batch.size(1)):\n",
    "        encoder_input = batch[0][ei].view(1,1,-1)\n",
    "        encoder_output, encoder_hidden = encoder(encoder_input, encoder_hidden)\n",
    "        #encoder_hidden_vector[ei] = self.encoder_hidden[0,0]\n",
    "        encoder_output_vector[ei] = encoder_output\n",
    "\n",
    "    loss3 = mse_loss(encoder_output_vector[:-1], batch.detach().squeeze(0)[1:])\n",
    "\n",
    "    epoch_loss += loss3\n",
    "\n",
    "  epoch_loss.backward()\n",
    "  optimizer_encoder.step()\n",
    "  \n",
    "  writer.add_scalar('Loss/Train', epoch_loss.item(), epoch)\n",
    "print(\"av_epoch_train_loss=\", epoch_loss.item()/len(data_loader))"
   ]
  },
  {
   "cell_type": "code",
   "execution_count": 12,
   "metadata": {},
   "outputs": [
    {
     "name": "stdout",
     "output_type": "stream",
     "text": [
      "tensor([[ 0.0000e+00,  1.4101e+01,  8.9990e-01],\n",
      "        [ 0.0000e+00,  1.4642e+01,  7.8809e-01],\n",
      "        [ 0.0000e+00,  1.5184e+01,  4.5066e-01],\n",
      "        [ 0.0000e+00,  1.5725e+01, -1.5789e-02],\n",
      "        [ 0.0000e+00,  1.6267e+01, -4.7772e-01],\n",
      "        [ 0.0000e+00,  1.6809e+01, -8.0288e-01],\n",
      "        [ 0.0000e+00,  1.7350e+01, -8.9819e-01],\n",
      "        [ 0.0000e+00,  1.7892e+01, -7.3636e-01],\n",
      "        [ 0.0000e+00,  1.8434e+01, -3.6372e-01],\n",
      "        [ 0.0000e+00,  1.8975e+01,  1.1304e-01]])\n"
     ]
    },
    {
     "data": {
      "image/png": "[encoded data removed]",
      "text/plain": [
       "<Figure size 432x288 with 1 Axes>"
      ]
     },
     "metadata": {
      "needs_background": "light"
     },
     "output_type": "display_data"
    }
   ],
   "source": [
    "plt.plot(np.array(test_batch[0][:20,1]), test_batch[0][:20,2])\n",
    "print(test_batch[0,:10])"
   ]
  },
  {
   "cell_type": "code",
   "execution_count": 11,
   "metadata": {},
   "outputs": [
    {
     "name": "stdout",
     "output_type": "stream",
     "text": [
      "tensor([[-3.0145e-03,  1.4645e+01,  7.8304e-01],\n",
      "        [ 7.2029e-03,  1.5184e+01,  4.5456e-01],\n",
      "        [ 3.8912e-03,  1.5726e+01, -1.3514e-02],\n",
      "        [-6.6382e-03,  1.6268e+01, -4.7973e-01],\n",
      "        [-3.8615e-03,  1.6807e+01, -7.9712e-01],\n",
      "        [-1.1142e-03,  1.7358e+01, -9.1098e-01],\n",
      "        [ 1.9309e-03,  1.7885e+01, -7.2937e-01],\n",
      "        [ 4.6687e-03,  1.8433e+01, -3.5713e-01],\n",
      "        [ 5.5620e-03,  1.8982e+01,  1.1313e-01],\n",
      "        [-2.8219e-03,  1.9514e+01,  5.5138e-01],\n",
      "        [-3.6660e-03,  2.0057e+01,  8.4454e-01],\n",
      "        [-4.6560e-03,  2.0602e+01,  8.8339e-01],\n",
      "        [-6.7159e-04,  2.1144e+01,  6.7453e-01],\n",
      "        [ 7.8467e-03,  2.1683e+01,  2.7532e-01],\n",
      "        [ 9.7652e-03,  2.2225e+01, -2.0556e-01],\n",
      "        [ 1.2982e-04,  2.2769e+01, -6.3983e-01],\n",
      "        [-9.6280e-03,  2.3306e+01, -8.6799e-01],\n",
      "        [-3.8628e-03,  2.3845e+01, -8.4959e-01],\n",
      "        [ 4.3002e-04,  2.4379e+01, -5.8082e-01],\n",
      "        [ 3.9244e-03,  2.4927e+01, -1.9629e-01]])\n"
     ]
    },
    {
     "data": {
      "image/png": "[encoded data removed]",
      "text/plain": [
       "<Figure size 432x288 with 1 Axes>"
      ]
     },
     "metadata": {
      "needs_background": "light"
     },
     "output_type": "display_data"
    }
   ],
   "source": [
    "test_encoder_hidden_vector = torch.zeros(MAX_LENGTH, encoder.hidden_size)\n",
    "test_encoder_output_vector = torch.zeros(MAX_LENGTH, encoder.input_size)\n",
    "test_encoder_hidden = encoder.initHidden()\n",
    "\n",
    "for ei in range(batch.size(1)):\n",
    "        test_encoder_input = test_batch[0][ei].view(1,1,-1)\n",
    "        test_encoder_output, test_encoder_hidden = encoder(test_encoder_input, test_encoder_hidden)\n",
    "        test_encoder_output_vector[ei] = test_encoder_output\n",
    "\n",
    "test_encoder_output_vector = test_encoder_output_vector.unsqueeze(0).detach()\n",
    "plt.plot(np.array(test_encoder_output_vector[0][:20,1]), test_encoder_output_vector[0][:20,2])\n",
    "print(test_encoder_output_vector[0,:20])"
   ]
  }
 ],
 "metadata": {
  "interpreter": {
   "hash": "74ec5ca08bfb44a36ce5e8b7da111ffe3399745a8eaaaa6b64ec7ab8258a6e42"
  },
  "kernelspec": {
   "display_name": "Python 3.7.9 64-bit ('py37': conda)",
   "name": "python3"
  },
  "language_info": {
   "codemirror_mode": {
    "name": "ipython",
    "version": 3
   },
   "file_extension": ".py",
   "mimetype": "text/x-python",
   "name": "python",
   "nbconvert_exporter": "python",
   "pygments_lexer": "ipython3",
   "version": "3.8.3"
  },
  "orig_nbformat": 4
 },
 "nbformat": 4,
 "nbformat_minor": 2
}
