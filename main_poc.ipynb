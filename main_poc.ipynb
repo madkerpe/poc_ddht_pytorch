{
 "cells": [
  {
   "cell_type": "code",
   "execution_count": 1,
   "metadata": {},
   "outputs": [],
   "source": [
    "import torch\n",
    "import numpy as np\n",
    "import pandas as pd\n",
    "\n",
    "import matplotlib.pyplot as plt\n",
    "%matplotlib inline"
   ]
  },
  {
   "cell_type": "markdown",
   "metadata": {},
   "source": [
    "# 1. Import Dataset"
   ]
  },
  {
   "cell_type": "code",
   "execution_count": 2,
   "metadata": {},
   "outputs": [],
   "source": [
    "# from poc_data import PocDataset\n",
    "\n",
    "# poc_raw_dataset = PocDataset(num_cases=2**10)\n",
    "# data_loader = torch.utils.data.DataLoader(poc_raw_dataset,batch_size=128)\n",
    "# batch, event, time_to_event, _latent_variable = next(iter(data_loader))\n",
    "\n",
    "# print(batch.shape)\n",
    "# print(event.shape)\n",
    "# print(time_to_event.shape)\n",
    "# print(_latent_variable.shape)"
   ]
  },
  {
   "cell_type": "markdown",
   "metadata": {},
   "source": [
    "### Data Exploration"
   ]
  },
  {
   "cell_type": "markdown",
   "metadata": {},
   "source": []
  },
  {
   "cell_type": "code",
   "execution_count": 3,
   "metadata": {},
   "outputs": [],
   "source": [
    "#Take a look at the longitudional data\n",
    "\n",
    "# plt.plot(np.array(batch[0][:int(time_to_event[0]),1]), batch[0][:int(time_to_event[0]),2])\n",
    "# plt.plot(np.array(batch[1][:int(time_to_event[1]),1]), batch[1][:int(time_to_event[1]),2])\n",
    "# plt.plot(np.array(batch[2][:int(time_to_event[2]),1]), batch[2][:int(time_to_event[2]),2])\n",
    "# plt.plot(np.array(batch[3][:int(time_to_event[3]),1]), batch[3][:int(time_to_event[3]),2])\n",
    "# plt.plot(np.array(batch[4][:int(time_to_event[4]),1]), batch[4][:int(time_to_event[4]),2])\n",
    "\n",
    "# print(event[:5])\n",
    "# print(time_to_event[:5])\n",
    "# print(_latent_variable[:5])"
   ]
  },
  {
   "cell_type": "markdown",
   "metadata": {},
   "source": [
    "# 2. Hyperparameters"
   ]
  },
  {
   "cell_type": "code",
   "execution_count": 4,
   "metadata": {},
   "outputs": [],
   "source": [
    "DEVICE = 'cuda'"
   ]
  },
  {
   "cell_type": "markdown",
   "metadata": {},
   "source": [
    "# 3. Defining The Model"
   ]
  },
  {
   "cell_type": "code",
   "execution_count": null,
   "metadata": {},
   "outputs": [],
   "source": []
  },
  {
   "cell_type": "markdown",
   "metadata": {},
   "source": [
    "# 4. Training the model"
   ]
  },
  {
   "cell_type": "code",
   "execution_count": 5,
   "metadata": {},
   "outputs": [
    {
     "name": "stdout",
     "output_type": "stream",
     "text": [
      "tensor([[ 0.0000, 16.2622, -0.2341],\n",
      "        [ 0.0000, 16.8038, -0.3956],\n",
      "        [ 0.0000, 17.3455, -0.4439],\n",
      "        [ 0.0000, 17.8871, -0.3651],\n",
      "        [ 0.0000, 18.4288, -0.1817],\n",
      "        [ 0.0000, 18.9704,  0.0536],\n",
      "        [ 0.0000, 19.5121,  0.2737],\n",
      "        [ 0.0000, 20.0537,  0.4153],\n",
      "        [ 0.0000, 20.5954,  0.4381],\n",
      "        [ 0.0000, 21.1370,  0.3354]], device='cuda:0')\n",
      "0.4448866844177246\n"
     ]
    },
    {
     "data": {
      "image/png": "[encoded data removed]",
      "text/plain": [
       "<Figure size 432x288 with 1 Axes>"
      ]
     },
     "metadata": {
      "needs_background": "light"
     },
     "output_type": "display_data"
    }
   ],
   "source": [
    "from poc_data import PocDataset\n",
    "\n",
    "test_poc_raw_dataset = PocDataset(num_cases=1)\n",
    "test_data_loader = torch.utils.data.DataLoader(test_poc_raw_dataset,batch_size=1)\n",
    "test_batch, test_event, test_time_to_event, test_latent_variable = next(iter(test_data_loader))\n",
    "test_batch = test_batch.to(DEVICE)\n",
    "\n",
    "plt.plot(np.array(test_batch.cpu()[0][:int(test_time_to_event[0]),1]), test_batch.cpu()[0][:int(test_time_to_event[0]),2])\n",
    "print(test_batch[0,:10])\n",
    "print(test_latent_variable.item())"
   ]
  },
  {
   "cell_type": "code",
   "execution_count": 6,
   "metadata": {},
   "outputs": [],
   "source": [
    "from torch.nn import MSELoss\n",
    "from tqdm import trange, tqdm\n",
    "\n",
    "from torch.optim import Adam\n",
    "from torch.utils.tensorboard import SummaryWriter\n",
    "from dynamicDeepHit import EncoderRNN, AttnDecoderRNN, RegressionNetwork\n",
    "\n",
    "poc_raw_dataset = PocDataset(num_cases=2**10)\n",
    "data_loader = torch.utils.data.DataLoader(poc_raw_dataset,batch_size=1)\n",
    "\n",
    "NUM_EPOCHS = 25\n",
    "\n",
    "LEARNING_RATE_ENCODER = 0.001\n",
    "LEARNING_RATE_DECODER = 0.001\n",
    "LEARNING_RATE_REGRESS = 0.001\n",
    "\n",
    "LOSS_3_AMPLIFIER = 1\n",
    "LOSS_4_AMPLIFIER = 100\n",
    "\n",
    "input_size = 3\n",
    "output_size = input_size\n",
    "MAX_LENGTH = 30\n",
    "hidden_size_encoder = 512\n",
    "hidden_size_regress = 128\n",
    "\n",
    "# initialize model\n",
    "encoder = EncoderRNN(input_size, hidden_size_encoder).to(DEVICE)\n",
    "decoder = AttnDecoderRNN(hidden_size_encoder, output_size, MAX_LENGTH).to(DEVICE)\n",
    "regress = RegressionNetwork(hidden_size_encoder, hidden_size_regress).to(DEVICE)\n",
    "\n",
    "# intialize optimizer\n",
    "optimizer_encoder = Adam(encoder.parameters(), lr=LEARNING_RATE_ENCODER)\n",
    "optimizer_decoder = Adam(decoder.parameters(), lr=LEARNING_RATE_DECODER)\n",
    "optimizer_regress = Adam(regress.parameters(), lr=LEARNING_RATE_REGRESS)\n",
    " \n",
    "# initialize loss\n",
    "mse_loss = MSELoss()\n",
    "writer = SummaryWriter()"
   ]
  },
  {
   "cell_type": "code",
   "execution_count": 7,
   "metadata": {},
   "outputs": [
    {
     "name": "stdout",
     "output_type": "stream",
     "text": [
      "tensor([[ 0.0810, -0.0639, -0.0697],\n",
      "        [ 0.0857, -0.0590, -0.0684],\n",
      "        [ 0.0860, -0.0577, -0.0657],\n",
      "        [ 0.0859, -0.0569, -0.0638],\n",
      "        [ 0.0855, -0.0570, -0.0627],\n",
      "        [ 0.0850, -0.0571, -0.0620],\n",
      "        [ 0.0845, -0.0572, -0.0615],\n",
      "        [ 0.0841, -0.0571, -0.0610],\n",
      "        [ 0.0839, -0.0568, -0.0607],\n",
      "        [ 0.0840, -0.0564, -0.0603]], device='cuda:0')\n",
      "real lv was 0.444887, we estimated 0.520966\n"
     ]
    },
    {
     "data": {
      "image/png": "[encoded data removed]",
      "text/plain": [
       "<Figure size 432x288 with 1 Axes>"
      ]
     },
     "metadata": {
      "needs_background": "light"
     },
     "output_type": "display_data"
    }
   ],
   "source": [
    "test_encoder_hidden_vector = torch.zeros(MAX_LENGTH, encoder.hidden_size, device=DEVICE)\n",
    "test_encoder_output_vector = torch.zeros(MAX_LENGTH, encoder.input_size, device=DEVICE)\n",
    "test_encoder_hidden = encoder.initHidden(device=DEVICE)\n",
    "\n",
    "for ei in range(test_batch.size(1)):\n",
    "        test_encoder_input = test_batch[0][ei].view(1,1,-1)\n",
    "        test_encoder_output, test_encoder_hidden = encoder(test_encoder_input, test_encoder_hidden)\n",
    "        test_encoder_output_vector[ei] = test_encoder_output\n",
    "\n",
    "test_last_measurement = test_batch[0][ei]\n",
    "test_context_vector = decoder(test_last_measurement, test_encoder_hidden_vector)\n",
    "test_estimated_latent_variable = regress(test_context_vector)\n",
    "\n",
    "test_encoder_output_vector = test_encoder_output_vector.unsqueeze(0).detach()\n",
    "plt.plot(np.array(test_encoder_output_vector.cpu()[0][0:10,1]), test_encoder_output_vector.cpu()[0][0:10,2])\n",
    "print(test_encoder_output_vector[0,:10])\n",
    "print(\"real lv was %f, we estimated %f\" % (test_latent_variable.item(), test_estimated_latent_variable.item()))"
   ]
  },
  {
   "cell_type": "code",
   "execution_count": 8,
   "metadata": {},
   "outputs": [
    {
     "name": "stderr",
     "output_type": "stream",
     "text": [
      "  2%|▏         | 1/50 [00:14<11:55, 14.60s/it]"
     ]
    }
   ],
   "source": [
    "# start training\n",
    "for epoch in trange(NUM_EPOCHS):\n",
    "\n",
    "  epoch_loss = 0\n",
    "\n",
    "  for i, data in enumerate(data_loader):\n",
    "\n",
    "    batch, event, time_to_event, _latent_variable = data\n",
    "\n",
    "    batch = batch.to(DEVICE)\n",
    "    _latent_variable = _latent_variable.to(DEVICE)\n",
    "\n",
    "    optimizer_encoder.zero_grad()\n",
    "    optimizer_decoder.zero_grad()\n",
    "    optimizer_regress.zero_grad()\n",
    "\n",
    "    encoder_hidden_vector = torch.zeros(MAX_LENGTH, encoder.hidden_size, device=DEVICE)\n",
    "    encoder_output_vector = torch.zeros(MAX_LENGTH, encoder.input_size, device=DEVICE)\n",
    "    encoder_hidden = encoder.initHidden(device=DEVICE)\n",
    "\n",
    "    for ei in range(batch.size(1)):\n",
    "        encoder_input = batch[0][ei].view(1,1,-1)\n",
    "        encoder_output, encoder_hidden = encoder(encoder_input, encoder_hidden)\n",
    "        encoder_hidden_vector[ei] = encoder_hidden[0,0]\n",
    "        encoder_output_vector[ei] = encoder_output\n",
    "\n",
    "    last_measurement = batch[0][ei]\n",
    "    context_vector = decoder(last_measurement, encoder_hidden_vector)\n",
    "\n",
    "    estimated_latent_variable = regress(context_vector)\n",
    "    \n",
    "    loss3 = mse_loss(encoder_output_vector[:-1], batch.detach().squeeze(0)[1:])\n",
    "    loss4 = mse_loss(estimated_latent_variable, _latent_variable)\n",
    "\n",
    "    epoch_loss += LOSS_3_AMPLIFIER*loss3 + LOSS_4_AMPLIFIER*loss4\n",
    "\n",
    "  writer.add_scalar('loss3', loss3.item(), epoch*len(data_loader) + i)\n",
    "  writer.add_scalar('loss4', loss4.item(), epoch*len(data_loader) + i)\n",
    "\n",
    "  epoch_loss.backward()\n",
    "\n",
    "  optimizer_encoder.step()\n",
    "  optimizer_regress.step()\n",
    "  \n",
    "  writer.add_scalar('loss_epoch', epoch_loss.item(), epoch)\n",
    "print(\"av_epoch_train_loss=\", epoch_loss.item()/len(data_loader))"
   ]
  },
  {
   "cell_type": "code",
   "execution_count": null,
   "metadata": {},
   "outputs": [],
   "source": [
    "plt.plot(np.array(test_batch.cpu()[0][:10,1]), test_batch.cpu()[0][:10,2])\n",
    "print(test_batch.cpu()[0,:10])\n",
    "print(test_latent_variable.item())"
   ]
  },
  {
   "cell_type": "code",
   "execution_count": null,
   "metadata": {},
   "outputs": [],
   "source": [
    "test_encoder_hidden_vector = torch.zeros(MAX_LENGTH, encoder.hidden_size, device=DEVICE)\n",
    "test_encoder_output_vector = torch.zeros(MAX_LENGTH, encoder.input_size, device=DEVICE)\n",
    "test_encoder_hidden = encoder.initHidden(device=DEVICE)\n",
    "\n",
    "for ei in range(test_batch.size(1)):\n",
    "        test_encoder_input = test_batch[0][ei].view(1,1,-1)\n",
    "        test_encoder_output, test_encoder_hidden = encoder(test_encoder_input, test_encoder_hidden)\n",
    "        test_encoder_output_vector[ei] = test_encoder_output\n",
    "\n",
    "test_last_measurement = test_batch[0][ei]\n",
    "test_context_vector = decoder(test_last_measurement, test_encoder_hidden_vector)\n",
    "test_estimated_latent_variable = regress(test_context_vector)\n",
    "\n",
    "test_encoder_output_vector = test_encoder_output_vector.unsqueeze(0).detach()\n",
    "plt.plot(np.array(test_encoder_output_vector.cpu()[0][0:10,1]), test_encoder_output_vector.cpu()[0][0:10,2])\n",
    "print(test_encoder_output_vector[0,:10])\n",
    "print(\"real lv was %f, we estimated %f\" % (test_latent_variable.item(), test_estimated_latent_variable.item()))"
   ]
  }
 ],
 "metadata": {
  "interpreter": {
   "hash": "74ec5ca08bfb44a36ce5e8b7da111ffe3399745a8eaaaa6b64ec7ab8258a6e42"
  },
  "kernelspec": {
   "display_name": "Python 3.7.9 64-bit ('py37': conda)",
   "name": "python3"
  },
  "language_info": {
   "codemirror_mode": {
    "name": "ipython",
    "version": 3
   },
   "file_extension": ".py",
   "mimetype": "text/x-python",
   "name": "python",
   "nbconvert_exporter": "python",
   "pygments_lexer": "ipython3",
   "version": "3.8.3"
  },
  "orig_nbformat": 4
 },
 "nbformat": 4,
 "nbformat_minor": 2
}
