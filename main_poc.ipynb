{
 "cells": [
  {
   "cell_type": "code",
   "execution_count": 1,
   "metadata": {},
   "outputs": [],
   "source": [
    "import torch\n",
    "import numpy as np\n",
    "import pandas as pd\n",
    "\n",
    "import matplotlib.pyplot as plt\n",
    "%matplotlib inline"
   ]
  },
  {
   "cell_type": "markdown",
   "metadata": {},
   "source": [
    "# 1. Import Dataset"
   ]
  },
  {
   "cell_type": "code",
   "execution_count": 2,
   "metadata": {},
   "outputs": [],
   "source": [
    "# from poc_data import PocDataset\n",
    "\n",
    "# poc_raw_dataset = PocDataset(num_cases=2**10)\n",
    "# data_loader = torch.utils.data.DataLoader(poc_raw_dataset,batch_size=128)\n",
    "# batch, event, time_to_event, _latent_variable = next(iter(data_loader))\n",
    "\n",
    "# print(batch.shape)\n",
    "# print(event.shape)\n",
    "# print(time_to_event.shape)\n",
    "# print(_latent_variable.shape)"
   ]
  },
  {
   "cell_type": "markdown",
   "metadata": {},
   "source": [
    "### Data Exploration"
   ]
  },
  {
   "cell_type": "markdown",
   "metadata": {},
   "source": []
  },
  {
   "cell_type": "code",
   "execution_count": 3,
   "metadata": {},
   "outputs": [],
   "source": [
    "#Take a look at the longitudional data\n",
    "\n",
    "# plt.plot(np.array(batch[0][:int(time_to_event[0]),1]), batch[0][:int(time_to_event[0]),2])\n",
    "# plt.plot(np.array(batch[1][:int(time_to_event[1]),1]), batch[1][:int(time_to_event[1]),2])\n",
    "# plt.plot(np.array(batch[2][:int(time_to_event[2]),1]), batch[2][:int(time_to_event[2]),2])\n",
    "# plt.plot(np.array(batch[3][:int(time_to_event[3]),1]), batch[3][:int(time_to_event[3]),2])\n",
    "# plt.plot(np.array(batch[4][:int(time_to_event[4]),1]), batch[4][:int(time_to_event[4]),2])\n",
    "\n",
    "# print(event[:5])\n",
    "# print(time_to_event[:5])\n",
    "# print(_latent_variable[:5])"
   ]
  },
  {
   "cell_type": "markdown",
   "metadata": {},
   "source": [
    "# 2. Hyperparameters"
   ]
  },
  {
   "cell_type": "code",
   "execution_count": null,
   "metadata": {},
   "outputs": [],
   "source": []
  },
  {
   "cell_type": "markdown",
   "metadata": {},
   "source": [
    "# 3. Defining The Model"
   ]
  },
  {
   "cell_type": "code",
   "execution_count": null,
   "metadata": {},
   "outputs": [],
   "source": []
  },
  {
   "cell_type": "markdown",
   "metadata": {},
   "source": [
    "# 4. Training the model"
   ]
  },
  {
   "cell_type": "code",
   "execution_count": 4,
   "metadata": {},
   "outputs": [
    {
     "name": "stdout",
     "output_type": "stream",
     "text": [
      "tensor([[ 0.0000, 15.4116,  0.1554],\n",
      "        [ 0.0000, 15.9532, -0.1292],\n",
      "        [ 0.0000, 16.4949, -0.3768],\n",
      "        [ 0.0000, 17.0365, -0.5166],\n",
      "        [ 0.0000, 17.5782, -0.5084],\n",
      "        [ 0.0000, 18.1198, -0.3547],\n",
      "        [ 0.0000, 18.6615, -0.0995],\n",
      "        [ 0.0000, 19.2031,  0.1843],\n",
      "        [ 0.0000, 19.7448,  0.4152],\n",
      "        [ 0.0000, 20.2865,  0.5274]])\n"
     ]
    },
    {
     "data": {
      "image/png": "[encoded data removed]",
      "text/plain": [
       "<Figure size 432x288 with 1 Axes>"
      ]
     },
     "metadata": {
      "needs_background": "light"
     },
     "output_type": "display_data"
    }
   ],
   "source": [
    "from poc_data import PocDataset\n",
    "\n",
    "test_poc_raw_dataset = PocDataset(num_cases=1)\n",
    "test_data_loader = torch.utils.data.DataLoader(test_poc_raw_dataset,batch_size=1)\n",
    "test_batch, test_event, test_time_to_event, _latent_variable = next(iter(test_data_loader))\n",
    "\n",
    "plt.plot(np.array(test_batch[0][:int(test_time_to_event[0]),1]), test_batch[0][:int(test_time_to_event[0]),2])\n",
    "print(test_batch[0,:10])"
   ]
  },
  {
   "cell_type": "code",
   "execution_count": 5,
   "metadata": {},
   "outputs": [],
   "source": [
    "from torch.nn import MSELoss\n",
    "from tqdm import trange, tqdm\n",
    "\n",
    "from torch.optim import Adam\n",
    "from torch.utils.tensorboard import SummaryWriter\n",
    "from dynamicDeepHit import EncoderRNN, AttnDecoderRNN\n",
    "\n",
    "#poc_raw_dataset = PocDataset(num_cases=2**5)\n",
    "data_loader = torch.utils.data.DataLoader(test_poc_raw_dataset,batch_size=1)\n",
    "\n",
    "NUM_EPOCHS = 5000\n",
    "LEARNING_RATE = 0.0001\n",
    "input_size = 3\n",
    "output_size = input_size\n",
    "hidden_size = 256\n",
    "MAX_LENGTH = 30\n",
    "\n",
    "# initialize model\n",
    "encoder = EncoderRNN(input_size, hidden_size)\n",
    "decoder = AttnDecoderRNN(hidden_size, output_size, MAX_LENGTH)\n",
    "\n",
    "# intialize optimizer\n",
    "optimizer_encoder = Adam(encoder.parameters(), lr=LEARNING_RATE)\n",
    "optimizer_decoder = Adam(decoder.parameters(), lr=LEARNING_RATE)\n",
    " \n",
    "# initialize loss\n",
    "mse_loss = MSELoss()\n",
    "writer = SummaryWriter()"
   ]
  },
  {
   "cell_type": "code",
   "execution_count": 6,
   "metadata": {},
   "outputs": [
    {
     "name": "stdout",
     "output_type": "stream",
     "text": [
      "tensor([[ 0.0890,  0.0923, -0.0694],\n",
      "        [ 0.0910,  0.0862, -0.0688],\n",
      "        [ 0.0912,  0.0823, -0.0652],\n",
      "        [ 0.0900,  0.0792, -0.0625],\n",
      "        [ 0.0891,  0.0774, -0.0610],\n",
      "        [ 0.0884,  0.0759, -0.0603],\n",
      "        [ 0.0879,  0.0747, -0.0600],\n",
      "        [ 0.0876,  0.0740, -0.0600],\n",
      "        [ 0.0875,  0.0736, -0.0601],\n",
      "        [ 0.0876,  0.0733, -0.0601]], grad_fn=<SliceBackward>)\n"
     ]
    },
    {
     "data": {
      "image/png": "[encoded data removed]",
      "text/plain": [
       "<Figure size 432x288 with 1 Axes>"
      ]
     },
     "metadata": {
      "needs_background": "light"
     },
     "output_type": "display_data"
    }
   ],
   "source": [
    "test_encoder_hidden_vector = torch.zeros(MAX_LENGTH, encoder.hidden_size)\n",
    "test_encoder_output_vector = torch.zeros(MAX_LENGTH, encoder.input_size)\n",
    "test_encoder_hidden = encoder.initHidden()\n",
    "\n",
    "for ei in range(test_batch.size(1)):\n",
    "        test_encoder_input = test_batch[0][ei].view(1,1,-1)\n",
    "        test_encoder_output, test_encoder_hidden = encoder(test_encoder_input, test_encoder_hidden)\n",
    "        test_encoder_output_vector[ei] = test_encoder_output\n",
    "\n",
    "plt.plot(np.array(test_encoder_output_vector.detach()[:int(test_time_to_event[0]),1]), test_encoder_output_vector.detach()[:int(test_time_to_event[0]),2])\n",
    "print(test_encoder_output_vector[:10])"
   ]
  },
  {
   "cell_type": "code",
   "execution_count": 7,
   "metadata": {},
   "outputs": [
    {
     "name": "stderr",
     "output_type": "stream",
     "text": [
      "100%|██████████| 5000/5000 [03:11<00:00, 26.17it/s]"
     ]
    },
    {
     "name": "stdout",
     "output_type": "stream",
     "text": [
      "av_epoch_train_loss= 0.00018691217701416463\n"
     ]
    },
    {
     "name": "stderr",
     "output_type": "stream",
     "text": [
      "\n"
     ]
    }
   ],
   "source": [
    "# start training\n",
    "for epoch in trange(NUM_EPOCHS):\n",
    "\n",
    "  epoch_loss = 0\n",
    "\n",
    "  for i, data in enumerate(data_loader):\n",
    "\n",
    "    batch, event, time_to_event, _latent_variable = data\n",
    "\n",
    "    optimizer_encoder.zero_grad()\n",
    "    optimizer_decoder.zero_grad()\n",
    "\n",
    "    encoder_hidden_vector = torch.zeros(MAX_LENGTH, encoder.hidden_size)\n",
    "    encoder_output_vector = torch.zeros(MAX_LENGTH, encoder.input_size)\n",
    "    encoder_hidden = encoder.initHidden()\n",
    "\n",
    "    for ei in range(batch.size(1)):\n",
    "        encoder_input = batch[0][ei].view(1,1,-1)\n",
    "        encoder_output, encoder_hidden = encoder(encoder_input, encoder_hidden)\n",
    "        #encoder_hidden_vector[ei] = self.encoder_hidden[0,0]\n",
    "        encoder_output_vector[ei] = encoder_output\n",
    "\n",
    "    loss3 = mse_loss(encoder_output_vector[:-1], batch.detach().squeeze(0)[1:])\n",
    "\n",
    "    epoch_loss += loss3\n",
    "\n",
    "  epoch_loss.backward()\n",
    "  optimizer_encoder.step()\n",
    "  \n",
    "  writer.add_scalar('Loss/Train', epoch_loss.item(), epoch)\n",
    "print(\"av_epoch_train_loss=\", epoch_loss.item()/len(data_loader))"
   ]
  },
  {
   "cell_type": "code",
   "execution_count": 8,
   "metadata": {},
   "outputs": [
    {
     "name": "stdout",
     "output_type": "stream",
     "text": [
      "tensor([[ 0.0000, 15.4116,  0.1554],\n",
      "        [ 0.0000, 15.9532, -0.1292],\n",
      "        [ 0.0000, 16.4949, -0.3768],\n",
      "        [ 0.0000, 17.0365, -0.5166],\n",
      "        [ 0.0000, 17.5782, -0.5084],\n",
      "        [ 0.0000, 18.1198, -0.3547],\n",
      "        [ 0.0000, 18.6615, -0.0995],\n",
      "        [ 0.0000, 19.2031,  0.1843],\n",
      "        [ 0.0000, 19.7448,  0.4152],\n",
      "        [ 0.0000, 20.2865,  0.5274]])\n"
     ]
    },
    {
     "data": {
      "image/png": "[encoded data removed]",
      "text/plain": [
       "<Figure size 432x288 with 1 Axes>"
      ]
     },
     "metadata": {
      "needs_background": "light"
     },
     "output_type": "display_data"
    }
   ],
   "source": [
    "plt.plot(np.array(test_batch[0][:10,1]), test_batch[0][:10,2])\n",
    "print(test_batch[0,:10])"
   ]
  },
  {
   "cell_type": "code",
   "execution_count": 9,
   "metadata": {},
   "outputs": [
    {
     "name": "stdout",
     "output_type": "stream",
     "text": [
      "tensor([[-1.6035e-03,  1.5951e+01, -1.5633e-01],\n",
      "        [-2.9557e-03,  1.6496e+01, -3.6772e-01],\n",
      "        [ 4.3692e-03,  1.7038e+01, -5.2008e-01],\n",
      "        [ 3.0932e-03,  1.7577e+01, -5.0320e-01],\n",
      "        [ 1.1960e-03,  1.8121e+01, -3.5973e-01],\n",
      "        [-5.8743e-03,  1.8653e+01, -9.8220e-02],\n",
      "        [-1.1574e-03,  1.9213e+01,  1.8693e-01],\n",
      "        [ 2.8693e-04,  1.9759e+01,  4.3245e-01],\n",
      "        [ 2.1316e-03,  2.0264e+01,  5.1522e-01],\n",
      "        [ 1.1189e-03,  2.0825e+01,  4.5461e-01]])\n"
     ]
    },
    {
     "data": {
      "image/png": "[encoded data removed]",
      "text/plain": [
       "<Figure size 432x288 with 1 Axes>"
      ]
     },
     "metadata": {
      "needs_background": "light"
     },
     "output_type": "display_data"
    }
   ],
   "source": [
    "test_encoder_hidden_vector = torch.zeros(MAX_LENGTH, encoder.hidden_size)\n",
    "test_encoder_output_vector = torch.zeros(MAX_LENGTH, encoder.input_size)\n",
    "test_encoder_hidden = encoder.initHidden()\n",
    "\n",
    "for ei in range(batch.size(1)):\n",
    "        test_encoder_input = test_batch[0][ei].view(1,1,-1)\n",
    "        test_encoder_output, test_encoder_hidden = encoder(test_encoder_input, test_encoder_hidden)\n",
    "        test_encoder_output_vector[ei] = test_encoder_output\n",
    "\n",
    "test_encoder_output_vector = test_encoder_output_vector.unsqueeze(0).detach()\n",
    "plt.plot(np.array(test_encoder_output_vector[0][:10,1]), test_encoder_output_vector[0][:10,2])\n",
    "print(test_encoder_output_vector[0,:10])"
   ]
  }
 ],
 "metadata": {
  "interpreter": {
   "hash": "74ec5ca08bfb44a36ce5e8b7da111ffe3399745a8eaaaa6b64ec7ab8258a6e42"
  },
  "kernelspec": {
   "display_name": "Python 3.7.9 64-bit ('py37': conda)",
   "name": "python3"
  },
  "language_info": {
   "codemirror_mode": {
    "name": "ipython",
    "version": 3
   },
   "file_extension": ".py",
   "mimetype": "text/x-python",
   "name": "python",
   "nbconvert_exporter": "python",
   "pygments_lexer": "ipython3",
   "version": "3.8.3"
  },
  "orig_nbformat": 4
 },
 "nbformat": 4,
 "nbformat_minor": 2
}
