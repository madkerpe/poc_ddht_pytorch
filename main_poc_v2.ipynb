{
 "cells": [
  {
   "cell_type": "code",
   "execution_count": 1,
   "metadata": {},
   "outputs": [],
   "source": [
    "import torch\n",
    "import numpy as np\n",
    "import pandas as pd\n",
    "\n",
    "import matplotlib.pyplot as plt\n",
    "%matplotlib inline\n",
    "\n",
    "DEVICE='cuda'"
   ]
  },
  {
   "cell_type": "code",
   "execution_count": 2,
   "metadata": {},
   "outputs": [],
   "source": [
    "from poc_data import PocDataset\n",
    "\n",
    "test_poc_raw_dataset = PocDataset(num_cases=1)\n",
    "test_data_loader = torch.utils.data.DataLoader(test_poc_raw_dataset,batch_size=1)"
   ]
  },
  {
   "cell_type": "code",
   "execution_count": 3,
   "metadata": {},
   "outputs": [
    {
     "name": "stdout",
     "output_type": "stream",
     "text": [
      "tensor([[ 0.0000, 12.6434,  0.0358],\n",
      "        [ 0.0000, 13.4701,  0.3654],\n",
      "        [ 0.0000, 14.2968,  0.4592],\n",
      "        [ 0.0000, 15.1236,  0.2566],\n",
      "        [ 0.0000, 15.9503, -0.1116],\n",
      "        [ 0.0000, 16.7770, -0.4078],\n",
      "        [ 0.0000, 17.6038, -0.4408],\n",
      "        [ 0.0000, 18.4305, -0.1892],\n",
      "        [ 0.0000, 19.2572,  0.1844],\n",
      "        [ 0.0000,  0.0000,  0.0000]], device='cuda:0')\n",
      "event=0, time_to_event=9, latent_variable=0.465103\n"
     ]
    },
    {
     "data": {
      "image/png": "[encoded data removed]",
      "text/plain": [
       "<Figure size 432x288 with 1 Axes>"
      ]
     },
     "metadata": {
      "needs_background": "light"
     },
     "output_type": "display_data"
    }
   ],
   "source": [
    "test_poc_raw_dataset = PocDataset(num_cases=1)\n",
    "test_data_loader = torch.utils.data.DataLoader(test_poc_raw_dataset,batch_size=1)\n",
    "test_batch, test_event, test_time_to_event, test_latent_variable = next(iter(test_data_loader))\n",
    "test_batch = test_batch.to(DEVICE)\n",
    "\n",
    "plt.plot(np.array(test_batch.cpu()[0][:int(test_time_to_event[0]),1]), test_batch.cpu()[0][:int(test_time_to_event[0]),2])\n",
    "print(test_batch[0,:10])\n",
    "print(\"event=%d, time_to_event=%d, latent_variable=%f\" % (test_event.item(), test_time_to_event.item(), test_latent_variable.item()))"
   ]
  },
  {
   "cell_type": "code",
   "execution_count": 4,
   "metadata": {},
   "outputs": [],
   "source": [
    "from torch.nn import MSELoss\n",
    "from tqdm import trange, tqdm\n",
    "\n",
    "from torch.optim import Adam\n",
    "from torch.utils.tensorboard import SummaryWriter\n",
    "\n",
    "from dynamicDeepHit import EncoderRNN, AttnDecoderRNN, CauseSpecificSubnetwork\n",
    "from losses import loss_1\n",
    "\n",
    "poc_raw_dataset = PocDataset(num_cases=2**6)\n",
    "data_loader = torch.utils.data.DataLoader(poc_raw_dataset,batch_size=1)\n",
    "\n",
    "NUM_EPOCHS = 20\n",
    "\n",
    "LEARNING_RATE_ENCODER = 0.001\n",
    "LEARNING_RATE_DECODER = 0.001\n",
    "LEARNING_RATE_REGRESS = 0.001\n",
    "LEARNING_RATE_CAUSESS = 0.0005\n",
    "\n",
    "LOSS_1_AMPLIFIER = 1\n",
    "LOSS_3_AMPLIFIER = 1\n",
    "LOSS_4_AMPLIFIER = 0\n",
    "\n",
    "input_size = 3\n",
    "output_size = input_size\n",
    "MAX_LENGTH = 20\n",
    "NUM_CAUSES = 2\n",
    "hidden_size_encoder = 128\n",
    "hidden_size_regress = 128\n",
    "fc_size_encoder = 256\n",
    "\n",
    "# initialize model\n",
    "encoder = EncoderRNN(input_size, hidden_size_encoder, fc_size_encoder).to(DEVICE)\n",
    "decoder = AttnDecoderRNN(hidden_size_encoder, output_size, MAX_LENGTH).to(DEVICE)\n",
    "#regress = RegressionNetwork(hidden_size_encoder, hidden_size_regress).to(DEVICE)\n",
    "causess = CauseSpecificSubnetwork(hidden_size_encoder, input_size, MAX_LENGTH, NUM_CAUSES).to(DEVICE)\n",
    "\n",
    "# intialize optimizer\n",
    "optimizer_encoder = Adam(encoder.parameters(), lr=LEARNING_RATE_ENCODER)\n",
    "optimizer_decoder = Adam(decoder.parameters(), lr=LEARNING_RATE_DECODER)\n",
    "#optimizer_regress = Adam(regress.parameters(), lr=LEARNING_RATE_REGRESS)\n",
    "optimizer_causess = Adam(causess.parameters(), lr=LEARNING_RATE_CAUSESS)\n",
    " \n",
    "# initialize loss\n",
    "mse_loss = MSELoss()\n",
    "writer = SummaryWriter()"
   ]
  },
  {
   "cell_type": "code",
   "execution_count": 5,
   "metadata": {},
   "outputs": [
    {
     "name": "stderr",
     "output_type": "stream",
     "text": [
      "100%|██████████| 20/20 [00:52<00:00,  2.61s/it]"
     ]
    },
    {
     "name": "stdout",
     "output_type": "stream",
     "text": [
      "av_epoch_train_loss= 137.7313690185547\n"
     ]
    },
    {
     "name": "stderr",
     "output_type": "stream",
     "text": [
      "\n"
     ]
    }
   ],
   "source": [
    "import time\n",
    "\n",
    "total_time = 0\n",
    "its = 0\n",
    "\n",
    "# start training\n",
    "for epoch in trange(NUM_EPOCHS):\n",
    "\n",
    "  epoch_loss = 0\n",
    "\n",
    "  optimizer_encoder.zero_grad()\n",
    "  optimizer_decoder.zero_grad()\n",
    "  #optimizer_regress.zero_grad()\n",
    "  optimizer_causess.zero_grad()\n",
    "  \n",
    "\n",
    "  for i, data in enumerate(data_loader):\n",
    "\n",
    "    its += 1\n",
    "    \n",
    "\n",
    "    batch, event, time_to_event, _latent_variable = data\n",
    "\n",
    "    batch = batch.to(DEVICE)\n",
    "    event = event.to(DEVICE)\n",
    "    time_to_event = time_to_event.to(DEVICE)\n",
    "    _latent_variable = _latent_variable.to(DEVICE)\n",
    "\n",
    "    encoder_hidden_vector = torch.zeros(MAX_LENGTH, encoder.hidden_size, device=DEVICE)\n",
    "    encoder_output_vector = torch.zeros(MAX_LENGTH, encoder.input_size, device=DEVICE)\n",
    "    encoder_hidden = encoder.initHidden(device=DEVICE)\n",
    "\n",
    "    for ei in range(batch.size(1)):\n",
    "        encoder_input = batch[0][ei].view(1,1,-1)\n",
    "        encoder_output, encoder_hidden = encoder(encoder_input, encoder_hidden)\n",
    "        encoder_hidden_vector[ei] = encoder_hidden[0,0]\n",
    "        encoder_output_vector[ei] = encoder_output\n",
    "    \n",
    "    last_measurement = batch[0][ei]\n",
    "    context_vector = decoder(last_measurement, encoder_hidden_vector)\n",
    "    first_hitting_time = causess(context_vector, last_measurement)\n",
    "\n",
    "    \n",
    "    loss1 = loss_1(first_hitting_time, event, time_to_event, MAX_LENGTH)\n",
    "    loss3 = mse_loss(encoder_output_vector[:-1], batch.detach().squeeze(0)[1:])\n",
    "\n",
    "    epoch_loss += LOSS_1_AMPLIFIER*loss1 + LOSS_3_AMPLIFIER*loss3\n",
    "\n",
    "  writer.add_scalar('loss1', loss1.item(), epoch*len(data_loader) + i)\n",
    "  writer.add_scalar('loss3', loss3.item(), epoch*len(data_loader) + i)\n",
    "  writer.add_scalar('loss_epoch', epoch_loss.item(), epoch)\n",
    "\n",
    "  epoch_loss.backward()\n",
    "\n",
    "  start = time.time()\n",
    "  optimizer_encoder.step()\n",
    "  optimizer_decoder.step()\n",
    "  optimizer_causess.step()\n",
    "  end = time.time()\n",
    "  total_time += end - start\n",
    "\n",
    "  \n",
    "  \n",
    "print(\"av_epoch_train_loss=\", epoch_loss.item()/len(data_loader))"
   ]
  },
  {
   "cell_type": "code",
   "execution_count": 6,
   "metadata": {},
   "outputs": [
    {
     "name": "stdout",
     "output_type": "stream",
     "text": [
      "0.0022478818893432615\n",
      "1280\n",
      "0.044957637786865234\n"
     ]
    }
   ],
   "source": [
    "print(total_time/NUM_EPOCHS)\n",
    "print(its)\n",
    "print(total_time)"
   ]
  },
  {
   "cell_type": "markdown",
   "metadata": {},
   "source": [
    "* zero grad time = 0.0006914854049682618\n",
    "* initialising vector time = 0.0005470195785164834\n",
    "* encoder forward = 0.012803261168301105 @ NUM_EPOCHS*MAX_LENGTH ~ 40%\n",
    "* decoder forward = 0.0003232633695006371\n",
    "* causess forward = 0.00042380280792713164\n",
    "* computing losses = 0.00033656619489192964\n",
    "* backwards computation = 1.441696321964264 @ NUM_EPOCHS ~60%"
   ]
  },
  {
   "cell_type": "code",
   "execution_count": 7,
   "metadata": {},
   "outputs": [
    {
     "name": "stdout",
     "output_type": "stream",
     "text": [
      "tensor([[ 5.5005e+00,  5.6528e+00, -2.3848e-02],\n",
      "        [ 9.6709e+00,  9.7914e+00, -3.1327e-02],\n",
      "        [ 1.2491e+01,  1.2505e+01, -3.4648e-02],\n",
      "        [ 1.4081e+01,  1.4002e+01, -3.0811e-02],\n",
      "        [ 1.4913e+01,  1.4775e+01, -2.5024e-02],\n",
      "        [ 1.5377e+01,  1.5208e+01, -2.1296e-02],\n",
      "        [ 1.5679e+01,  1.5494e+01, -1.9105e-02],\n",
      "        [ 1.5906e+01,  1.5712e+01, -1.7810e-02],\n",
      "        [ 1.6090e+01,  1.5893e+01, -1.7172e-02],\n",
      "        [ 9.1561e+00,  8.9126e+00,  6.8234e-03]], device='cuda:0')\n",
      "event=0, time_to_event=9, latent_variable=0.465103\n"
     ]
    },
    {
     "data": {
      "image/png": "[encoded data removed]",
      "text/plain": [
       "<Figure size 432x288 with 1 Axes>"
      ]
     },
     "metadata": {
      "needs_background": "light"
     },
     "output_type": "display_data"
    }
   ],
   "source": [
    "test_encoder_hidden_vector = torch.zeros(MAX_LENGTH, encoder.hidden_size, device=DEVICE)\n",
    "test_encoder_output_vector = torch.zeros(MAX_LENGTH, encoder.input_size, device=DEVICE)\n",
    "test_encoder_hidden = encoder.initHidden(device=DEVICE)\n",
    "\n",
    "for ei in range(test_batch.size(1)):\n",
    "        test_encoder_input = test_batch[0][ei].view(1,1,-1)\n",
    "        test_encoder_output, test_encoder_hidden = encoder(test_encoder_input, test_encoder_hidden)\n",
    "        test_encoder_output_vector[ei] = test_encoder_output\n",
    "\n",
    "test_last_measurement = test_batch[0][ei]\n",
    "test_context_vector = decoder(test_last_measurement, test_encoder_hidden_vector)\n",
    "#test_estimated_latent_variable = regress(test_context_vector)\n",
    "test_first_hitting_time = causess(test_context_vector, test_last_measurement)\n",
    "\n",
    "test_encoder_output_vector = test_encoder_output_vector.unsqueeze(0).detach()\n",
    "plt.plot(np.array(test_encoder_output_vector.cpu()[0][0:23,1]), test_encoder_output_vector.cpu()[0][0:23,2])\n",
    "print(test_encoder_output_vector[0,:10])\n",
    "#print(\"real lv was %f, we estimated %f\" % (test_latent_variable.item(), test_estimated_latent_variable.item()))\n",
    "print(\"event=%d, time_to_event=%d, latent_variable=%f\" % (test_event.item(), test_time_to_event.item(), test_latent_variable.item()))"
   ]
  }
 ],
 "metadata": {
  "interpreter": {
   "hash": "1162292f9e2162f53ea5c4176d9915b4f0e55999af293617efbf3f69fa248591"
  },
  "kernelspec": {
   "display_name": "Python 3.8.3 64-bit ('base': conda)",
   "language": "python",
   "name": "python3"
  },
  "language_info": {
   "codemirror_mode": {
    "name": "ipython",
    "version": 3
   },
   "file_extension": ".py",
   "mimetype": "text/x-python",
   "name": "python",
   "nbconvert_exporter": "python",
   "pygments_lexer": "ipython3",
   "version": "3.8.3"
  },
  "orig_nbformat": 4
 },
 "nbformat": 4,
 "nbformat_minor": 2
}
