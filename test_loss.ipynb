{
 "cells": [
  {
   "cell_type": "code",
   "execution_count": 1,
   "metadata": {},
   "outputs": [],
   "source": [
    "import numpy as np\n",
    "import pandas as pd\n",
    "import torch\n",
    "\n",
    "import matplotlib.pyplot as plt\n",
    "%matplotlib inline"
   ]
  },
  {
   "cell_type": "code",
   "execution_count": 2,
   "metadata": {},
   "outputs": [],
   "source": [
    "from torch.utils.data import DataLoader\n",
    "from poc_data import PocDataset, display_sample\n",
    "\n",
    "\n",
    "NUM_CASES = 2**2\n",
    "\n",
    "poc_raw_dataset = PocDataset(num_cases=NUM_CASES, test_set=True, repays=False)\n",
    "data_loader = DataLoader(dataset=poc_raw_dataset,\n",
    "                        batch_size=NUM_CASES,\n",
    "                        shuffle=False,\n",
    "                        pin_memory=True)\n",
    "\n",
    "all_data, all_data_length, all_event, all_tte, all_meta = next(iter(data_loader))"
   ]
  },
  {
   "cell_type": "code",
   "execution_count": 3,
   "metadata": {},
   "outputs": [
    {
     "name": "stdout",
     "output_type": "stream",
     "text": [
      "torch.Size([4, 24, 5])\n",
      "torch.Size([4, 1])\n",
      "torch.Size([4, 1])\n"
     ]
    }
   ],
   "source": [
    "print(all_data.shape)\n",
    "print(all_data_length.shape)\n",
    "print(all_event.shape)"
   ]
  },
  {
   "cell_type": "code",
   "execution_count": 4,
   "metadata": {},
   "outputs": [],
   "source": [
    "from losses import loss_1_batch, loss_2_batch, loss_3_batch\n",
    "\n",
    "input_size = 5\n",
    "output_size = input_size\n",
    "MAX_LENGTH = 36\n",
    "NUM_CAUSES = 3\n",
    "hidden_size_encoder = 512\n",
    "hidden_size_attention = 512\n",
    "fc_size_encoder = 512\n",
    "SIGMA = 1\n",
    "\n",
    "LOSS_1_AMPLIFIER = 1\n",
    "LOSS_2_AMPLIFIER = 1\n",
    "LOSS_3_AMPLIFIER = 0.1\n",
    "\n",
    "DEVICE = 'cpu'"
   ]
  },
  {
   "cell_type": "code",
   "execution_count": 5,
   "metadata": {},
   "outputs": [
    {
     "name": "stdout",
     "output_type": "stream",
     "text": [
      "loss1= tensor([0.])\n"
     ]
    }
   ],
   "source": [
    "## Sanity check on only events for loss 1 --> This should give a loss of zero\n",
    "BATCH_LENGTH = 1\n",
    "\n",
    "first_hitting_time_batch = torch.zeros(BATCH_LENGTH, MAX_LENGTH*NUM_CAUSES)\n",
    "\n",
    "first_hitting_time_batch[0,16] = 0\n",
    "first_hitting_time_batch[0,15] = 0\n",
    "first_hitting_time_batch[0,14] = 1\n",
    "first_hitting_time_batch[0,13] = 0\n",
    "first_hitting_time_batch[0,12] = 0\n",
    "\n",
    "batch_event = torch.zeros(BATCH_LENGTH, 1)\n",
    "batch_event[0] = 0\n",
    "\n",
    "batch_tte = torch.zeros(BATCH_LENGTH, 1)\n",
    "batch_tte[0] = 15\n",
    "\n",
    "batch_data_length = torch.zeros(BATCH_LENGTH, 1)\n",
    "batch_data_length[0] = 15\n",
    "\n",
    "loss1 = LOSS_1_AMPLIFIER*loss_1_batch(first_hitting_time_batch, batch_event, batch_tte, batch_data_length, MAX_LENGTH)\n",
    "print(\"loss1=\", loss1)"
   ]
  },
  {
   "cell_type": "code",
   "execution_count": 6,
   "metadata": {},
   "outputs": [
    {
     "name": "stdout",
     "output_type": "stream",
     "text": [
      "loss1= tensor([20.7233])\n"
     ]
    }
   ],
   "source": [
    "## Sanity check on only events for loss 1 --> This should give a high loss\n",
    "BATCH_LENGTH = 1\n",
    "\n",
    "first_hitting_time_batch = torch.zeros(BATCH_LENGTH, MAX_LENGTH*NUM_CAUSES)\n",
    "\n",
    "first_hitting_time_batch[0,16] = 0\n",
    "first_hitting_time_batch[0,15] = 0\n",
    "first_hitting_time_batch[0,14] = 0\n",
    "first_hitting_time_batch[0,13] = 0\n",
    "first_hitting_time_batch[0,12] = 1\n",
    "\n",
    "batch_event = torch.zeros(BATCH_LENGTH, 1)\n",
    "batch_event[0] = 0\n",
    "\n",
    "batch_tte = torch.zeros(BATCH_LENGTH, 1)\n",
    "batch_tte[0] = 15\n",
    "\n",
    "batch_data_length = torch.zeros(BATCH_LENGTH, 1)\n",
    "batch_data_length[0] = 15\n",
    "\n",
    "loss1 = LOSS_1_AMPLIFIER*loss_1_batch(first_hitting_time_batch, batch_event, batch_tte, batch_data_length, MAX_LENGTH)\n",
    "print(\"loss1=\", loss1)"
   ]
  },
  {
   "cell_type": "code",
   "execution_count": 7,
   "metadata": {},
   "outputs": [
    {
     "name": "stdout",
     "output_type": "stream",
     "text": [
      "loss1= tensor([20.7233])\n"
     ]
    }
   ],
   "source": [
    "## Sanity check on only events for loss 1 --> This should give a high loss\n",
    "BATCH_LENGTH = 1\n",
    "\n",
    "first_hitting_time_batch = torch.zeros(BATCH_LENGTH, MAX_LENGTH*NUM_CAUSES)\n",
    "\n",
    "first_hitting_time_batch[0,16] = 1\n",
    "first_hitting_time_batch[0,15] = 0\n",
    "first_hitting_time_batch[0,14] = 0\n",
    "first_hitting_time_batch[0,13] = 0\n",
    "first_hitting_time_batch[0,12] = 0\n",
    "\n",
    "batch_event = torch.zeros(BATCH_LENGTH, 1)\n",
    "batch_event[0] = 0\n",
    "\n",
    "batch_tte = torch.zeros(BATCH_LENGTH, 1)\n",
    "batch_tte[0] = 15\n",
    "\n",
    "batch_data_length = torch.zeros(BATCH_LENGTH, 1)\n",
    "batch_data_length[0] = 15\n",
    "\n",
    "loss1 = LOSS_1_AMPLIFIER*loss_1_batch(first_hitting_time_batch, batch_event, batch_tte, batch_data_length, MAX_LENGTH)\n",
    "print(\"loss1=\", loss1)"
   ]
  },
  {
   "cell_type": "code",
   "execution_count": 8,
   "metadata": {},
   "outputs": [
    {
     "name": "stdout",
     "output_type": "stream",
     "text": [
      "loss1= tensor([0.])\n"
     ]
    }
   ],
   "source": [
    "## Sanity check on only events for loss 1 --> This should give a high loss\n",
    "BATCH_LENGTH = 1\n",
    "\n",
    "first_hitting_time_batch = torch.zeros(BATCH_LENGTH, MAX_LENGTH*NUM_CAUSES)\n",
    "\n",
    "first_hitting_time_batch[0,16] = 0\n",
    "first_hitting_time_batch[0,15] = 0\n",
    "first_hitting_time_batch[0,14] = 0.75\n",
    "first_hitting_time_batch[0,13] = 0\n",
    "first_hitting_time_batch[0,12] = 0\n",
    "first_hitting_time_batch[0,11] = 0\n",
    "first_hitting_time_batch[0,5] = 0.25\n",
    "\n",
    "batch_event = torch.zeros(BATCH_LENGTH, 1)\n",
    "batch_event[0] = 0\n",
    "\n",
    "batch_tte = torch.zeros(BATCH_LENGTH, 1)\n",
    "batch_tte[0] = 15\n",
    "\n",
    "batch_data_length = torch.zeros(BATCH_LENGTH, 1)\n",
    "batch_data_length[0] = 12\n",
    "\n",
    "loss1 = LOSS_1_AMPLIFIER*loss_1_batch(first_hitting_time_batch, batch_event, batch_tte, batch_data_length, MAX_LENGTH)\n",
    "print(\"loss1=\", loss1)\n",
    "#But it doesn't, it does what I thought would be the problem :/"
   ]
  },
  {
   "cell_type": "code",
   "execution_count": 9,
   "metadata": {},
   "outputs": [
    {
     "name": "stdout",
     "output_type": "stream",
     "text": [
      "CIF_K= tensor([0., 0., 0., 0., 0., 0., 0., 0., 0., 0., 0., 0., 0., 0., 0., 0., 0., 0., 0., 0., 0., 0., 0., 0.,\n",
      "        0., 0., 0., 0., 0., 0., 0., 0., 0., 0., 0., 0.])\n",
      "CIF_K= tensor([0., 0., 0., 0., 0., 0., 0., 0., 0., 0., 0., 0., 0., 0., 0., 0., 0., 0., 0., 0., 0., 0., 0., 0.,\n",
      "        0., 0., 0., 0., 0., 0., 0., 0., 0., 0., 0., 0.])\n",
      "CIF_K= tensor([0., 0., 0., 0., 0., 0., 0., 0., 0., 0., 0., 0., 0., 0., 0., 0., 0., 0., 0., 0., 0., 0., 0., 0.,\n",
      "        0., 0., 0., 0., 0., 0., 0., 0., 0., 0., 0., 0.])\n",
      "data_length= 15\n",
      "CIF_K= tensor([0., 0., 0., 0., 0., 0., 0., 0., 0., 0., 0., 0., 0., 0., 0., 0., 0., 0., 0., 0., 0., 0., 0., 0.,\n",
      "        0., 0., 0., 0., 0., 0., 0., 0., 0., 0., 0., 0.])\n",
      "CIF_K= tensor([0., 0., 0., 0., 0., 0., 0., 0., 0., 0., 0., 0., 0., 0., 0., 0., 0., 0., 0., 0., 0., 0., 0., 0.,\n",
      "        0., 0., 0., 0., 0., 0., 0., 0., 0., 0., 0., 0.])\n",
      "CIF_K= tensor([0., 0., 0., 0., 0., 0., 0., 0., 0., 0., 0., 0., 0., 0., 0., 0., 0., 0., 0., 0., 0., 0., 0., 0.,\n",
      "        0., 0., 0., 0., 0., 0., 0., 0., 0., 0., 0., 0.])\n",
      "CIF= tensor([[0., 0., 0., 0., 0., 0., 0., 0., 0., 0., 0., 0., 0., 0., 0., 0., 0., 0., 0., 0., 0., 0., 0., 0.,\n",
      "         0., 0., 0., 0., 0., 0., 0., 0., 0., 0., 0., 0.],\n",
      "        [0., 0., 0., 0., 0., 0., 0., 0., 0., 0., 0., 0., 0., 0., 0., 0., 0., 0., 0., 0., 0., 0., 0., 0.,\n",
      "         0., 0., 0., 0., 0., 0., 0., 0., 0., 0., 0., 0.],\n",
      "        [0., 0., 0., 0., 0., 0., 0., 0., 0., 0., 0., 0., 0., 0., 0., 0., 0., 0., 0., 0., 0., 0., 0., 0.,\n",
      "         0., 0., 0., 0., 0., 0., 0., 0., 0., 0., 0., 0.]])\n",
      "loss1= tensor([0.])\n"
     ]
    }
   ],
   "source": [
    "## Check including censoring events, this should be a high loss\n",
    "BATCH_LENGTH = 1\n",
    "\n",
    "first_hitting_time_batch = torch.zeros(BATCH_LENGTH, MAX_LENGTH*NUM_CAUSES)\n",
    "\n",
    "first_hitting_time_batch[0,18] = 0\n",
    "first_hitting_time_batch[0,15] = 0\n",
    "first_hitting_time_batch[0,14] = 0\n",
    "first_hitting_time_batch[0,13] = 0.02\n",
    "first_hitting_time_batch[0,12] = 0.23\n",
    "first_hitting_time_batch[0,9] = 0.25\n",
    "first_hitting_time_batch[0,5] = 0.25\n",
    "\n",
    "batch_event = torch.zeros(BATCH_LENGTH, 1)\n",
    "batch_event[0] = 3\n",
    "\n",
    "batch_tte = torch.zeros(BATCH_LENGTH, 1)\n",
    "batch_tte[0] = 15\n",
    "\n",
    "batch_data_length = torch.zeros(BATCH_LENGTH, 1)\n",
    "batch_data_length[0] = 15\n",
    "\n",
    "loss1 = LOSS_1_AMPLIFIER*loss_1_batch(first_hitting_time_batch, batch_event, batch_tte, batch_data_length, MAX_LENGTH)\n",
    "print(\"loss1=\", loss1)"
   ]
  },
  {
   "cell_type": "code",
   "execution_count": 10,
   "metadata": {},
   "outputs": [
    {
     "name": "stdout",
     "output_type": "stream",
     "text": [
      "CIF_K= tensor([0.0000, 0.0000, 0.0000, 0.0000, 0.0000, 0.0000, 0.0000, 0.0000, 0.0000,\n",
      "        0.0000, 0.0000, 0.0000, 0.0000, 0.0000, 0.0152, 0.0303, 0.0455, 0.0606,\n",
      "        0.0758, 0.0909, 0.1061, 0.1212, 0.1364, 0.1515, 0.1667, 0.1818, 0.1970,\n",
      "        0.2121, 0.2273, 0.2424, 0.2576, 0.2727, 0.2879, 0.3030, 0.3182, 0.3333])\n",
      "CIF_K= tensor([0.0000, 0.0000, 0.0000, 0.0000, 0.0000, 0.0000, 0.0000, 0.0000, 0.0000,\n",
      "        0.0000, 0.0000, 0.0000, 0.0000, 0.0000, 0.0152, 0.0303, 0.0455, 0.0606,\n",
      "        0.0758, 0.0909, 0.1061, 0.1212, 0.1364, 0.1515, 0.1667, 0.1818, 0.1970,\n",
      "        0.2121, 0.2273, 0.2424, 0.2576, 0.2727, 0.2879, 0.3030, 0.3182, 0.3333])\n",
      "CIF_K= tensor([0.0000, 0.0000, 0.0000, 0.0000, 0.0000, 0.0000, 0.0000, 0.0000, 0.0000,\n",
      "        0.0000, 0.0000, 0.0000, 0.0000, 0.0000, 0.0152, 0.0303, 0.0455, 0.0606,\n",
      "        0.0758, 0.0909, 0.1061, 0.1212, 0.1364, 0.1515, 0.1667, 0.1818, 0.1970,\n",
      "        0.2121, 0.2273, 0.2424, 0.2576, 0.2727, 0.2879, 0.3030, 0.3182, 0.3333])\n",
      "data_length= 15\n",
      "CIF_K= tensor([0.0000, 0.0000, 0.0000, 0.0000, 0.0000, 0.0000, 0.0000, 0.0000, 0.0000,\n",
      "        0.0000, 0.0000, 0.0000, 0.0000, 0.0000, 0.0152, 0.0303, 0.0455, 0.0606,\n",
      "        0.0758, 0.0909, 0.1061, 0.1212, 0.1364, 0.1515, 0.1667, 0.1818, 0.1970,\n",
      "        0.2121, 0.2273, 0.2424, 0.2576, 0.2727, 0.2879, 0.3030, 0.3182, 0.3333])\n",
      "CIF_K= tensor([0.0000, 0.0000, 0.0000, 0.0000, 0.0000, 0.0000, 0.0000, 0.0000, 0.0000,\n",
      "        0.0000, 0.0000, 0.0000, 0.0000, 0.0000, 0.0152, 0.0303, 0.0455, 0.0606,\n",
      "        0.0758, 0.0909, 0.1061, 0.1212, 0.1364, 0.1515, 0.1667, 0.1818, 0.1970,\n",
      "        0.2121, 0.2273, 0.2424, 0.2576, 0.2727, 0.2879, 0.3030, 0.3182, 0.3333])\n",
      "CIF_K= tensor([0.0000, 0.0000, 0.0000, 0.0000, 0.0000, 0.0000, 0.0000, 0.0000, 0.0000,\n",
      "        0.0000, 0.0000, 0.0000, 0.0000, 0.0000, 0.0152, 0.0303, 0.0455, 0.0606,\n",
      "        0.0758, 0.0909, 0.1061, 0.1212, 0.1364, 0.1515, 0.1667, 0.1818, 0.1970,\n",
      "        0.2121, 0.2273, 0.2424, 0.2576, 0.2727, 0.2879, 0.3030, 0.3182, 0.3333])\n",
      "CIF= tensor([[0.0000, 0.0000, 0.0000, 0.0000, 0.0000, 0.0000, 0.0000, 0.0000, 0.0000,\n",
      "         0.0000, 0.0000, 0.0000, 0.0000, 0.0000, 0.0152, 0.0303, 0.0455, 0.0606,\n",
      "         0.0758, 0.0909, 0.1061, 0.1212, 0.1364, 0.1515, 0.1667, 0.1818, 0.1970,\n",
      "         0.2121, 0.2273, 0.2424, 0.2576, 0.2727, 0.2879, 0.3030, 0.3182, 0.3333],\n",
      "        [0.0000, 0.0000, 0.0000, 0.0000, 0.0000, 0.0000, 0.0000, 0.0000, 0.0000,\n",
      "         0.0000, 0.0000, 0.0000, 0.0000, 0.0000, 0.0152, 0.0303, 0.0455, 0.0606,\n",
      "         0.0758, 0.0909, 0.1061, 0.1212, 0.1364, 0.1515, 0.1667, 0.1818, 0.1970,\n",
      "         0.2121, 0.2273, 0.2424, 0.2576, 0.2727, 0.2879, 0.3030, 0.3182, 0.3333],\n",
      "        [0.0000, 0.0000, 0.0000, 0.0000, 0.0000, 0.0000, 0.0000, 0.0000, 0.0000,\n",
      "         0.0000, 0.0000, 0.0000, 0.0000, 0.0000, 0.0152, 0.0303, 0.0455, 0.0606,\n",
      "         0.0758, 0.0909, 0.1061, 0.1212, 0.1364, 0.1515, 0.1667, 0.1818, 0.1970,\n",
      "         0.2121, 0.2273, 0.2424, 0.2576, 0.2727, 0.2879, 0.3030, 0.3182, 0.3333]])\n",
      "loss1= tensor([0.])\n"
     ]
    }
   ],
   "source": [
    "## Check including censoring events, this should be a high loss\n",
    "BATCH_LENGTH = 1\n",
    "\n",
    "first_hitting_time_batch = torch.zeros(BATCH_LENGTH, MAX_LENGTH*NUM_CAUSES)\n",
    "\n",
    "first_hitting_time_batch[0,16] = 0\n",
    "first_hitting_time_batch[0,15] = 0\n",
    "first_hitting_time_batch[0,14] = 0\n",
    "first_hitting_time_batch[0,13] = 0.02\n",
    "first_hitting_time_batch[0,12] = 0.23\n",
    "first_hitting_time_batch[0,9] = 0.25\n",
    "first_hitting_time_batch[0,5] = 0.25\n",
    "\n",
    "first_hitting_time_batch = torch.softmax(first_hitting_time_batch, dim=1)\n",
    "\n",
    "batch_event = torch.zeros(BATCH_LENGTH, 1)\n",
    "batch_event[0] = 3\n",
    "\n",
    "batch_tte = torch.zeros(BATCH_LENGTH, 1)\n",
    "batch_tte[0] = 90909\n",
    "\n",
    "batch_data_length = torch.zeros(BATCH_LENGTH, 1)\n",
    "batch_data_length[0] = 15\n",
    "\n",
    "loss1 = LOSS_1_AMPLIFIER*loss_1_batch(first_hitting_time_batch, batch_event, batch_tte, batch_data_length, MAX_LENGTH)\n",
    "print(\"loss1=\", loss1)"
   ]
  },
  {
   "cell_type": "code",
   "execution_count": 11,
   "metadata": {},
   "outputs": [
    {
     "name": "stdout",
     "output_type": "stream",
     "text": [
      "loss1= tensor([0.])\n"
     ]
    }
   ],
   "source": [
    "## Checking full repays\n",
    "BATCH_LENGTH = 1\n",
    "\n",
    "first_hitting_time_batch = torch.zeros(BATCH_LENGTH, MAX_LENGTH*NUM_CAUSES)\n",
    "\n",
    "first_hitting_time_batch[0,35 + 2*MAX_LENGTH] = 1\n",
    "first_hitting_time_batch[0,34 + 2*MAX_LENGTH] = 0\n",
    "first_hitting_time_batch[0,15 + 2*MAX_LENGTH] = 0\n",
    "first_hitting_time_batch[0,14 + 2*MAX_LENGTH] = 0\n",
    "first_hitting_time_batch[0,13 + 2*MAX_LENGTH] = 0\n",
    "first_hitting_time_batch[0,12 + 2*MAX_LENGTH] = 0\n",
    "first_hitting_time_batch[0,9 + 2*MAX_LENGTH] = 0\n",
    "first_hitting_time_batch[0,5 + 2*MAX_LENGTH] = 0\n",
    "\n",
    "batch_event = torch.zeros(BATCH_LENGTH, 1)\n",
    "batch_event[0] = 2\n",
    "\n",
    "batch_tte = torch.zeros(BATCH_LENGTH, 1)\n",
    "batch_tte[0] = 36\n",
    "\n",
    "batch_data_length = torch.zeros(BATCH_LENGTH, 1)\n",
    "batch_data_length[0] = 36\n",
    "\n",
    "loss1 = LOSS_1_AMPLIFIER*loss_1_batch(first_hitting_time_batch, batch_event, batch_tte, batch_data_length, MAX_LENGTH)\n",
    "print(\"loss1=\", loss1)"
   ]
  },
  {
   "cell_type": "code",
   "execution_count": 12,
   "metadata": {},
   "outputs": [
    {
     "data": {
      "image/png": "[encoded data removed]",
      "text/plain": [
       "<Figure size 720x360 with 6 Axes>"
      ]
     },
     "metadata": {
      "needs_background": "light"
     },
     "output_type": "display_data"
    }
   ],
   "source": [
    "from utils import plot_fht, plot_cif, plot_fht_and_cif\n",
    "\n",
    "first_hitting_time = first_hitting_time_batch[0]\n",
    "plot_fht_and_cif(first_hitting_time, MAX_LENGTH)\n",
    "\n",
    "#We bedoelen dat als bij event 0, de index 14 op 1 staat, dan is het na de 15de observation dat het gaat falen, dus na het data-inputje dat op index 14 staat, maar dus de 15de input is"
   ]
  },
  {
   "cell_type": "code",
   "execution_count": 13,
   "metadata": {},
   "outputs": [
    {
     "name": "stdout",
     "output_type": "stream",
     "text": [
      "loss1= tensor([0.])\n"
     ]
    }
   ],
   "source": [
    "loss1 = LOSS_1_AMPLIFIER*loss_1_batch(first_hitting_time_batch, batch_event, batch_tte, batch_data_length, MAX_LENGTH)\n",
    "print(\"loss1=\", loss1)"
   ]
  },
  {
   "cell_type": "code",
   "execution_count": 14,
   "metadata": {},
   "outputs": [
    {
     "name": "stdout",
     "output_type": "stream",
     "text": [
      "loss2= tensor([0.])\n"
     ]
    }
   ],
   "source": [
    "loss2 = LOSS_2_AMPLIFIER*loss_2_batch(first_hitting_time_batch, batch_event, batch_tte, NUM_CAUSES, MAX_LENGTH, SIGMA, DEVICE)\n",
    "print(\"loss2=\", loss2)"
   ]
  },
  {
   "cell_type": "code",
   "execution_count": 15,
   "metadata": {},
   "outputs": [],
   "source": [
    "#loss3 = LOSS_3_AMPLIFIER*loss_3_batch(output_batch, batch_data.detach())\n",
    "#print(\"loss3=\", loss3)"
   ]
  },
  {
   "cell_type": "code",
   "execution_count": 16,
   "metadata": {},
   "outputs": [
    {
     "name": "stdout",
     "output_type": "stream",
     "text": [
      "tensor([0.0000, 0.0000, 0.0000, 0.0000, 0.0000, 0.0000, 0.0000, 0.0000, 0.0000,\n",
      "        0.0000, 1.2665, 3.3914, 1.2001, 1.3777, 1.5898, 3.5938, 2.1734, 1.1287,\n",
      "        3.4193, 1.0938, 1.2417, 3.4083, 1.5473, 1.3925])\n",
      "tensor([0.0056, 0.0056, 0.0056, 0.0056, 0.0056, 0.0056, 0.0056, 0.0056, 0.0056,\n",
      "        0.0056, 0.0198, 0.1654, 0.0185, 0.0221, 0.0273, 0.2025, 0.0489, 0.0172,\n",
      "        0.1701, 0.0166, 0.0193, 0.1682, 0.0262, 0.0224])\n"
     ]
    }
   ],
   "source": [
    "from losses import CIF_K_tau as cif\n",
    "from losses import CIF_K as cif_k\n",
    "from baseline_losses import CIF_K as cif_k_baseline\n",
    "\n",
    "import matplotlib.pyplot as plt\n",
    "#def CIF_K(first_hitting_time, event_k, data_length, MAX_LENGTH):\n",
    "\n",
    "a = torch.randn(24) + 2\n",
    "a[:10] = torch.zeros(10)\n",
    "print(a)\n",
    "a = torch.softmax(a, dim=0)\n",
    "print(a)"
   ]
  },
  {
   "cell_type": "code",
   "execution_count": 17,
   "metadata": {},
   "outputs": [
    {
     "name": "stdout",
     "output_type": "stream",
     "text": [
      "event 0= tensor(0.0056)\n",
      "tensor([0.0056, 0.0056, 0.0056, 0.0056, 0.0056, 0.0056, 0.0056, 0.0056, 0.0056,\n",
      "        0.0056, 0.0198, 0.1654, 0.0185, 0.0221, 0.0273, 0.2025, 0.0489, 0.0172,\n",
      "        0.1701, 0.0166, 0.0193, 0.1682, 0.0262, 0.0224])\n"
     ]
    },
    {
     "data": {
      "text/plain": [
       "<BarContainer object of 24 artists>"
      ]
     },
     "execution_count": 17,
     "metadata": {},
     "output_type": "execute_result"
    },
    {
     "data": {
      "image/png": "[encoded data removed]",
      "text/plain": [
       "<Figure size 432x288 with 1 Axes>"
      ]
     },
     "metadata": {
      "needs_background": "light"
     },
     "output_type": "display_data"
    }
   ],
   "source": [
    "#def CIF_K_tau(first_hitting_time, event_k, tte, data_length, MAX_LENGTH):\n",
    "p_ev0 = cif(a, 0, 1, 1, 24)\n",
    "print(\"event 0=\", p_ev0)\n",
    "\n",
    "print(a)\n",
    "\n",
    "plt.bar([i for i in range(24)], cif_k(a, 0, 24, 24).numpy())\n",
    "#TODO dezelfde CIF eens plotten voor DEEPHIT! Volgens mij zit daar ook een fout, dezelfde indexering denk ik!\n"
   ]
  },
  {
   "cell_type": "code",
   "execution_count": 23,
   "metadata": {},
   "outputs": [
    {
     "name": "stdout",
     "output_type": "stream",
     "text": [
      "event 0= tensor(0.0056)\n",
      "tensor([0.0056, 0.0056, 0.0056, 0.0056, 0.0056, 0.0056, 0.0056, 0.0056, 0.0056,\n",
      "        0.0056, 0.0198, 0.1654, 0.0185, 0.0221, 0.0273, 0.2025, 0.0489, 0.0172,\n",
      "        0.1701, 0.0166, 0.0193, 0.1682, 0.0262, 0.0224])\n",
      "tensor([0.0056, 0.0111, 0.0167, 0.0223, 0.0278, 0.0334, 0.0390, 0.0445, 0.0501,\n",
      "        0.0557, 0.0754, 0.2408, 0.2593, 0.2814, 0.3087, 0.5111, 0.5601, 0.5773,\n",
      "        0.7473, 0.7640, 0.7832, 0.9514, 0.9776, 1.0000])\n"
     ]
    },
    {
     "data": {
      "text/plain": [
       "<BarContainer object of 24 artists>"
      ]
     },
     "execution_count": 23,
     "metadata": {},
     "output_type": "execute_result"
    },
    {
     "data": {
      "image/png": "[encoded data removed]",
      "text/plain": [
       "<Figure size 432x288 with 1 Axes>"
      ]
     },
     "metadata": {
      "needs_background": "light"
     },
     "output_type": "display_data"
    }
   ],
   "source": [
    "#def CIF_K_tau(first_hitting_time, event_k, tte, data_length, MAX_LENGTH):\n",
    "p_ev0 = cif(a, 0, 1, 1, 24)\n",
    "print(\"event 0=\", p_ev0)\n",
    "\n",
    "print(a)\n",
    "print(cif_k_baseline(a, 0, 24))\n",
    "\n",
    "plt.bar([i for i in range(24)], cif_k_baseline(a, 0, 24).numpy())\n",
    "#TODO dezelfde CIF eens plotten voor DEEPHIT! Volgens mij zit daar ook een fout, dezelfde indexering denk ik!\n"
   ]
  },
  {
   "cell_type": "code",
   "execution_count": 30,
   "metadata": {},
   "outputs": [
    {
     "name": "stdout",
     "output_type": "stream",
     "text": [
      "tensor([0.0000, 0.0000, 0.0000, 0.0000, 0.0000, 0.5000, 0.0000, 0.0000, 0.0000,\n",
      "        0.2500, 0.0000, 0.0000, 0.2300, 0.0200, 0.0000, 0.0000, 0.0000, 0.0000,\n",
      "        0.0000, 0.0000, 0.0000, 0.0000, 0.0000, 0.0000, 0.0000, 0.0000, 0.0000,\n",
      "        0.0000, 0.0000, 0.0000, 0.0000, 0.0000, 0.0000, 0.0000, 0.0000, 0.0000,\n",
      "        0.0000, 0.0000, 0.0000, 0.0000, 0.0000, 0.0000, 0.0000, 0.0000, 0.0000,\n",
      "        0.0000, 0.0000, 0.0000])\n",
      "tensor([0.0000, 0.0000, 0.0000, 0.0000, 0.0000, 0.0000, 0.0000, 0.0000, 0.0000,\n",
      "        0.0000, 0.0000, 0.0000, 0.0000, 0.0000, 0.0000, 0.0000, 0.0000, 0.0000,\n",
      "        0.0000, 0.1000, 0.2000, 0.3000, 0.4000, 0.5000])\n"
     ]
    },
    {
     "data": {
      "text/plain": [
       "<BarContainer object of 24 artists>"
      ]
     },
     "execution_count": 30,
     "metadata": {},
     "output_type": "execute_result"
    },
    {
     "data": {
      "image/png": "[encoded data removed]",
      "text/plain": [
       "<Figure size 432x288 with 1 Axes>"
      ]
     },
     "metadata": {
      "needs_background": "light"
     },
     "output_type": "display_data"
    }
   ],
   "source": [
    "b = torch.zeros(24*2)\n",
    "\n",
    "b[18] = 0\n",
    "b[15] = 0\n",
    "b[14] = 0\n",
    "b[13] = 0.02\n",
    "b[12] = 0.23\n",
    "b[9] = 0.25\n",
    "b[5] = 0.5\n",
    "\n",
    "\n",
    "print(b)\n",
    "b = torch.softmax(b, dim=0)\n",
    "print(cif_k(b, 1, 20, 24))\n",
    "\n",
    "plt.bar([i for i in range(24)], cif_k(b, 0, 20, 24).numpy())"
   ]
  }
 ],
 "metadata": {
  "interpreter": {
   "hash": "18e97b579e8c0e40da8e2bba439fcd59aed88dbd21d3c026977017f366946867"
  },
  "kernelspec": {
   "display_name": "Python 3.8.3 ('base')",
   "language": "python",
   "name": "python3"
  },
  "language_info": {
   "codemirror_mode": {
    "name": "ipython",
    "version": 3
   },
   "file_extension": ".py",
   "mimetype": "text/x-python",
   "name": "python",
   "nbconvert_exporter": "python",
   "pygments_lexer": "ipython3",
   "version": "3.8.3"
  },
  "orig_nbformat": 4
 },
 "nbformat": 4,
 "nbformat_minor": 2
}
