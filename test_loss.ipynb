{
 "cells": [
  {
   "cell_type": "code",
   "execution_count": 1,
   "metadata": {},
   "outputs": [],
   "source": [
    "import numpy as np\n",
    "import pandas as pd\n",
    "import torch\n",
    "\n",
    "import matplotlib.pyplot as plt\n",
    "%matplotlib inline"
   ]
  },
  {
   "cell_type": "code",
   "execution_count": 2,
   "metadata": {},
   "outputs": [],
   "source": [
    "from torch.utils.data import DataLoader\n",
    "from poc_data import PocDataset, display_sample\n",
    "\n",
    "\n",
    "NUM_CASES = 2**2\n",
    "\n",
    "poc_raw_dataset = PocDataset(num_cases=NUM_CASES, generate_meta=True, test_set=True, repays=False)\n",
    "data_loader = DataLoader(dataset=poc_raw_dataset,\n",
    "                        batch_size=NUM_CASES,\n",
    "                        shuffle=False,\n",
    "                        pin_memory=True)\n",
    "\n",
    "all_data, all_data_length, all_event, all_meta = next(iter(data_loader))"
   ]
  },
  {
   "cell_type": "code",
   "execution_count": 3,
   "metadata": {},
   "outputs": [
    {
     "name": "stdout",
     "output_type": "stream",
     "text": [
      "torch.Size([4, 36, 5])\n",
      "torch.Size([4, 1])\n",
      "torch.Size([4, 1])\n"
     ]
    }
   ],
   "source": [
    "print(all_data.shape)\n",
    "print(all_data_length.shape)\n",
    "print(all_event.shape)"
   ]
  },
  {
   "cell_type": "code",
   "execution_count": 4,
   "metadata": {},
   "outputs": [],
   "source": [
    "from losses import loss_1_batch, loss_2_batch, loss_3_batch\n",
    "\n",
    "input_size = 5\n",
    "output_size = input_size\n",
    "MAX_LENGTH = 36\n",
    "NUM_CAUSES = 3\n",
    "hidden_size_encoder = 512\n",
    "hidden_size_attention = 512\n",
    "fc_size_encoder = 512\n",
    "SIGMA = 1\n",
    "\n",
    "LOSS_1_AMPLIFIER = 1\n",
    "LOSS_2_AMPLIFIER = 1\n",
    "LOSS_3_AMPLIFIER = 0.1\n",
    "\n",
    "DEVICE = 'cpu'"
   ]
  },
  {
   "cell_type": "code",
   "execution_count": 5,
   "metadata": {},
   "outputs": [
    {
     "name": "stdout",
     "output_type": "stream",
     "text": [
      "loss1= tensor(0.)\n"
     ]
    }
   ],
   "source": [
    "## Sanity check on only events for loss 1\n",
    "BATCH_LENGTH = 1\n",
    "\n",
    "first_hitting_time_batch = torch.zeros(BATCH_LENGTH, MAX_LENGTH*NUM_CAUSES)\n",
    "\n",
    "first_hitting_time_batch[0,16] = 0\n",
    "first_hitting_time_batch[0,15] = 0\n",
    "first_hitting_time_batch[0,14] = 1\n",
    "first_hitting_time_batch[0,13] = 0\n",
    "first_hitting_time_batch[0,12] = 0\n",
    "\n",
    "batch_event = torch.zeros(BATCH_LENGTH, 1)\n",
    "batch_event[0] = 0\n",
    "\n",
    "batch_data_length = torch.zeros(BATCH_LENGTH, 1)\n",
    "batch_data_length[0] = 15\n",
    "\n",
    "loss1 = LOSS_1_AMPLIFIER*loss_1_batch(first_hitting_time_batch, batch_event, batch_data_length, MAX_LENGTH)\n",
    "print(\"loss1=\", loss1)"
   ]
  },
  {
   "cell_type": "code",
   "execution_count": 6,
   "metadata": {},
   "outputs": [
    {
     "name": "stdout",
     "output_type": "stream",
     "text": [
      "loss1= tensor(0.0770)\n"
     ]
    }
   ],
   "source": [
    "## Check including censoring events\n",
    "BATCH_LENGTH = 1\n",
    "\n",
    "first_hitting_time_batch = torch.zeros(BATCH_LENGTH, MAX_LENGTH*NUM_CAUSES)\n",
    "\n",
    "first_hitting_time_batch[0,16] = 0\n",
    "first_hitting_time_batch[0,15] = 0\n",
    "first_hitting_time_batch[0,14] = 0\n",
    "first_hitting_time_batch[0,13] = 0.02\n",
    "first_hitting_time_batch[0,12] = 0.23\n",
    "first_hitting_time_batch[0,9] = 0.25\n",
    "first_hitting_time_batch[0,5] = 0.25\n",
    "\n",
    "batch_event = torch.zeros(BATCH_LENGTH, 1)\n",
    "batch_event[0] = 3\n",
    "\n",
    "batch_data_length = torch.zeros(BATCH_LENGTH, 1)\n",
    "batch_data_length[0] = 15\n",
    "\n",
    "loss1 = LOSS_1_AMPLIFIER*loss_1_batch(first_hitting_time_batch, batch_event, batch_data_length, MAX_LENGTH)\n",
    "print(\"loss1=\", loss1)"
   ]
  },
  {
   "cell_type": "code",
   "execution_count": 13,
   "metadata": {},
   "outputs": [
    {
     "name": "stdout",
     "output_type": "stream",
     "text": [
      "loss1= tensor(0.)\n"
     ]
    }
   ],
   "source": [
    "## Checking full repays\n",
    "BATCH_LENGTH = 1\n",
    "\n",
    "first_hitting_time_batch = torch.zeros(BATCH_LENGTH, MAX_LENGTH*NUM_CAUSES)\n",
    "\n",
    "first_hitting_time_batch[0,35 + 2*MAX_LENGTH] = 1\n",
    "first_hitting_time_batch[0,34 + 2*MAX_LENGTH] = 0\n",
    "first_hitting_time_batch[0,15 + 2*MAX_LENGTH] = 0\n",
    "first_hitting_time_batch[0,14 + 2*MAX_LENGTH] = 0\n",
    "first_hitting_time_batch[0,13 + 2*MAX_LENGTH] = 0\n",
    "first_hitting_time_batch[0,12 + 2*MAX_LENGTH] = 0\n",
    "first_hitting_time_batch[0,9 + 2*MAX_LENGTH] = 0\n",
    "first_hitting_time_batch[0,5 + 2*MAX_LENGTH] = 0\n",
    "\n",
    "batch_event = torch.zeros(BATCH_LENGTH, 1)\n",
    "batch_event[0] = 2\n",
    "\n",
    "batch_data_length = torch.zeros(BATCH_LENGTH, 1)\n",
    "batch_data_length[0] = 36\n",
    "\n",
    "loss1 = LOSS_1_AMPLIFIER*loss_1_batch(first_hitting_time_batch, batch_event, batch_data_length, MAX_LENGTH)\n",
    "print(\"loss1=\", loss1)"
   ]
  },
  {
   "cell_type": "code",
   "execution_count": 1,
   "metadata": {},
   "outputs": [
    {
     "ename": "NameError",
     "evalue": "name 'first_hitting_time_batch' is not defined",
     "output_type": "error",
     "traceback": [
      "\u001b[1;31m---------------------------------------------------------------------------\u001b[0m",
      "\u001b[1;31mNameError\u001b[0m                                 Traceback (most recent call last)",
      "\u001b[1;32m<ipython-input-1-be417ce7d152>\u001b[0m in \u001b[0;36m<module>\u001b[1;34m\u001b[0m\n\u001b[0;32m      1\u001b[0m \u001b[1;32mfrom\u001b[0m \u001b[0mutils\u001b[0m \u001b[1;32mimport\u001b[0m \u001b[0mplot_fht\u001b[0m\u001b[1;33m,\u001b[0m \u001b[0mplot_cif\u001b[0m\u001b[1;33m,\u001b[0m \u001b[0mplot_fht_and_cif\u001b[0m\u001b[1;33m\u001b[0m\u001b[1;33m\u001b[0m\u001b[0m\n\u001b[0;32m      2\u001b[0m \u001b[1;33m\u001b[0m\u001b[0m\n\u001b[1;32m----> 3\u001b[1;33m \u001b[0mfirst_hitting_time\u001b[0m \u001b[1;33m=\u001b[0m \u001b[0mfirst_hitting_time_batch\u001b[0m\u001b[1;33m[\u001b[0m\u001b[1;36m0\u001b[0m\u001b[1;33m]\u001b[0m\u001b[1;33m\u001b[0m\u001b[1;33m\u001b[0m\u001b[0m\n\u001b[0m\u001b[0;32m      4\u001b[0m \u001b[0mplot_fht_and_cif\u001b[0m\u001b[1;33m(\u001b[0m\u001b[0mfirst_hitting_time\u001b[0m\u001b[1;33m,\u001b[0m \u001b[0mMAX_LENGTH\u001b[0m\u001b[1;33m)\u001b[0m\u001b[1;33m\u001b[0m\u001b[1;33m\u001b[0m\u001b[0m\n\u001b[0;32m      5\u001b[0m \u001b[1;33m\u001b[0m\u001b[0m\n",
      "\u001b[1;31mNameError\u001b[0m: name 'first_hitting_time_batch' is not defined"
     ]
    }
   ],
   "source": [
    "from utils import plot_fht, plot_cif, plot_fht_and_cif\n",
    "\n",
    "first_hitting_time = first_hitting_time_batch[0]\n",
    "plot_fht_and_cif(first_hitting_time, MAX_LENGTH)\n",
    "\n",
    "#We bedoelen dat als bij event 0, de index 14 op 1 staat, dan is het na de 15de observation dat het gaat falen, dus na het data-inputje dat op index 14 staat, maar dus de 15de input is"
   ]
  },
  {
   "cell_type": "code",
   "execution_count": 9,
   "metadata": {},
   "outputs": [
    {
     "name": "stdout",
     "output_type": "stream",
     "text": [
      "loss1= tensor(0.3567)\n"
     ]
    }
   ],
   "source": [
    "loss1 = LOSS_1_AMPLIFIER*loss_1_batch(first_hitting_time_batch, batch_event, batch_data_length, MAX_LENGTH)\n",
    "print(\"loss1=\", loss1)"
   ]
  },
  {
   "cell_type": "code",
   "execution_count": 10,
   "metadata": {},
   "outputs": [
    {
     "name": "stdout",
     "output_type": "stream",
     "text": [
      "loss2= tensor([0.])\n"
     ]
    }
   ],
   "source": [
    "loss2 = LOSS_2_AMPLIFIER*loss_2_batch(first_hitting_time_batch, batch_event, batch_data_length, NUM_CAUSES, MAX_LENGTH, SIGMA, DEVICE)\n",
    "print(\"loss2=\", loss2)"
   ]
  },
  {
   "cell_type": "code",
   "execution_count": 11,
   "metadata": {},
   "outputs": [],
   "source": [
    "#loss3 = LOSS_3_AMPLIFIER*loss_3_batch(output_batch, batch_data.detach())\n",
    "#print(\"loss3=\", loss3)"
   ]
  }
 ],
 "metadata": {
  "interpreter": {
   "hash": "18e97b579e8c0e40da8e2bba439fcd59aed88dbd21d3c026977017f366946867"
  },
  "kernelspec": {
   "display_name": "Python 3.8.3 ('base')",
   "language": "python",
   "name": "python3"
  },
  "language_info": {
   "codemirror_mode": {
    "name": "ipython",
    "version": 3
   },
   "file_extension": ".py",
   "mimetype": "text/x-python",
   "name": "python",
   "nbconvert_exporter": "python",
   "pygments_lexer": "ipython3",
   "version": "3.8.3"
  },
  "orig_nbformat": 4
 },
 "nbformat": 4,
 "nbformat_minor": 2
}
