{
 "cells": [
  {
   "cell_type": "code",
   "execution_count": 1,
   "metadata": {},
   "outputs": [],
   "source": [
    "import numpy as np\n",
    "import pandas as pd\n",
    "import torch\n",
    "\n",
    "import matplotlib.pyplot as plt\n",
    "%matplotlib inline"
   ]
  },
  {
   "cell_type": "code",
   "execution_count": 2,
   "metadata": {},
   "outputs": [],
   "source": [
    "from torch.utils.data import DataLoader\n",
    "from poc_data import PocDataset, display_sample\n",
    "\n",
    "\n",
    "NUM_CASES = 2**10\n",
    "\n",
    "poc_raw_dataset = PocDataset(num_cases=NUM_CASES, test_set=False, repays=True, augment=True)\n",
    "data_loader = DataLoader(dataset=poc_raw_dataset,\n",
    "                        batch_size=NUM_CASES,\n",
    "                        shuffle=False,\n",
    "                        pin_memory=True)\n",
    "\n",
    "all_data, all_data_length, all_event, all_tte, all_meta = next(iter(data_loader))"
   ]
  },
  {
   "cell_type": "code",
   "execution_count": 3,
   "metadata": {},
   "outputs": [
    {
     "name": "stdout",
     "output_type": "stream",
     "text": [
      "tensor([186, 224, 454, 160])\n",
      "tensor([  0,   0,   0,   0,   0,  95,  45,  72,  59,  59,  50,  42,  35,  50,\n",
      "         41,  35,  40,  42,  40,  34,  26,  32,  34,  23, 170])\n"
     ]
    }
   ],
   "source": [
    "event_occurences = torch.bincount(all_event.flatten())\n",
    "length_occurences = torch.bincount(all_data_length.flatten())\n",
    "\n",
    "print(event_occurences)\n",
    "print(length_occurences)"
   ]
  },
  {
   "cell_type": "code",
   "execution_count": 4,
   "metadata": {},
   "outputs": [
    {
     "name": "stdout",
     "output_type": "stream",
     "text": [
      "tensor([False, False,  True,  ..., False, False, False])\n"
     ]
    }
   ],
   "source": [
    "print(all_meta['augmented'])"
   ]
  },
  {
   "cell_type": "code",
   "execution_count": 5,
   "metadata": {},
   "outputs": [
    {
     "name": "stdout",
     "output_type": "stream",
     "text": [
      "tensor([19])\n",
      "tensor([3])\n",
      "tensor(False)\n",
      "tensor(2)\n",
      "tensor(24)\n",
      "tensor([19])\n",
      "tensor([[  0.0000,  24.0000,  23.0000,  59.5187,  41.7092],\n",
      "        [  1.0000,  24.0000,  22.0000,  79.2074,   4.8335],\n",
      "        [  2.0000,  24.0000,  21.0000,  26.0731, -36.4861],\n",
      "        [  3.0000,  24.0000,  20.0000, -51.0327, -44.2605],\n",
      "        [  4.0000,  24.0000,  19.0000, -81.2192, -11.3420],\n",
      "        [  5.0000,  24.0000,  18.0000, -36.7332,  32.0043],\n",
      "        [  6.0000,  24.0000,  17.0000,  41.5252,  45.9260],\n",
      "        [  7.0000,  24.0000,  16.0000,  81.6055,  17.6236],\n",
      "        [  8.0000,  24.0000,  15.0000,  46.6581, -26.8819],\n",
      "        [  9.0000,  24.0000,  14.0000, -31.1865, -46.6722],\n",
      "        [ 10.0000,  24.0000,  13.0000, -80.3584, -23.5524],\n",
      "        [ 11.0000,  24.0000,  12.0000, -55.6491,  21.2214],\n",
      "        [ 12.0000,  24.0000,  11.0000,  20.2237,  46.4843],\n",
      "        [ 13.0000,  24.0000,  10.0000,  77.5029,  29.0098],\n",
      "        [ 14.0000,  24.0000,   9.0000,  63.5263, -15.1363],\n",
      "        [ 15.0000,  24.0000,   8.0000,  -8.8561, -45.3661],\n",
      "        [ 16.0000,  24.0000,   7.0000, -73.0962, -33.8865],\n",
      "        [ 17.0000,  24.0000,   6.0000, -70.1321,   8.7482],\n",
      "        [ 18.0000,  24.0000,   5.0000,  -2.6888,  43.3398],\n",
      "        [  0.0000,   0.0000,   0.0000,   0.0000,   0.0000],\n",
      "        [  0.0000,   0.0000,   0.0000,   0.0000,   0.0000],\n",
      "        [  0.0000,   0.0000,   0.0000,   0.0000,   0.0000],\n",
      "        [  0.0000,   0.0000,   0.0000,   0.0000,   0.0000],\n",
      "        [  0.0000,   0.0000,   0.0000,   0.0000,   0.0000]])\n"
     ]
    }
   ],
   "source": [
    "print(all_data_length[0])\n",
    "print(all_event[0])\n",
    "print(all_meta['augmented'][0])\n",
    "print(all_meta['ground_truth_event'][0])\n",
    "print(all_meta['age'][0])\n",
    "print(all_tte[0])\n",
    "print(all_data[0])"
   ]
  },
  {
   "cell_type": "code",
   "execution_count": 6,
   "metadata": {},
   "outputs": [
    {
     "name": "stdout",
     "output_type": "stream",
     "text": [
      "tensor([24])\n",
      "tensor([2])\n",
      "tensor(False)\n",
      "tensor(2)\n",
      "tensor(24)\n",
      "tensor([24])\n",
      "tensor([[  0.0000,  24.0000,  23.0000,  52.1575,  56.0466],\n",
      "        [  1.0000,  24.0000,  22.0000,  74.5078, -27.3405],\n",
      "        [  2.0000,  24.0000,  21.0000,  28.3559, -85.5909],\n",
      "        [  3.0000,  24.0000,  20.0000, -43.8662, -65.1494],\n",
      "        [  4.0000,  24.0000,  19.0000, -75.7580,  15.1901],\n",
      "        [  5.0000,  24.0000,  18.0000, -37.9982,  81.5639],\n",
      "        [  6.0000,  24.0000,  17.0000,  34.6970,  72.9482],\n",
      "        [  7.0000,  24.0000,  16.0000,  75.4919,  -2.7357],\n",
      "        [  8.0000,  24.0000,  15.0000,  46.8799, -75.9045],\n",
      "        [  9.0000,  24.0000,  14.0000, -24.8332, -79.2870],\n",
      "        [ 10.0000,  24.0000,  13.0000, -73.7148,  -9.7734],\n",
      "        [ 11.0000,  24.0000,  12.0000, -54.8233,  68.7258],\n",
      "        [ 12.0000,  24.0000,  11.0000,  14.4725,  84.0388],\n",
      "        [ 13.0000,  24.0000,  10.0000,  70.4624,  22.0870],\n",
      "        [ 14.0000,  24.0000,   9.0000,  61.6695, -60.1715],\n",
      "        [ 15.0000,  24.0000,   8.0000,  -3.8220, -87.1086],\n",
      "        [ 16.0000,  24.0000,   7.0000, -65.7996, -33.9585],\n",
      "        [ 17.0000,  24.0000,   6.0000, -67.2813,  50.4129],\n",
      "        [ 18.0000,  24.0000,   5.0000,  -6.9048,  88.4349],\n",
      "        [ 19.0000,  24.0000,   4.0000,  59.8199,  45.1503],\n",
      "        [ 20.0000,  24.0000,   3.0000,  71.5465, -39.6453],\n",
      "        [ 21.0000,  24.0000,   2.0000,  17.4936, -87.9912],\n",
      "        [ 22.0000,  24.0000,   1.0000, -52.6428, -55.4384],\n",
      "        [ 23.0000,  24.0000,   0.0000, -74.3797,  28.0842]])\n"
     ]
    }
   ],
   "source": [
    "print(all_data_length[1])\n",
    "print(all_event[1])\n",
    "print(all_meta['augmented'][1])\n",
    "print(all_meta['ground_truth_event'][1])\n",
    "print(all_meta['age'][1])\n",
    "print(all_tte[1])\n",
    "print(all_data[1])"
   ]
  },
  {
   "cell_type": "code",
   "execution_count": 7,
   "metadata": {},
   "outputs": [
    {
     "name": "stdout",
     "output_type": "stream",
     "text": [
      "tensor([21])\n",
      "tensor([2])\n",
      "tensor(True)\n",
      "tensor(2)\n",
      "tensor(24)\n",
      "tensor([24])\n",
      "tensor([[  0.0000,  24.0000,  23.0000,  52.1575,  56.0466],\n",
      "        [  1.0000,  24.0000,  22.0000,  74.5078, -27.3405],\n",
      "        [  2.0000,  24.0000,  21.0000,  28.3559, -85.5909],\n",
      "        [  3.0000,  24.0000,  20.0000, -43.8662, -65.1494],\n",
      "        [  4.0000,  24.0000,  19.0000, -75.7580,  15.1901],\n",
      "        [  5.0000,  24.0000,  18.0000, -37.9982,  81.5639],\n",
      "        [  6.0000,  24.0000,  17.0000,  34.6970,  72.9482],\n",
      "        [  7.0000,  24.0000,  16.0000,  75.4919,  -2.7357],\n",
      "        [  8.0000,  24.0000,  15.0000,  46.8799, -75.9045],\n",
      "        [  9.0000,  24.0000,  14.0000, -24.8332, -79.2870],\n",
      "        [ 10.0000,  24.0000,  13.0000, -73.7148,  -9.7734],\n",
      "        [ 11.0000,  24.0000,  12.0000, -54.8233,  68.7258],\n",
      "        [ 12.0000,  24.0000,  11.0000,  14.4725,  84.0388],\n",
      "        [ 13.0000,  24.0000,  10.0000,  70.4624,  22.0870],\n",
      "        [ 14.0000,  24.0000,   9.0000,  61.6695, -60.1715],\n",
      "        [ 15.0000,  24.0000,   8.0000,  -3.8220, -87.1086],\n",
      "        [ 16.0000,  24.0000,   7.0000, -65.7996, -33.9585],\n",
      "        [ 17.0000,  24.0000,   6.0000, -67.2813,  50.4129],\n",
      "        [ 18.0000,  24.0000,   5.0000,  -6.9048,  88.4349],\n",
      "        [ 19.0000,  24.0000,   4.0000,  59.8199,  45.1503],\n",
      "        [ 20.0000,  24.0000,   3.0000,  71.5465, -39.6453],\n",
      "        [  0.0000,   0.0000,   0.0000,   0.0000,   0.0000],\n",
      "        [  0.0000,   0.0000,   0.0000,   0.0000,   0.0000],\n",
      "        [  0.0000,   0.0000,   0.0000,   0.0000,   0.0000]])\n"
     ]
    }
   ],
   "source": [
    "print(all_data_length[2])\n",
    "print(all_event[2])\n",
    "print(all_meta['augmented'][2])\n",
    "print(all_meta['ground_truth_event'][2])\n",
    "print(all_meta['age'][2])\n",
    "print(all_tte[2])\n",
    "print(all_data[2])"
   ]
  },
  {
   "cell_type": "code",
   "execution_count": 8,
   "metadata": {},
   "outputs": [
    {
     "name": "stdout",
     "output_type": "stream",
     "text": [
      "tensor([8])\n",
      "tensor([2])\n",
      "tensor(True)\n",
      "tensor(2)\n",
      "tensor(24)\n",
      "tensor([24])\n",
      "tensor([[  0.0000,  24.0000,  23.0000,  52.1575,  56.0466],\n",
      "        [  1.0000,  24.0000,  22.0000,  74.5078, -27.3405],\n",
      "        [  2.0000,  24.0000,  21.0000,  28.3559, -85.5909],\n",
      "        [  3.0000,  24.0000,  20.0000, -43.8662, -65.1494],\n",
      "        [  4.0000,  24.0000,  19.0000, -75.7580,  15.1901],\n",
      "        [  5.0000,  24.0000,  18.0000, -37.9982,  81.5639],\n",
      "        [  6.0000,  24.0000,  17.0000,  34.6970,  72.9482],\n",
      "        [  7.0000,  24.0000,  16.0000,  75.4919,  -2.7357],\n",
      "        [  0.0000,   0.0000,   0.0000,   0.0000,   0.0000],\n",
      "        [  0.0000,   0.0000,   0.0000,   0.0000,   0.0000],\n",
      "        [  0.0000,   0.0000,   0.0000,   0.0000,   0.0000],\n",
      "        [  0.0000,   0.0000,   0.0000,   0.0000,   0.0000],\n",
      "        [  0.0000,   0.0000,   0.0000,   0.0000,   0.0000],\n",
      "        [  0.0000,   0.0000,   0.0000,   0.0000,   0.0000],\n",
      "        [  0.0000,   0.0000,   0.0000,   0.0000,   0.0000],\n",
      "        [  0.0000,   0.0000,   0.0000,   0.0000,   0.0000],\n",
      "        [  0.0000,   0.0000,   0.0000,   0.0000,   0.0000],\n",
      "        [  0.0000,   0.0000,   0.0000,   0.0000,   0.0000],\n",
      "        [  0.0000,   0.0000,   0.0000,   0.0000,   0.0000],\n",
      "        [  0.0000,   0.0000,   0.0000,   0.0000,   0.0000],\n",
      "        [  0.0000,   0.0000,   0.0000,   0.0000,   0.0000],\n",
      "        [  0.0000,   0.0000,   0.0000,   0.0000,   0.0000],\n",
      "        [  0.0000,   0.0000,   0.0000,   0.0000,   0.0000],\n",
      "        [  0.0000,   0.0000,   0.0000,   0.0000,   0.0000]])\n"
     ]
    }
   ],
   "source": [
    "print(all_data_length[3])\n",
    "print(all_event[3])\n",
    "print(all_meta['augmented'][3])\n",
    "print(all_meta['ground_truth_event'][3])\n",
    "print(all_meta['age'][3])\n",
    "print(all_tte[3])\n",
    "print(all_data[3])"
   ]
  },
  {
   "cell_type": "code",
   "execution_count": 9,
   "metadata": {},
   "outputs": [
    {
     "name": "stdout",
     "output_type": "stream",
     "text": [
      "tensor([13])\n",
      "tensor([3])\n",
      "tensor(False)\n",
      "tensor(2)\n",
      "tensor(24)\n",
      "tensor([13])\n",
      "tensor([[  0.0000,  24.0000,  23.0000,  37.4897,  55.6553],\n",
      "        [  1.0000,  24.0000,  22.0000,  63.2155, -32.2102],\n",
      "        [  2.0000,  24.0000,  21.0000,  30.8212, -90.4617],\n",
      "        [  3.0000,  24.0000,  20.0000, -29.9100, -65.5432],\n",
      "        [  4.0000,  24.0000,  19.0000, -63.1421,  19.6355],\n",
      "        [  5.0000,  24.0000,  18.0000, -38.3216,  86.7614],\n",
      "        [  6.0000,  24.0000,  17.0000,  21.7315,  74.1193],\n",
      "        [  7.0000,  24.0000,  16.0000,  61.8048,  -6.6678],\n",
      "        [  8.0000,  24.0000,  15.0000,  45.0550, -81.3245],\n",
      "        [  9.0000,  24.0000,  14.0000, -13.1181, -81.2118],\n",
      "        [ 10.0000,  24.0000,  13.0000, -59.2306,  -6.4334],\n",
      "        [ 11.0000,  24.0000,  12.0000, -50.8867,  74.2598],\n",
      "        [ 12.0000,  24.0000,  11.0000,   4.2422,  86.6790],\n",
      "        [  0.0000,   0.0000,   0.0000,   0.0000,   0.0000],\n",
      "        [  0.0000,   0.0000,   0.0000,   0.0000,   0.0000],\n",
      "        [  0.0000,   0.0000,   0.0000,   0.0000,   0.0000],\n",
      "        [  0.0000,   0.0000,   0.0000,   0.0000,   0.0000],\n",
      "        [  0.0000,   0.0000,   0.0000,   0.0000,   0.0000],\n",
      "        [  0.0000,   0.0000,   0.0000,   0.0000,   0.0000],\n",
      "        [  0.0000,   0.0000,   0.0000,   0.0000,   0.0000],\n",
      "        [  0.0000,   0.0000,   0.0000,   0.0000,   0.0000],\n",
      "        [  0.0000,   0.0000,   0.0000,   0.0000,   0.0000],\n",
      "        [  0.0000,   0.0000,   0.0000,   0.0000,   0.0000],\n",
      "        [  0.0000,   0.0000,   0.0000,   0.0000,   0.0000]])\n"
     ]
    }
   ],
   "source": [
    "print(all_data_length[4])\n",
    "print(all_event[4])\n",
    "print(all_meta['augmented'][4])\n",
    "print(all_meta['ground_truth_event'][4])\n",
    "print(all_meta['age'][4])\n",
    "print(all_tte[4])\n",
    "print(all_data[4])"
   ]
  },
  {
   "cell_type": "code",
   "execution_count": 10,
   "metadata": {},
   "outputs": [
    {
     "name": "stdout",
     "output_type": "stream",
     "text": [
      "tensor([21])\n",
      "tensor([3])\n",
      "tensor(False)\n",
      "tensor(2)\n",
      "tensor(24)\n",
      "tensor([21])\n",
      "tensor([[  0.0000,  24.0000,  23.0000,  53.8151,   4.4433],\n",
      "        [  1.0000,  24.0000,  22.0000,  75.6180,   2.2343],\n",
      "        [  2.0000,  24.0000,  21.0000,  27.8981,  -2.0289],\n",
      "        [  3.0000,  24.0000,  20.0000, -45.4712,  -4.4268],\n",
      "        [  4.0000,  24.0000,  19.0000, -77.0345,  -2.7547],\n",
      "        [  5.0000,  24.0000,  18.0000, -37.7726,   1.4500],\n",
      "        [  6.0000,  24.0000,  17.0000,  36.2172,   4.3216],\n",
      "        [  7.0000,  24.0000,  16.0000,  76.9091,   3.2199],\n",
      "        [  8.0000,  24.0000,  15.0000,  46.8911,  -0.8422],\n",
      "        [  9.0000,  24.0000,  14.0000, -26.2384,  -4.1299],\n",
      "        [ 10.0000,  24.0000,  13.0000, -75.2444,  -3.6207],\n",
      "        [ 11.0000,  24.0000,  12.0000, -55.0711,   0.2174],\n",
      "        [ 12.0000,  24.0000,  11.0000,  15.7343,   3.8556],\n",
      "        [ 13.0000,  24.0000,  10.0000,  72.0737,   3.9490],\n",
      "        [ 14.0000,  24.0000,   9.0000,  62.1488,   0.4117],\n",
      "        [ 15.0000,  24.0000,   8.0000,  -4.9154,  -3.5041],\n",
      "        [ 16.0000,  24.0000,   7.0000, -67.4604,  -4.1983],\n",
      "        [ 17.0000,  24.0000,   6.0000, -67.9827,  -1.0325],\n",
      "        [ 18.0000,  24.0000,   5.0000,  -6.0019,   3.0825],\n",
      "        [ 19.0000,  24.0000,   4.0000,  61.4969,   4.3635],\n",
      "        [ 20.0000,  24.0000,   3.0000,  72.4558,   1.6327],\n",
      "        [  0.0000,   0.0000,   0.0000,   0.0000,   0.0000],\n",
      "        [  0.0000,   0.0000,   0.0000,   0.0000,   0.0000],\n",
      "        [  0.0000,   0.0000,   0.0000,   0.0000,   0.0000]])\n"
     ]
    }
   ],
   "source": [
    "print(all_data_length[5])\n",
    "print(all_event[5])\n",
    "print(all_meta['augmented'][5])\n",
    "print(all_meta['ground_truth_event'][5])\n",
    "print(all_meta['age'][5])\n",
    "print(all_tte[5])\n",
    "print(all_data[5])"
   ]
  },
  {
   "cell_type": "code",
   "execution_count": 11,
   "metadata": {},
   "outputs": [
    {
     "name": "stdout",
     "output_type": "stream",
     "text": [
      "sample 620 has length 24, but will experience event 2 at time 24\n",
      "sample 191 has length 8, but will experience event 0 at time 10\n",
      "sample 548 has length 11, but will experience event 2 at time 24\n",
      "sample 14 has length 22, but will experience event 2 at time 24\n",
      "sample 844 has length 7, but will experience event 1 at time 9\n",
      "sample 289 has length 16, but will experience event 2 at time 24\n",
      "sample 969 has length 12, but will experience event 2 at time 24\n",
      "sample 118 has length 7, but will experience event 1 at time 14\n",
      "sample 641 has length 24, but will experience event 2 at time 24\n",
      "sample 374 has length 16, but will experience event 0 at time 22\n"
     ]
    }
   ],
   "source": [
    "for i in range(10):\n",
    "    sample_id = int(torch.randint(NUM_CASES, (1,)))\n",
    "    print(\"sample %d has length %d, but will experience event %d at time %d\" % (sample_id, all_data_length[sample_id], all_meta['ground_truth_event'][sample_id], all_meta['age'][sample_id]))"
   ]
  },
  {
   "cell_type": "code",
   "execution_count": 12,
   "metadata": {},
   "outputs": [
    {
     "data": {
      "image/png": "[encoded data removed]",
      "text/plain": [
       "<Figure size 576x288 with 1 Axes>"
      ]
     },
     "metadata": {
      "needs_background": "light"
     },
     "output_type": "display_data"
    }
   ],
   "source": [
    "plt.figure(figsize=(8,4))\n",
    "plt.hist(all_data_length.flatten().numpy(), bins=24-5);"
   ]
  },
  {
   "cell_type": "code",
   "execution_count": 13,
   "metadata": {},
   "outputs": [
    {
     "data": {
      "image/png": "[encoded data removed]",
      "text/plain": [
       "<Figure size 576x288 with 1 Axes>"
      ]
     },
     "metadata": {
      "needs_background": "light"
     },
     "output_type": "display_data"
    }
   ],
   "source": [
    "plt.figure(figsize=(8,4))\n",
    "plt.hist(all_event.flatten().numpy(), bins=4);"
   ]
  }
 ],
 "metadata": {
  "interpreter": {
   "hash": "18e97b579e8c0e40da8e2bba439fcd59aed88dbd21d3c026977017f366946867"
  },
  "kernelspec": {
   "display_name": "Python 3.8.3 ('base')",
   "language": "python",
   "name": "python3"
  },
  "language_info": {
   "codemirror_mode": {
    "name": "ipython",
    "version": 3
   },
   "file_extension": ".py",
   "mimetype": "text/x-python",
   "name": "python",
   "nbconvert_exporter": "python",
   "pygments_lexer": "ipython3",
   "version": "3.8.3"
  },
  "orig_nbformat": 4
 },
 "nbformat": 4,
 "nbformat_minor": 2
}
