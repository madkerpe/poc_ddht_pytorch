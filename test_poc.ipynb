{
 "cells": [
  {
   "cell_type": "code",
   "execution_count": 1,
   "metadata": {},
   "outputs": [],
   "source": [
    "import numpy as np\n",
    "import pandas as pd\n",
    "import torch\n",
    "\n",
    "import matplotlib.pyplot as plt\n",
    "%matplotlib inline"
   ]
  },
  {
   "cell_type": "code",
   "execution_count": 13,
   "metadata": {},
   "outputs": [],
   "source": [
    "from torch.utils.data import DataLoader\n",
    "from poc_data import PocDataset, display_sample\n",
    "\n",
    "\n",
    "NUM_CASES = 2**10\n",
    "\n",
    "poc_raw_dataset = PocDataset(num_cases=NUM_CASES, generate_meta=True, test_set=False, repays=True)\n",
    "data_loader = DataLoader(dataset=poc_raw_dataset,\n",
    "                        batch_size=NUM_CASES,\n",
    "                        shuffle=False,\n",
    "                        pin_memory=True)\n",
    "\n",
    "all_data, all_data_length, all_event, all_meta = next(iter(data_loader))"
   ]
  },
  {
   "cell_type": "code",
   "execution_count": 14,
   "metadata": {},
   "outputs": [
    {
     "name": "stdout",
     "output_type": "stream",
     "text": [
      "tensor([214, 191, 330, 289])\n",
      "tensor([  0,   0,   0,   0,   0, 139,  55,  53,  42,  34,  35,  27,  32,  34,\n",
      "         32,  24,  32,  33,  17,  16,  30,  18,  19,  22, 330])\n"
     ]
    }
   ],
   "source": [
    "event_occurences = torch.bincount(all_event.flatten())\n",
    "length_occurences = torch.bincount(all_data_length.flatten())\n",
    "\n",
    "print(event_occurences)\n",
    "print(length_occurences)"
   ]
  },
  {
   "cell_type": "code",
   "execution_count": 15,
   "metadata": {},
   "outputs": [
    {
     "name": "stdout",
     "output_type": "stream",
     "text": [
      "torch.Size([1024])\n"
     ]
    }
   ],
   "source": [
    "print(all_meta['age'].shape)"
   ]
  },
  {
   "cell_type": "code",
   "execution_count": 16,
   "metadata": {},
   "outputs": [
    {
     "name": "stdout",
     "output_type": "stream",
     "text": [
      "tensor([[  0.0000,  24.0000,  23.0000,  28.9913,  54.8907],\n",
      "        [  1.0000,  24.0000,  22.0000,  55.2358, -13.4269],\n",
      "        [  2.0000,  24.0000,  21.0000,  30.6968, -69.3999],\n",
      "        [  3.0000,  24.0000,  20.0000, -22.0647, -61.5669],\n",
      "        [  4.0000,  24.0000,  19.0000, -54.5400,   2.8704],\n",
      "        [  5.0000,  24.0000,  18.0000, -36.8715,  64.6687],\n",
      "        [  6.0000,  24.0000,  17.0000,  14.6965,  67.0109],\n",
      "        [  7.0000,  24.0000,  16.0000,  52.7526,   7.7436],\n",
      "        [  8.0000,  24.0000,  15.0000,  42.3082, -58.6431],\n",
      "        [  9.0000,  24.0000,  14.0000,  -7.0342, -71.1136],\n",
      "        [  0.0000,   0.0000,   0.0000,   0.0000,   0.0000],\n",
      "        [  0.0000,   0.0000,   0.0000,   0.0000,   0.0000],\n",
      "        [  0.0000,   0.0000,   0.0000,   0.0000,   0.0000],\n",
      "        [  0.0000,   0.0000,   0.0000,   0.0000,   0.0000],\n",
      "        [  0.0000,   0.0000,   0.0000,   0.0000,   0.0000],\n",
      "        [  0.0000,   0.0000,   0.0000,   0.0000,   0.0000],\n",
      "        [  0.0000,   0.0000,   0.0000,   0.0000,   0.0000],\n",
      "        [  0.0000,   0.0000,   0.0000,   0.0000,   0.0000],\n",
      "        [  0.0000,   0.0000,   0.0000,   0.0000,   0.0000],\n",
      "        [  0.0000,   0.0000,   0.0000,   0.0000,   0.0000],\n",
      "        [  0.0000,   0.0000,   0.0000,   0.0000,   0.0000],\n",
      "        [  0.0000,   0.0000,   0.0000,   0.0000,   0.0000],\n",
      "        [  0.0000,   0.0000,   0.0000,   0.0000,   0.0000],\n",
      "        [  0.0000,   0.0000,   0.0000,   0.0000,   0.0000]])\n",
      "tensor(24)\n",
      "tensor(2)\n"
     ]
    }
   ],
   "source": [
    "print(all_data[0])\n",
    "print(all_meta['age'][0])\n",
    "print(all_meta['ground_truth_event'][0])\n"
   ]
  },
  {
   "cell_type": "code",
   "execution_count": 5,
   "metadata": {},
   "outputs": [
    {
     "name": "stdout",
     "output_type": "stream",
     "text": [
      "sample 41 has length 24, but will experience event 2 at time 24\n",
      "sample 577 has length 24, but will experience event 2 at time 24\n",
      "sample 251 has length 24, but will experience event 2 at time 24\n",
      "sample 312 has length 7, but will experience event 1 at time 7\n",
      "sample 1000 has length 5, but will experience event 0 at time 5\n",
      "sample 253 has length 11, but will experience event 1 at time 11\n",
      "sample 242 has length 11, but will experience event 1 at time 11\n",
      "sample 955 has length 24, but will experience event 2 at time 24\n",
      "sample 823 has length 24, but will experience event 2 at time 24\n",
      "sample 983 has length 24, but will experience event 2 at time 24\n"
     ]
    }
   ],
   "source": [
    "for i in range(10):\n",
    "    sample_id = int(torch.randint(NUM_CASES, (1,)))\n",
    "    print(\"sample %d has length %d, but will experience event %d at time %d\" % (sample_id, all_data_length[sample_id], all_meta['ground_truth_event'][sample_id], all_meta['age'][sample_id]))"
   ]
  },
  {
   "cell_type": "code",
   "execution_count": 6,
   "metadata": {},
   "outputs": [
    {
     "data": {
      "image/png": "[encoded data removed]",
      "text/plain": [
       "<Figure size 576x288 with 1 Axes>"
      ]
     },
     "metadata": {
      "needs_background": "light"
     },
     "output_type": "display_data"
    }
   ],
   "source": [
    "plt.figure(figsize=(8,4))\n",
    "plt.hist(all_data_length.flatten().numpy(), bins=31);"
   ]
  },
  {
   "cell_type": "code",
   "execution_count": 7,
   "metadata": {},
   "outputs": [
    {
     "data": {
      "image/png": "[encoded data removed]",
      "text/plain": [
       "<Figure size 576x288 with 1 Axes>"
      ]
     },
     "metadata": {
      "needs_background": "light"
     },
     "output_type": "display_data"
    }
   ],
   "source": [
    "plt.figure(figsize=(8,4))\n",
    "plt.hist(all_event.flatten().numpy(), bins=4);"
   ]
  }
 ],
 "metadata": {
  "interpreter": {
   "hash": "18e97b579e8c0e40da8e2bba439fcd59aed88dbd21d3c026977017f366946867"
  },
  "kernelspec": {
   "display_name": "Python 3.8.3 ('base')",
   "language": "python",
   "name": "python3"
  },
  "language_info": {
   "codemirror_mode": {
    "name": "ipython",
    "version": 3
   },
   "file_extension": ".py",
   "mimetype": "text/x-python",
   "name": "python",
   "nbconvert_exporter": "python",
   "pygments_lexer": "ipython3",
   "version": "3.8.3"
  },
  "orig_nbformat": 4
 },
 "nbformat": 4,
 "nbformat_minor": 2
}
