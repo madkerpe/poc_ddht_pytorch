{
 "cells": [
  {
   "cell_type": "code",
   "execution_count": 1,
   "metadata": {},
   "outputs": [],
   "source": [
    "import numpy as np\n",
    "import pandas as pd\n",
    "import torch\n",
    "\n",
    "import matplotlib.pyplot as plt\n",
    "%matplotlib inline"
   ]
  },
  {
   "cell_type": "code",
   "execution_count": 2,
   "metadata": {},
   "outputs": [],
   "source": [
    "from torch.utils.data import DataLoader\n",
    "from poc_data import PocDataset, display_sample\n",
    "\n",
    "\n",
    "NUM_CASES = 2**10\n",
    "\n",
    "poc_raw_dataset = PocDataset(num_cases=NUM_CASES, test_set=False, repays=True, augment=True)\n",
    "data_loader = DataLoader(dataset=poc_raw_dataset,\n",
    "                        batch_size=NUM_CASES,\n",
    "                        shuffle=False,\n",
    "                        pin_memory=True)\n",
    "\n",
    "all_data, all_data_length, all_event, all_tte, all_meta = next(iter(data_loader))"
   ]
  },
  {
   "cell_type": "code",
   "execution_count": 3,
   "metadata": {},
   "outputs": [
    {
     "name": "stdout",
     "output_type": "stream",
     "text": [
      "tensor([228, 190, 465, 141])\n",
      "tensor([  0,   0,   0,   0,   0, 103,  46,  60,  65,  61,  52,  37,  51,  52,\n",
      "         36,  34,  38,  36,  40,  18,  28,  36,  35,  27, 169])\n"
     ]
    }
   ],
   "source": [
    "event_occurences = torch.bincount(all_event.flatten())\n",
    "length_occurences = torch.bincount(all_data_length.flatten())\n",
    "\n",
    "print(event_occurences)\n",
    "print(length_occurences)"
   ]
  },
  {
   "cell_type": "code",
   "execution_count": 4,
   "metadata": {},
   "outputs": [
    {
     "name": "stdout",
     "output_type": "stream",
     "text": [
      "tensor([False, False,  True,  ...,  True,  True, False])\n"
     ]
    }
   ],
   "source": [
    "print(all_meta['augmented'])"
   ]
  },
  {
   "cell_type": "code",
   "execution_count": 5,
   "metadata": {},
   "outputs": [
    {
     "name": "stdout",
     "output_type": "stream",
     "text": [
      "tensor([13])\n",
      "tensor([3])\n",
      "tensor(False)\n",
      "tensor(2)\n",
      "tensor(24)\n",
      "tensor([13])\n",
      "tensor([[  0.0000,  24.0000,  23.0000,  81.0177,  40.6990],\n",
      "        [  1.0000,  24.0000,  22.0000,  89.7661,   5.3390],\n",
      "        [  2.0000,  24.0000,  21.0000,  15.9839, -34.9296],\n",
      "        [  3.0000,  24.0000,  20.0000, -72.4938, -43.0841],\n",
      "        [  4.0000,  24.0000,  19.0000, -94.3210, -11.6273],\n",
      "        [  5.0000,  24.0000,  18.0000, -29.4299,  30.5196],\n",
      "        [  6.0000,  24.0000,  17.0000,  62.5189,  44.6069],\n",
      "        [  7.0000,  24.0000,  16.0000,  96.9881,  17.6828],\n",
      "        [  8.0000,  24.0000,  15.0000,  42.2869, -25.4988],\n",
      "        [  9.0000,  24.0000,  14.0000, -51.2927, -45.2369],\n",
      "        [ 10.0000,  24.0000,  13.0000, -97.7140, -23.3844],\n",
      "        [ 11.0000,  24.0000,  12.0000, -54.2976,  19.9676],\n",
      "        [ 12.0000,  24.0000,  11.0000,  39.0398,  44.9615],\n",
      "        [  0.0000,   0.0000,   0.0000,   0.0000,   0.0000],\n",
      "        [  0.0000,   0.0000,   0.0000,   0.0000,   0.0000],\n",
      "        [  0.0000,   0.0000,   0.0000,   0.0000,   0.0000],\n",
      "        [  0.0000,   0.0000,   0.0000,   0.0000,   0.0000],\n",
      "        [  0.0000,   0.0000,   0.0000,   0.0000,   0.0000],\n",
      "        [  0.0000,   0.0000,   0.0000,   0.0000,   0.0000],\n",
      "        [  0.0000,   0.0000,   0.0000,   0.0000,   0.0000],\n",
      "        [  0.0000,   0.0000,   0.0000,   0.0000,   0.0000],\n",
      "        [  0.0000,   0.0000,   0.0000,   0.0000,   0.0000],\n",
      "        [  0.0000,   0.0000,   0.0000,   0.0000,   0.0000],\n",
      "        [  0.0000,   0.0000,   0.0000,   0.0000,   0.0000]])\n"
     ]
    }
   ],
   "source": [
    "print(all_data_length[0])\n",
    "print(all_event[0])\n",
    "print(all_meta['augmented'][0])\n",
    "print(all_meta['ground_truth_event'][0])\n",
    "print(all_meta['age'][0])\n",
    "print(all_tte[0])\n",
    "print(all_data[0])"
   ]
  },
  {
   "cell_type": "code",
   "execution_count": 6,
   "metadata": {},
   "outputs": [
    {
     "name": "stdout",
     "output_type": "stream",
     "text": [
      "tensor([13])\n",
      "tensor([1])\n",
      "tensor(False)\n",
      "tensor(1)\n",
      "tensor(13)\n",
      "tensor([13])\n",
      "tensor([[  0.0000,  24.0000,  23.0000,   6.2465,  46.6733],\n",
      "        [  1.0000,  24.0000,  22.0000,  23.8531,   1.3431],\n",
      "        [  2.0000,  24.0000,  21.0000,  19.5294, -45.2219],\n",
      "        [  3.0000,  24.0000,  20.0000,  -2.7496, -50.2101],\n",
      "        [  4.0000,  24.0000,  19.0000, -22.5006,  -9.0354],\n",
      "        [  5.0000,  24.0000,  18.0000, -21.5646,  40.4464],\n",
      "        [  6.0000,  24.0000,  17.0000,  -0.8022,  52.7420],\n",
      "        [  7.0000,  24.0000,  16.0000,  20.6977,  16.5468],\n",
      "        [  8.0000,  24.0000,  15.0000,  23.1683, -34.8614],\n",
      "        [  9.0000,  24.0000,  14.0000,   4.3380, -54.2182],\n",
      "        [ 10.0000,  24.0000,  13.0000, -18.4806, -23.7270],\n",
      "        [ 11.0000,  24.0000,  12.0000, -24.3083,  28.5787],\n",
      "        [ 12.0000,  24.0000,  11.0000,  -7.7870,  54.6093],\n",
      "        [  0.0000,   0.0000,   0.0000,   0.0000,   0.0000],\n",
      "        [  0.0000,   0.0000,   0.0000,   0.0000,   0.0000],\n",
      "        [  0.0000,   0.0000,   0.0000,   0.0000,   0.0000],\n",
      "        [  0.0000,   0.0000,   0.0000,   0.0000,   0.0000],\n",
      "        [  0.0000,   0.0000,   0.0000,   0.0000,   0.0000],\n",
      "        [  0.0000,   0.0000,   0.0000,   0.0000,   0.0000],\n",
      "        [  0.0000,   0.0000,   0.0000,   0.0000,   0.0000],\n",
      "        [  0.0000,   0.0000,   0.0000,   0.0000,   0.0000],\n",
      "        [  0.0000,   0.0000,   0.0000,   0.0000,   0.0000],\n",
      "        [  0.0000,   0.0000,   0.0000,   0.0000,   0.0000],\n",
      "        [  0.0000,   0.0000,   0.0000,   0.0000,   0.0000]])\n"
     ]
    }
   ],
   "source": [
    "print(all_data_length[1])\n",
    "print(all_event[1])\n",
    "print(all_meta['augmented'][1])\n",
    "print(all_meta['ground_truth_event'][1])\n",
    "print(all_meta['age'][1])\n",
    "print(all_tte[1])\n",
    "print(all_data[1])"
   ]
  },
  {
   "cell_type": "code",
   "execution_count": 7,
   "metadata": {},
   "outputs": [
    {
     "name": "stdout",
     "output_type": "stream",
     "text": [
      "tensor([8])\n",
      "tensor([1])\n",
      "tensor(True)\n",
      "tensor(1)\n",
      "tensor(13)\n",
      "tensor([13])\n",
      "tensor([[  0.0000,  24.0000,  23.0000,   6.2465,  46.6733],\n",
      "        [  1.0000,  24.0000,  22.0000,  23.8531,   1.3431],\n",
      "        [  2.0000,  24.0000,  21.0000,  19.5294, -45.2219],\n",
      "        [  3.0000,  24.0000,  20.0000,  -2.7496, -50.2101],\n",
      "        [  4.0000,  24.0000,  19.0000, -22.5006,  -9.0354],\n",
      "        [  5.0000,  24.0000,  18.0000, -21.5646,  40.4464],\n",
      "        [  6.0000,  24.0000,  17.0000,  -0.8022,  52.7420],\n",
      "        [  7.0000,  24.0000,  16.0000,  20.6977,  16.5468],\n",
      "        [  0.0000,   0.0000,   0.0000,   0.0000,   0.0000],\n",
      "        [  0.0000,   0.0000,   0.0000,   0.0000,   0.0000],\n",
      "        [  0.0000,   0.0000,   0.0000,   0.0000,   0.0000],\n",
      "        [  0.0000,   0.0000,   0.0000,   0.0000,   0.0000],\n",
      "        [  0.0000,   0.0000,   0.0000,   0.0000,   0.0000],\n",
      "        [  0.0000,   0.0000,   0.0000,   0.0000,   0.0000],\n",
      "        [  0.0000,   0.0000,   0.0000,   0.0000,   0.0000],\n",
      "        [  0.0000,   0.0000,   0.0000,   0.0000,   0.0000],\n",
      "        [  0.0000,   0.0000,   0.0000,   0.0000,   0.0000],\n",
      "        [  0.0000,   0.0000,   0.0000,   0.0000,   0.0000],\n",
      "        [  0.0000,   0.0000,   0.0000,   0.0000,   0.0000],\n",
      "        [  0.0000,   0.0000,   0.0000,   0.0000,   0.0000],\n",
      "        [  0.0000,   0.0000,   0.0000,   0.0000,   0.0000],\n",
      "        [  0.0000,   0.0000,   0.0000,   0.0000,   0.0000],\n",
      "        [  0.0000,   0.0000,   0.0000,   0.0000,   0.0000],\n",
      "        [  0.0000,   0.0000,   0.0000,   0.0000,   0.0000]])\n"
     ]
    }
   ],
   "source": [
    "print(all_data_length[2])\n",
    "print(all_event[2])\n",
    "print(all_meta['augmented'][2])\n",
    "print(all_meta['ground_truth_event'][2])\n",
    "print(all_meta['age'][2])\n",
    "print(all_tte[2])\n",
    "print(all_data[2])"
   ]
  },
  {
   "cell_type": "code",
   "execution_count": 8,
   "metadata": {},
   "outputs": [
    {
     "name": "stdout",
     "output_type": "stream",
     "text": [
      "tensor([11])\n",
      "tensor([1])\n",
      "tensor(True)\n",
      "tensor(1)\n",
      "tensor(13)\n",
      "tensor([13])\n",
      "tensor([[  0.0000,  24.0000,  23.0000,   6.2465,  46.6733],\n",
      "        [  1.0000,  24.0000,  22.0000,  23.8531,   1.3431],\n",
      "        [  2.0000,  24.0000,  21.0000,  19.5294, -45.2219],\n",
      "        [  3.0000,  24.0000,  20.0000,  -2.7496, -50.2101],\n",
      "        [  4.0000,  24.0000,  19.0000, -22.5006,  -9.0354],\n",
      "        [  5.0000,  24.0000,  18.0000, -21.5646,  40.4464],\n",
      "        [  6.0000,  24.0000,  17.0000,  -0.8022,  52.7420],\n",
      "        [  7.0000,  24.0000,  16.0000,  20.6977,  16.5468],\n",
      "        [  8.0000,  24.0000,  15.0000,  23.1683, -34.8614],\n",
      "        [  9.0000,  24.0000,  14.0000,   4.3380, -54.2182],\n",
      "        [ 10.0000,  24.0000,  13.0000, -18.4806, -23.7270],\n",
      "        [  0.0000,   0.0000,   0.0000,   0.0000,   0.0000],\n",
      "        [  0.0000,   0.0000,   0.0000,   0.0000,   0.0000],\n",
      "        [  0.0000,   0.0000,   0.0000,   0.0000,   0.0000],\n",
      "        [  0.0000,   0.0000,   0.0000,   0.0000,   0.0000],\n",
      "        [  0.0000,   0.0000,   0.0000,   0.0000,   0.0000],\n",
      "        [  0.0000,   0.0000,   0.0000,   0.0000,   0.0000],\n",
      "        [  0.0000,   0.0000,   0.0000,   0.0000,   0.0000],\n",
      "        [  0.0000,   0.0000,   0.0000,   0.0000,   0.0000],\n",
      "        [  0.0000,   0.0000,   0.0000,   0.0000,   0.0000],\n",
      "        [  0.0000,   0.0000,   0.0000,   0.0000,   0.0000],\n",
      "        [  0.0000,   0.0000,   0.0000,   0.0000,   0.0000],\n",
      "        [  0.0000,   0.0000,   0.0000,   0.0000,   0.0000],\n",
      "        [  0.0000,   0.0000,   0.0000,   0.0000,   0.0000]])\n"
     ]
    }
   ],
   "source": [
    "print(all_data_length[3])\n",
    "print(all_event[3])\n",
    "print(all_meta['augmented'][3])\n",
    "print(all_meta['ground_truth_event'][3])\n",
    "print(all_meta['age'][3])\n",
    "print(all_tte[3])\n",
    "print(all_data[3])"
   ]
  },
  {
   "cell_type": "code",
   "execution_count": 9,
   "metadata": {},
   "outputs": [
    {
     "name": "stdout",
     "output_type": "stream",
     "text": [
      "tensor([24])\n",
      "tensor([2])\n",
      "tensor(False)\n",
      "tensor(2)\n",
      "tensor(24)\n",
      "tensor([24])\n",
      "tensor([[  0.0000,  24.0000,  23.0000,  41.5010,  40.7700],\n",
      "        [  1.0000,  24.0000,  22.0000,  66.5854,   5.3053],\n",
      "        [  2.0000,  24.0000,  21.0000,  30.4515, -35.0370],\n",
      "        [  3.0000,  24.0000,  20.0000, -33.6794, -43.1665],\n",
      "        [  4.0000,  24.0000,  19.0000, -66.8456, -11.6089],\n",
      "        [  5.0000,  24.0000,  18.0000, -38.5542,  30.6219],\n",
      "        [  6.0000,  24.0000,  17.0000,  25.1837,  44.6990],\n",
      "        [  7.0000,  24.0000,  16.0000,  65.7678,  17.6801],\n",
      "        [  8.0000,  24.0000,  15.0000,  45.8854, -25.5938],\n",
      "        [  9.0000,  24.0000,  14.0000, -16.1839, -45.3369],\n",
      "        [ 10.0000,  24.0000,  13.0000, -63.3738, -23.3974],\n",
      "        [ 11.0000,  24.0000,  12.0000, -52.2981,  20.0535],\n",
      "        [ 12.0000,  24.0000,  11.0000,   6.8602,  45.0674],\n",
      "        [ 13.0000,  24.0000,  10.0000,  59.7113,  28.6465],\n",
      "        [ 14.0000,  24.0000,   9.0000,  57.6641, -14.1119],\n",
      "        [ 15.0000,  24.0000,   8.0000,   2.6008, -43.8958],\n",
      "        [ 16.0000,  24.0000,   7.0000, -54.8536, -33.3222],\n",
      "        [ 17.0000,  24.0000,   6.0000, -61.8759,   7.8877],\n",
      "        [ 18.0000,  24.0000,   5.0000, -12.0097,  41.8457],\n",
      "        [ 19.0000,  24.0000,   4.0000,  48.8981,  37.3309],\n",
      "        [ 20.0000,  24.0000,   3.0000,  64.8493,  -1.5057],\n",
      "        [ 21.0000,  24.0000,   2.0000,  21.1783, -38.9580],\n",
      "        [ 22.0000,  24.0000,   1.0000, -41.9639, -40.5925],\n",
      "        [ 23.0000,  24.0000,   0.0000, -66.5247,  -4.9064]])\n"
     ]
    }
   ],
   "source": [
    "print(all_data_length[4])\n",
    "print(all_event[4])\n",
    "print(all_meta['augmented'][4])\n",
    "print(all_meta['ground_truth_event'][4])\n",
    "print(all_meta['age'][4])\n",
    "print(all_tte[4])\n",
    "print(all_data[4])"
   ]
  },
  {
   "cell_type": "code",
   "execution_count": 10,
   "metadata": {},
   "outputs": [
    {
     "name": "stdout",
     "output_type": "stream",
     "text": [
      "tensor([7])\n",
      "tensor([2])\n",
      "tensor(True)\n",
      "tensor(2)\n",
      "tensor(24)\n",
      "tensor([24])\n",
      "tensor([[  0.0000,  24.0000,  23.0000,  41.5010,  40.7700],\n",
      "        [  1.0000,  24.0000,  22.0000,  66.5854,   5.3053],\n",
      "        [  2.0000,  24.0000,  21.0000,  30.4515, -35.0370],\n",
      "        [  3.0000,  24.0000,  20.0000, -33.6794, -43.1665],\n",
      "        [  4.0000,  24.0000,  19.0000, -66.8456, -11.6089],\n",
      "        [  5.0000,  24.0000,  18.0000, -38.5542,  30.6219],\n",
      "        [  6.0000,  24.0000,  17.0000,  25.1837,  44.6990],\n",
      "        [  0.0000,   0.0000,   0.0000,   0.0000,   0.0000],\n",
      "        [  0.0000,   0.0000,   0.0000,   0.0000,   0.0000],\n",
      "        [  0.0000,   0.0000,   0.0000,   0.0000,   0.0000],\n",
      "        [  0.0000,   0.0000,   0.0000,   0.0000,   0.0000],\n",
      "        [  0.0000,   0.0000,   0.0000,   0.0000,   0.0000],\n",
      "        [  0.0000,   0.0000,   0.0000,   0.0000,   0.0000],\n",
      "        [  0.0000,   0.0000,   0.0000,   0.0000,   0.0000],\n",
      "        [  0.0000,   0.0000,   0.0000,   0.0000,   0.0000],\n",
      "        [  0.0000,   0.0000,   0.0000,   0.0000,   0.0000],\n",
      "        [  0.0000,   0.0000,   0.0000,   0.0000,   0.0000],\n",
      "        [  0.0000,   0.0000,   0.0000,   0.0000,   0.0000],\n",
      "        [  0.0000,   0.0000,   0.0000,   0.0000,   0.0000],\n",
      "        [  0.0000,   0.0000,   0.0000,   0.0000,   0.0000],\n",
      "        [  0.0000,   0.0000,   0.0000,   0.0000,   0.0000],\n",
      "        [  0.0000,   0.0000,   0.0000,   0.0000,   0.0000],\n",
      "        [  0.0000,   0.0000,   0.0000,   0.0000,   0.0000],\n",
      "        [  0.0000,   0.0000,   0.0000,   0.0000,   0.0000]])\n"
     ]
    }
   ],
   "source": [
    "print(all_data_length[5])\n",
    "print(all_event[5])\n",
    "print(all_meta['augmented'][5])\n",
    "print(all_meta['ground_truth_event'][5])\n",
    "print(all_meta['age'][5])\n",
    "print(all_tte[5])\n",
    "print(all_data[5])"
   ]
  },
  {
   "cell_type": "code",
   "execution_count": 11,
   "metadata": {},
   "outputs": [
    {
     "name": "stdout",
     "output_type": "stream",
     "text": [
      "sample 796 has length 9, tte 11, but will experience event 1 at time 11\n",
      "sample 484 has length 5, tte 24, but will experience event 2 at time 24\n",
      "sample 726 has length 13, tte 24, but will experience event 2 at time 24\n",
      "sample 338 has length 8, tte 24, but will experience event 2 at time 24\n",
      "sample 886 has length 24, tte 24, but will experience event 2 at time 24\n",
      "sample 240 has length 9, tte 24, but will experience event 2 at time 24\n",
      "sample 936 has length 5, tte 5, but will experience event 1 at time 5\n",
      "sample 74 has length 20, tte 24, but will experience event 2 at time 24\n",
      "sample 618 has length 13, tte 13, but will experience event 0 at time 13\n",
      "sample 961 has length 5, tte 5, but will experience event 0 at time 5\n"
     ]
    }
   ],
   "source": [
    "for i in range(10):\n",
    "    sample_id = int(torch.randint(NUM_CASES, (1,)))\n",
    "    print(\"sample %d has length %d, tte %d, but will experience event %d at time %d\" % (sample_id, all_data_length[sample_id], all_tte[sample_id], all_meta['ground_truth_event'][sample_id], all_meta['age'][sample_id]))"
   ]
  },
  {
   "cell_type": "code",
   "execution_count": 12,
   "metadata": {},
   "outputs": [
    {
     "data": {
      "image/png": "[encoded data removed]",
      "text/plain": [
       "<Figure size 576x288 with 1 Axes>"
      ]
     },
     "metadata": {
      "needs_background": "light"
     },
     "output_type": "display_data"
    }
   ],
   "source": [
    "plt.figure(figsize=(8,4))\n",
    "plt.hist(all_data_length.flatten().numpy(), bins=24-5);"
   ]
  },
  {
   "cell_type": "code",
   "execution_count": 13,
   "metadata": {},
   "outputs": [
    {
     "data": {
      "image/png": "[encoded data removed]",
      "text/plain": [
       "<Figure size 576x288 with 1 Axes>"
      ]
     },
     "metadata": {
      "needs_background": "light"
     },
     "output_type": "display_data"
    }
   ],
   "source": [
    "plt.figure(figsize=(8,4))\n",
    "plt.hist(all_event.flatten().numpy(), bins=4);"
   ]
  }
 ],
 "metadata": {
  "interpreter": {
   "hash": "18e97b579e8c0e40da8e2bba439fcd59aed88dbd21d3c026977017f366946867"
  },
  "kernelspec": {
   "display_name": "Python 3.8.3 ('base')",
   "language": "python",
   "name": "python3"
  },
  "language_info": {
   "codemirror_mode": {
    "name": "ipython",
    "version": 3
   },
   "file_extension": ".py",
   "mimetype": "text/x-python",
   "name": "python",
   "nbconvert_exporter": "python",
   "pygments_lexer": "ipython3",
   "version": "3.8.3"
  },
  "orig_nbformat": 4
 },
 "nbformat": 4,
 "nbformat_minor": 2
}
