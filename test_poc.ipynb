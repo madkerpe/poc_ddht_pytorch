{
 "cells": [
  {
   "cell_type": "code",
   "execution_count": 1,
   "metadata": {},
   "outputs": [],
   "source": [
    "import numpy as np\n",
    "import pandas as pd\n",
    "import torch\n",
    "\n",
    "import matplotlib.pyplot as plt\n",
    "%matplotlib inline"
   ]
  },
  {
   "cell_type": "code",
   "execution_count": 2,
   "metadata": {},
   "outputs": [],
   "source": [
    "from torch.utils.data import DataLoader\n",
    "from poc_data import PocDataset, display_sample\n",
    "\n",
    "\n",
    "NUM_CASES = 2**10\n",
    "\n",
    "poc_raw_dataset = PocDataset(num_cases=NUM_CASES, generate_meta=True, test_set=True, repays=False)\n",
    "data_loader = DataLoader(dataset=poc_raw_dataset,\n",
    "                        batch_size=NUM_CASES,\n",
    "                        shuffle=False,\n",
    "                        pin_memory=True)\n",
    "\n",
    "all_data, all_data_length, all_event, all_meta = next(iter(data_loader))"
   ]
  },
  {
   "cell_type": "code",
   "execution_count": 3,
   "metadata": {},
   "outputs": [
    {
     "name": "stdout",
     "output_type": "stream",
     "text": [
      "tensor([   0,    0, 1024])\n",
      "tensor([ 0,  0,  0,  0,  0,  0, 99, 87, 94, 77, 68, 57, 48, 57, 51, 44, 41, 35,\n",
      "        34, 37, 37, 20, 23, 25,  8, 20,  9, 13,  8,  8, 13,  2,  2,  3,  4])\n"
     ]
    }
   ],
   "source": [
    "event_occurences = torch.bincount(all_event.flatten())\n",
    "length_occurences = torch.bincount(all_data_length.flatten())\n",
    "\n",
    "print(event_occurences)\n",
    "print(length_occurences)"
   ]
  },
  {
   "cell_type": "code",
   "execution_count": 4,
   "metadata": {},
   "outputs": [
    {
     "name": "stdout",
     "output_type": "stream",
     "text": [
      "torch.Size([1024])\n"
     ]
    }
   ],
   "source": [
    "print(all_meta['age'].shape)"
   ]
  },
  {
   "cell_type": "code",
   "execution_count": 5,
   "metadata": {},
   "outputs": [
    {
     "name": "stdout",
     "output_type": "stream",
     "text": [
      "sample 242 has length 12, but will experience event 0 at time 21\n",
      "sample 513 has length 22, but will experience event 0 at time 24\n",
      "sample 381 has length 30, but will experience event 1 at time 33\n",
      "sample 326 has length 22, but will experience event 0 at time 29\n",
      "sample 953 has length 16, but will experience event 0 at time 29\n",
      "sample 748 has length 15, but will experience event 1 at time 19\n",
      "sample 296 has length 7, but will experience event 1 at time 28\n",
      "sample 395 has length 13, but will experience event 1 at time 35\n",
      "sample 48 has length 6, but will experience event 1 at time 30\n",
      "sample 729 has length 13, but will experience event 0 at time 27\n"
     ]
    }
   ],
   "source": [
    "for i in range(10):\n",
    "    sample_id = int(torch.randint(NUM_CASES, (1,)))\n",
    "    print(\"sample %d has length %d, but will experience event %d at time %d\" % (sample_id, all_data_length[sample_id], all_meta['ground_truth_event'][sample_id], all_meta['age'][sample_id]))"
   ]
  },
  {
   "cell_type": "code",
   "execution_count": 6,
   "metadata": {},
   "outputs": [
    {
     "data": {
      "image/png": "[encoded data removed]",
      "text/plain": [
       "<Figure size 576x288 with 1 Axes>"
      ]
     },
     "metadata": {
      "needs_background": "light"
     },
     "output_type": "display_data"
    }
   ],
   "source": [
    "plt.figure(figsize=(8,4))\n",
    "plt.hist(all_data_length.flatten().numpy(), bins=30);"
   ]
  },
  {
   "cell_type": "code",
   "execution_count": 9,
   "metadata": {},
   "outputs": [
    {
     "data": {
      "image/png": "[encoded data removed]",
      "text/plain": [
       "<Figure size 576x288 with 1 Axes>"
      ]
     },
     "metadata": {
      "needs_background": "light"
     },
     "output_type": "display_data"
    }
   ],
   "source": [
    "plt.figure(figsize=(8,4))\n",
    "plt.hist(all_event.flatten().numpy(), bins=3);"
   ]
  },
  {
   "cell_type": "code",
   "execution_count": null,
   "metadata": {},
   "outputs": [],
   "source": []
  }
 ],
 "metadata": {
  "interpreter": {
   "hash": "18e97b579e8c0e40da8e2bba439fcd59aed88dbd21d3c026977017f366946867"
  },
  "kernelspec": {
   "display_name": "Python 3.8.3 ('base')",
   "language": "python",
   "name": "python3"
  },
  "language_info": {
   "codemirror_mode": {
    "name": "ipython",
    "version": 3
   },
   "file_extension": ".py",
   "mimetype": "text/x-python",
   "name": "python",
   "nbconvert_exporter": "python",
   "pygments_lexer": "ipython3",
   "version": "3.8.3"
  },
  "orig_nbformat": 4
 },
 "nbformat": 4,
 "nbformat_minor": 2
}
