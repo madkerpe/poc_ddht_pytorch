{
 "cells": [
  {
   "cell_type": "code",
   "execution_count": null,
   "metadata": {},
   "outputs": [],
   "source": [
    "import numpy as np\n",
    "import pandas as pd\n",
    "import torch\n",
    "\n",
    "import matplotlib.pyplot as plt\n",
    "%matplotlib inline"
   ]
  },
  {
   "cell_type": "code",
   "execution_count": null,
   "metadata": {},
   "outputs": [],
   "source": [
    "from torch.utils.data import DataLoader\n",
    "from poc_data import PocDataset, display_sample\n",
    "\n",
    "\n",
    "NUM_CASES = 2**10\n",
    "\n",
    "poc_raw_dataset = PocDataset(num_cases=NUM_CASES, test_set=False, repays=True, augment=True)\n",
    "data_loader = DataLoader(dataset=poc_raw_dataset,\n",
    "                        batch_size=NUM_CASES,\n",
    "                        shuffle=False,\n",
    "                        pin_memory=True)\n",
    "\n",
    "all_data, all_data_length, all_event, all_tte, all_meta = next(iter(data_loader))"
   ]
  },
  {
   "cell_type": "code",
   "execution_count": null,
   "metadata": {},
   "outputs": [],
   "source": [
    "event_occurences = torch.bincount(all_event.flatten())\n",
    "length_occurences = torch.bincount(all_data_length.flatten())\n",
    "\n",
    "print(event_occurences)\n",
    "print(length_occurences)"
   ]
  },
  {
   "cell_type": "code",
   "execution_count": null,
   "metadata": {},
   "outputs": [],
   "source": [
    "print(all_meta['augmented'])"
   ]
  },
  {
   "cell_type": "code",
   "execution_count": null,
   "metadata": {},
   "outputs": [],
   "source": [
    "print(all_data_length[2])\n",
    "print(all_event[2])\n",
    "print(all_meta['augmented'][2])\n",
    "print(all_meta['ground_truth_event'][2])\n",
    "print(all_meta['age'][2])\n",
    "print(all_tte[2])\n",
    "print(all_data[2])"
   ]
  },
  {
   "cell_type": "code",
   "execution_count": null,
   "metadata": {},
   "outputs": [],
   "source": [
    "print(all_data_length[3])\n",
    "print(all_event[3])\n",
    "print(all_meta['augmented'][3])\n",
    "print(all_meta['ground_truth_event'][3])\n",
    "print(all_meta['age'][3])\n",
    "print(all_tte[3])\n",
    "print(all_data[3])"
   ]
  },
  {
   "cell_type": "code",
   "execution_count": null,
   "metadata": {},
   "outputs": [],
   "source": [
    "print(all_data_length[4])\n",
    "print(all_event[4])\n",
    "print(all_meta['augmented'][4])\n",
    "print(all_meta['ground_truth_event'][4])\n",
    "print(all_meta['age'][4])\n",
    "print(all_tte[4])\n",
    "print(all_data[4])"
   ]
  },
  {
   "cell_type": "code",
   "execution_count": null,
   "metadata": {},
   "outputs": [],
   "source": [
    "print(all_data_length[5])\n",
    "print(all_event[5])\n",
    "print(all_meta['augmented'][5])\n",
    "print(all_meta['ground_truth_event'][5])\n",
    "print(all_meta['age'][5])\n",
    "print(all_tte[5])\n",
    "print(all_data[5])"
   ]
  },
  {
   "cell_type": "code",
   "execution_count": null,
   "metadata": {},
   "outputs": [],
   "source": [
    "for i in range(10):\n",
    "    sample_id = int(torch.randint(NUM_CASES, (1,)))\n",
    "    print(\"sample %d has length %d, but will experience event %d at time %d\" % (sample_id, all_data_length[sample_id], all_meta['ground_truth_event'][sample_id], all_meta['age'][sample_id]))"
   ]
  },
  {
   "cell_type": "code",
   "execution_count": null,
   "metadata": {},
   "outputs": [],
   "source": [
    "plt.figure(figsize=(8,4))\n",
    "plt.hist(all_data_length.flatten().numpy(), bins=24-5);"
   ]
  },
  {
   "cell_type": "code",
   "execution_count": null,
   "metadata": {},
   "outputs": [],
   "source": [
    "plt.figure(figsize=(8,4))\n",
    "plt.hist(all_event.flatten().numpy(), bins=4);"
   ]
  }
 ],
 "metadata": {
  "interpreter": {
   "hash": "18e97b579e8c0e40da8e2bba439fcd59aed88dbd21d3c026977017f366946867"
  },
  "kernelspec": {
   "display_name": "Python 3.8.3 ('base')",
   "language": "python",
   "name": "python3"
  },
  "language_info": {
   "codemirror_mode": {
    "name": "ipython",
    "version": 3
   },
   "file_extension": ".py",
   "mimetype": "text/x-python",
   "name": "python",
   "nbconvert_exporter": "python",
   "pygments_lexer": "ipython3",
   "version": "3.8.3"
  },
  "orig_nbformat": 4
 },
 "nbformat": 4,
 "nbformat_minor": 2
}
